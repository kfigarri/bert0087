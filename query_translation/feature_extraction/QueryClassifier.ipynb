{
  "nbformat": 4,
  "nbformat_minor": 0,
  "metadata": {
    "colab": {
      "provenance": []
    },
    "kernelspec": {
      "name": "python3",
      "display_name": "Python 3"
    },
    "language_info": {
      "name": "python"
    }
  },
 "cells": [
    {
      "cell_type": "code",
      "source": [
        "from google.colab import drive\n",
        "drive.mount('/content/drive')"
      ],
      "metadata": {
        "id": "Gdr7c-fx5ugp",
        "colab": {
          "base_uri": "https://localhost:8080/"
        },
        "outputId": "88694b25-ae01-4629-8f31-af73c376a628"
      },
      "execution_count": null,
      "outputs": [
        {
          "output_type": "stream",
          "name": "stdout",
          "text": [
            "Mounted at /content/drive\n"
          ]
        }
      ]
    },
    {
      "cell_type": "code",
      "source": [
        "!pip install datasets"
      ],
      "metadata": {
        "colab": {
          "base_uri": "https://localhost:8080/"
        },
        "id": "ElJiGJFMBvkm",
        "outputId": "ff7d9ffd-9e7f-4cf6-b3de-a2bc032da6c8"
      },
      "execution_count": null,
      "outputs": [
        {
          "output_type": "stream",
          "name": "stdout",
          "text": [
            "Collecting datasets\n",
            "  Downloading datasets-3.4.1-py3-none-any.whl.metadata (19 kB)\n",
            "Requirement already satisfied: filelock in /usr/local/lib/python3.11/dist-packages (from datasets) (3.18.0)\n",
            "Requirement already satisfied: numpy>=1.17 in /usr/local/lib/python3.11/dist-packages (from datasets) (2.0.2)\n",
            "Requirement already satisfied: pyarrow>=15.0.0 in /usr/local/lib/python3.11/dist-packages (from datasets) (18.1.0)\n",
            "Collecting dill<0.3.9,>=0.3.0 (from datasets)\n",
            "  Downloading dill-0.3.8-py3-none-any.whl.metadata (10 kB)\n",
            "Requirement already satisfied: pandas in /usr/local/lib/python3.11/dist-packages (from datasets) (2.2.2)\n",
            "Requirement already satisfied: requests>=2.32.2 in /usr/local/lib/python3.11/dist-packages (from datasets) (2.32.3)\n",
            "Requirement already satisfied: tqdm>=4.66.3 in /usr/local/lib/python3.11/dist-packages (from datasets) (4.67.1)\n",
            "Collecting xxhash (from datasets)\n",
            "  Downloading xxhash-3.5.0-cp311-cp311-manylinux_2_17_x86_64.manylinux2014_x86_64.whl.metadata (12 kB)\n",
            "Collecting multiprocess<0.70.17 (from datasets)\n",
            "  Downloading multiprocess-0.70.16-py311-none-any.whl.metadata (7.2 kB)\n",
            "Collecting fsspec<=2024.12.0,>=2023.1.0 (from fsspec[http]<=2024.12.0,>=2023.1.0->datasets)\n",
            "  Downloading fsspec-2024.12.0-py3-none-any.whl.metadata (11 kB)\n",
            "Requirement already satisfied: aiohttp in /usr/local/lib/python3.11/dist-packages (from datasets) (3.11.14)\n",
            "Requirement already satisfied: huggingface-hub>=0.24.0 in /usr/local/lib/python3.11/dist-packages (from datasets) (0.29.3)\n",
            "Requirement already satisfied: packaging in /usr/local/lib/python3.11/dist-packages (from datasets) (24.2)\n",
            "Requirement already satisfied: pyyaml>=5.1 in /usr/local/lib/python3.11/dist-packages (from datasets) (6.0.2)\n",
            "Requirement already satisfied: aiohappyeyeballs>=2.3.0 in /usr/local/lib/python3.11/dist-packages (from aiohttp->datasets) (2.6.1)\n",
            "Requirement already satisfied: aiosignal>=1.1.2 in /usr/local/lib/python3.11/dist-packages (from aiohttp->datasets) (1.3.2)\n",
            "Requirement already satisfied: attrs>=17.3.0 in /usr/local/lib/python3.11/dist-packages (from aiohttp->datasets) (25.3.0)\n",
            "Requirement already satisfied: frozenlist>=1.1.1 in /usr/local/lib/python3.11/dist-packages (from aiohttp->datasets) (1.5.0)\n",
            "Requirement already satisfied: multidict<7.0,>=4.5 in /usr/local/lib/python3.11/dist-packages (from aiohttp->datasets) (6.2.0)\n",
            "Requirement already satisfied: propcache>=0.2.0 in /usr/local/lib/python3.11/dist-packages (from aiohttp->datasets) (0.3.0)\n",
            "Requirement already satisfied: yarl<2.0,>=1.17.0 in /usr/local/lib/python3.11/dist-packages (from aiohttp->datasets) (1.18.3)\n",
            "Requirement already satisfied: typing-extensions>=3.7.4.3 in /usr/local/lib/python3.11/dist-packages (from huggingface-hub>=0.24.0->datasets) (4.12.2)\n",
            "Requirement already satisfied: charset-normalizer<4,>=2 in /usr/local/lib/python3.11/dist-packages (from requests>=2.32.2->datasets) (3.4.1)\n",
            "Requirement already satisfied: idna<4,>=2.5 in /usr/local/lib/python3.11/dist-packages (from requests>=2.32.2->datasets) (3.10)\n",
            "Requirement already satisfied: urllib3<3,>=1.21.1 in /usr/local/lib/python3.11/dist-packages (from requests>=2.32.2->datasets) (2.3.0)\n",
            "Requirement already satisfied: certifi>=2017.4.17 in /usr/local/lib/python3.11/dist-packages (from requests>=2.32.2->datasets) (2025.1.31)\n",
            "Requirement already satisfied: python-dateutil>=2.8.2 in /usr/local/lib/python3.11/dist-packages (from pandas->datasets) (2.8.2)\n",
            "Requirement already satisfied: pytz>=2020.1 in /usr/local/lib/python3.11/dist-packages (from pandas->datasets) (2025.1)\n",
            "Requirement already satisfied: tzdata>=2022.7 in /usr/local/lib/python3.11/dist-packages (from pandas->datasets) (2025.1)\n",
            "Requirement already satisfied: six>=1.5 in /usr/local/lib/python3.11/dist-packages (from python-dateutil>=2.8.2->pandas->datasets) (1.17.0)\n",
            "Downloading datasets-3.4.1-py3-none-any.whl (487 kB)\n",
            "\u001b[2K   \u001b[90m━━━━━━━━━━━━━━━━━━━━━━━━━━━━━━━━━━━━━━━━\u001b[0m \u001b[32m487.4/487.4 kB\u001b[0m \u001b[31m13.1 MB/s\u001b[0m eta \u001b[36m0:00:00\u001b[0m\n",
            "\u001b[?25hDownloading dill-0.3.8-py3-none-any.whl (116 kB)\n",
            "\u001b[2K   \u001b[90m━━━━━━━━━━━━━━━━━━━━━━━━━━━━━━━━━━━━━━━━\u001b[0m \u001b[32m116.3/116.3 kB\u001b[0m \u001b[31m9.2 MB/s\u001b[0m eta \u001b[36m0:00:00\u001b[0m\n",
            "\u001b[?25hDownloading fsspec-2024.12.0-py3-none-any.whl (183 kB)\n",
            "\u001b[2K   \u001b[90m━━━━━━━━━━━━━━━━━━━━━━━━━━━━━━━━━━━━━━━━\u001b[0m \u001b[32m183.9/183.9 kB\u001b[0m \u001b[31m13.2 MB/s\u001b[0m eta \u001b[36m0:00:00\u001b[0m\n",
            "\u001b[?25hDownloading multiprocess-0.70.16-py311-none-any.whl (143 kB)\n",
            "\u001b[2K   \u001b[90m━━━━━━━━━━━━━━━━━━━━━━━━━━━━━━━━━━━━━━━━\u001b[0m \u001b[32m143.5/143.5 kB\u001b[0m \u001b[31m7.1 MB/s\u001b[0m eta \u001b[36m0:00:00\u001b[0m\n",
            "\u001b[?25hDownloading xxhash-3.5.0-cp311-cp311-manylinux_2_17_x86_64.manylinux2014_x86_64.whl (194 kB)\n",
            "\u001b[2K   \u001b[90m━━━━━━━━━━━━━━━━━━━━━━━━━━━━━━━━━━━━━━━━\u001b[0m \u001b[32m194.8/194.8 kB\u001b[0m \u001b[31m11.3 MB/s\u001b[0m eta \u001b[36m0:00:00\u001b[0m\n",
            "\u001b[?25hInstalling collected packages: xxhash, fsspec, dill, multiprocess, datasets\n",
            "  Attempting uninstall: fsspec\n",
            "    Found existing installation: fsspec 2025.3.0\n",
            "    Uninstalling fsspec-2025.3.0:\n",
            "      Successfully uninstalled fsspec-2025.3.0\n",
            "\u001b[31mERROR: pip's dependency resolver does not currently take into account all the packages that are installed. This behaviour is the source of the following dependency conflicts.\n",
            "gcsfs 2025.3.0 requires fsspec==2025.3.0, but you have fsspec 2024.12.0 which is incompatible.\n",
            "torch 2.6.0+cu124 requires nvidia-cublas-cu12==12.4.5.8; platform_system == \"Linux\" and platform_machine == \"x86_64\", but you have nvidia-cublas-cu12 12.5.3.2 which is incompatible.\n",
            "torch 2.6.0+cu124 requires nvidia-cuda-cupti-cu12==12.4.127; platform_system == \"Linux\" and platform_machine == \"x86_64\", but you have nvidia-cuda-cupti-cu12 12.5.82 which is incompatible.\n",
            "torch 2.6.0+cu124 requires nvidia-cuda-nvrtc-cu12==12.4.127; platform_system == \"Linux\" and platform_machine == \"x86_64\", but you have nvidia-cuda-nvrtc-cu12 12.5.82 which is incompatible.\n",
            "torch 2.6.0+cu124 requires nvidia-cuda-runtime-cu12==12.4.127; platform_system == \"Linux\" and platform_machine == \"x86_64\", but you have nvidia-cuda-runtime-cu12 12.5.82 which is incompatible.\n",
            "torch 2.6.0+cu124 requires nvidia-cudnn-cu12==9.1.0.70; platform_system == \"Linux\" and platform_machine == \"x86_64\", but you have nvidia-cudnn-cu12 9.3.0.75 which is incompatible.\n",
            "torch 2.6.0+cu124 requires nvidia-cufft-cu12==11.2.1.3; platform_system == \"Linux\" and platform_machine == \"x86_64\", but you have nvidia-cufft-cu12 11.2.3.61 which is incompatible.\n",
            "torch 2.6.0+cu124 requires nvidia-curand-cu12==10.3.5.147; platform_system == \"Linux\" and platform_machine == \"x86_64\", but you have nvidia-curand-cu12 10.3.6.82 which is incompatible.\n",
            "torch 2.6.0+cu124 requires nvidia-cusolver-cu12==11.6.1.9; platform_system == \"Linux\" and platform_machine == \"x86_64\", but you have nvidia-cusolver-cu12 11.6.3.83 which is incompatible.\n",
            "torch 2.6.0+cu124 requires nvidia-cusparse-cu12==12.3.1.170; platform_system == \"Linux\" and platform_machine == \"x86_64\", but you have nvidia-cusparse-cu12 12.5.1.3 which is incompatible.\n",
            "torch 2.6.0+cu124 requires nvidia-nvjitlink-cu12==12.4.127; platform_system == \"Linux\" and platform_machine == \"x86_64\", but you have nvidia-nvjitlink-cu12 12.5.82 which is incompatible.\u001b[0m\u001b[31m\n",
            "\u001b[0mSuccessfully installed datasets-3.4.1 dill-0.3.8 fsspec-2024.12.0 multiprocess-0.70.16 xxhash-3.5.0\n"
          ]
        }
      ]
    },
    {
      "cell_type": "code",
      "source": [
        "import pandas as pd\n",
        "import numpy as np\n",
        "import matplotlib.pyplot as plt\n",
        "import seaborn as sns\n",
        "import os\n",
        "import re\n",
        "from sklearn.model_selection import train_test_split\n",
        "from transformers import AutoTokenizer, AutoModelForSequenceClassification, Trainer, TrainingArguments, DataCollatorWithPadding\n",
        "from sklearn import preprocessing\n",
        "from datasets import Dataset\n",
        "from sklearn.metrics import accuracy_score, precision_recall_fscore_support\n",
        "from sklearn.feature_extraction.text import TfidfVectorizer\n",
        "from sklearn.ensemble import RandomForestClassifier\n",
        "from sklearn.metrics import (\n",
        "    classification_report,\n",
        "    accuracy_score,\n",
        "    confusion_matrix,\n",
        "    precision_score,\n",
        "    recall_score,\n",
        "    f1_score\n",
        ")\n",
        "from transformers import TextClassificationPipeline\n",
        "import torch\n",
        "import os\n",
        "import joblib\n",
        "import json\n",
        "import warnings\n",
        "warnings.filterwarnings('ignore')"
      ],
      "metadata": {
        "id": "LJh-ykts55Uk"
      },
      "execution_count": null,
      "outputs": []
    },
    {
      "cell_type": "code",
      "source": [
        "df1 = pd.read_csv(\"/content/drive/MyDrive/SNLP_Project/sample_benchmarks/VagueQueries_Llama3.csv\")\n",
        "df2 = pd.read_csv(\"/content/drive/MyDrive/SNLP_Project/sample_benchmarks/VerboseQueries_Llama3.csv\")"
      ],
      "metadata": {
        "id": "U-zkklVD6tRx"
      },
      "execution_count": null,
      "outputs": []
    },
    {
      "cell_type": "code",
      "source": [
        "df1 = df1[df1['Type'] != 'Verbose']"
      ],
      "metadata": {
        "id": "Vp90yHql7Key"
      },
      "execution_count": null,
      "outputs": []
    },
    {
      "cell_type": "code",
      "source": [
        "df1['Type'].value_counts()"
      ],
      "metadata": {
        "colab": {
          "base_uri": "https://localhost:8080/",
          "height": 146
        },
        "id": "N77UQCqi7vN5",
        "outputId": "15e38734-50d6-462a-9788-3723d9ad409d"
      },
      "execution_count": null,
      "outputs": [
        {
          "output_type": "execute_result",
          "data": {
            "text/plain": [
              "Type\n",
              "vague    774\n",
              "Name: count, dtype: int64"
            ],
            "text/html": [
              "<div>\n",
              "<style scoped>\n",
              "    .dataframe tbody tr th:only-of-type {\n",
              "        vertical-align: middle;\n",
              "    }\n",
              "\n",
              "    .dataframe tbody tr th {\n",
              "        vertical-align: top;\n",
              "    }\n",
              "\n",
              "    .dataframe thead th {\n",
              "        text-align: right;\n",
              "    }\n",
              "</style>\n",
              "<table border=\"1\" class=\"dataframe\">\n",
              "  <thead>\n",
              "    <tr style=\"text-align: right;\">\n",
              "      <th></th>\n",
              "      <th>count</th>\n",
              "    </tr>\n",
              "    <tr>\n",
              "      <th>Type</th>\n",
              "      <th></th>\n",
              "    </tr>\n",
              "  </thead>\n",
              "  <tbody>\n",
              "    <tr>\n",
              "      <th>vague</th>\n",
              "      <td>774</td>\n",
              "    </tr>\n",
              "  </tbody>\n",
              "</table>\n",
              "</div><br><label><b>dtype:</b> int64</label>"
            ]
          },
          "metadata": {},
          "execution_count": 6
        }
      ]
    },
    {
      "cell_type": "code",
      "source": [
        "df1.isna().sum()"
      ],
      "metadata": {
        "id": "w40SOMeD8Bcu"
      },
      "execution_count": null,
      "outputs": []
    },
    {
      "cell_type": "code",
      "source": [
        "df1['RewrittenQuery'] = df1['RewrittenQuery'].replace([\"\", \" \", \"NaN\", np.nan], np.nan)\n",
        "df1 = df1.dropna(subset=[\"RewrittenQuery\"]).reset_index(drop=True)\n"
      ],
      "metadata": {
        "id": "JemlQEPV8Jco"
      },
      "execution_count": null,
      "outputs": []
    },
    {
      "cell_type": "code",
      "source": [
        "df1['Type'].value_counts()"
      ],
      "metadata": {
        "id": "N9O0oz439FHi"
      },
      "execution_count": null,
      "outputs": []
    },
    {
      "cell_type": "code",
      "source": [
        "df2['Type'].value_counts()"
      ],
      "metadata": {
        "id": "JWH-Xq0d76x5"
      },
      "execution_count": null,
      "outputs": []
    },
    {
      "cell_type": "code",
      "source": [
        "df2.isna().sum()"
      ],
      "metadata": {
        "id": "6kNy2DlL8EBZ"
      },
      "execution_count": null,
      "outputs": []
    },
    {
      "cell_type": "code",
      "source": [
        "df = pd.concat([\n",
        "    df1.drop('OriginalQuery', axis=1),\n",
        "    df2.drop('OriginalQuery', axis=1)\n",
        "], ignore_index=True)\n"
      ],
      "metadata": {
        "id": "Eizv_UPd7aKr"
      },
      "execution_count": null,
      "outputs": []
    },
    {
      "cell_type": "code",
      "source": [
        "df.shape"
      ],
      "metadata": {
        "id": "CZc4Ydg77aEJ"
      },
      "execution_count": null,
      "outputs": []
    },
    {
      "cell_type": "code",
      "source": [
        "df['Type'].value_counts()"
      ],
      "metadata": {
        "id": "-0v-2L5N7Z-c"
      },
      "execution_count": null,
      "outputs": []
    },
    {
      "cell_type": "code",
      "source": [
        "class TextCleaner():\n",
        "    def __init__(self):\n",
        "        pass\n",
        "\n",
        "    def clean_text(self, text):\n",
        "        if not isinstance(text, str):\n",
        "            return text  # Return unchanged if not a string\n",
        "\n",
        "        # Strip leading/trailing quotes, spaces, tabs, newlines\n",
        "        text = text.strip(' \"\\'\\n\\t')\n",
        "\n",
        "        # Remove long sequences of dashes, even with spaces between\n",
        "        text = re.sub(r\"(-\\s*){3,}\", \"\", text)\n",
        "\n",
        "        # Optionally strip again after dash removal\n",
        "        text = text.strip()\n",
        "\n",
        "        return text\n",
        "\n",
        "# Apply to your DataFrame\n",
        "cleaner = TextCleaner()\n",
        "df['RewrittenQuery'] = df['RewrittenQuery'].apply(cleaner.clean_text)\n"
      ],
      "metadata": {
        "id": "Iwn4xdtB-Vog"
      },
      "execution_count": null,
      "outputs": []
    },
    {
      "cell_type": "code",
      "source": [
        "df.head()"
      ],
      "metadata": {
        "id": "ffXFvSzk-eK4"
      },
      "execution_count": null,
      "outputs": []
    },
    {
      "cell_type": "code",
      "source": [
        "df = df.sample(frac=1, random_state=42).reset_index(drop=True)\n"
      ],
      "metadata": {
        "id": "X0RyAGfa7ZGs"
      },
      "execution_count": null,
      "outputs": []
    },
    {
      "cell_type": "code",
      "source": [
        "df.head(10)"
      ],
      "metadata": {
        "id": "J9v2BUEg_Mk6"
      },
      "execution_count": null,
      "outputs": []
    },
    {
      "cell_type": "code",
      "source": [
        "# Split first\n",
        "train_df, test_df = train_test_split(df, test_size=0.2, stratify=df[\"Type\"])\n",
        "\n",
        "# Fit encoder only on training data\n",
        "label_encoder = preprocessing.LabelEncoder()\n",
        "train_df['Type'] = label_encoder.fit_transform(train_df['Type'])\n",
        "\n",
        "# Use same encoder on test set\n",
        "test_df['Type'] = label_encoder.transform(test_df['Type'])\n"
      ],
      "metadata": {
        "id": "YaPbQurXAHfJ"
      },
      "execution_count": null,
      "outputs": []
    },
    {
      "cell_type": "code",
      "source": [
        "print(label_encoder.classes_)\n"
      ],
      "metadata": {
        "id": "uQw-PYgjC0BB"
      },
      "execution_count": null,
      "outputs": []
    },
    {
      "cell_type": "markdown",
      "source": [
        "#Training Distillbert"
      ],
      "metadata": {
        "id": "XQ0QQMqNEZHz"
      }
    },
    {
      "cell_type": "code",
      "source": [
        "# Rename 'Type' column to 'labels' before tokenizing\n",
        "train_df = train_df.rename(columns={\"Type\": \"labels\"})\n",
        "test_df = test_df.rename(columns={\"Type\": \"labels\"})"
      ],
      "metadata": {
        "id": "Q-Gy107xGKGy"
      },
      "execution_count": null,
      "outputs": []
    },
    {
      "cell_type": "code",
      "source": [
        "tokenizer = AutoTokenizer.from_pretrained(\"distilbert-base-uncased\")\n",
        "\n",
        "# Convert datasets to tokenized format\n",
        "train_dataset = Dataset.from_pandas(train_df)\n",
        "test_dataset = Dataset.from_pandas(test_df)\n",
        "\n",
        "def tokenize_data(examples):\n",
        "    return tokenizer(examples[\"RewrittenQuery\"], truncation=True)\n",
        "\n",
        "tokenized_train = train_dataset.map(tokenize_data, batched=True)\n",
        "tokenized_test = test_dataset.map(tokenize_data, batched=True)"
      ],
      "metadata": {
        "colab": {
          "base_uri": "https://localhost:8080/",
          "height": 209,
          "referenced_widgets": [
            "1266d20e400f4a238d9a5ed1fbf55488",
            "b0898b02e7224f8db8b4fda46ed55853",
            "f1b2e86f44e945329cb83eee048bd902",
            "3d7e02e6a4e144ea9bb357a150734dbd",
            "4ef2f8291eb648f3802477918221bc54",
            "fab775772ec747a2aa12b60402a96a47",
            "3646e07f18e34e1988c847914c65c437",
            "3713519c10c6416e947813d21b9ad237",
            "a350257c9f2347e3ab4e8fef90ad15c3",
            "342b8b003dc6437b8954f6cc850127d1",
            "c8963892d58e402c97ad03dc7a244444",
            "01c5ce2c893245c687d779b53561f411",
            "ca402f1611cf441abab8cd360a740782",
            "336655b214de472bb16098b02a2b8fbe",
            "94fe5884fff64b40b3c438b6d4afd05e",
            "23063e0f217b4aec8281d648977b6212",
            "fc7b4a2aef97407aadbb93e02f185cf9",
            "36825884428e4b69bc2c255b05926d7b",
            "ce0d7c53009a479b980730cd4e486630",
            "13646be5da4d4f0997451a4fd2f243bf",
            "9006177d03f94513af56369a578aded8",
            "7bf87c48849a4414bf38a5e9961c5fc4",
            "7ae6f7136a0443afba1f18653c34fbec",
            "52dd2b8b21c54c5f8adb82f7793bd126",
            "43e38473f8794cec94f5c1df0810b26a",
            "d38a223353d1425cb54f7831705eaf20",
            "88dd7fcbddb44ead8baa482bf98b2b86",
            "7371fa744e58451e99805746ec3201a8",
            "3cd619e7c4d147fba20abc815160c32a",
            "20aacc947cf8456abb9e0448988a6848",
            "5d5a2f345111433a8e3612e4d7463056",
            "d296e670d97c43e9971ab10a2a19a8a7",
            "a6e900ee764042779405622a40eba8ec",
            "105c4a7c77a54cd0bbc10c42d9864a97",
            "ac35bdb2e84b402b9f9d5bf6da4cf204",
            "ad644dbffe2647cc92730db2da85e97b",
            "b19ea0f1ecd3462cae3a50c95c135013",
            "0bfa6bb6789e43329f862afff781a1f0",
            "4911669b309b40908caf16e7723ec5a3",
            "37ba99363a8f4605a6f546d1796941a1",
            "c5752342a7a44a2aaea127eff3cb4223",
            "d498ac9f82644d2a87964430ce440a89",
            "91b3544e27374bad9a0f08ee19fd9ada",
            "1715fee4349e4f89a3b4d2bef1b8f57a",
            "2b5e4b53f82b41669e1b729f990e096e",
            "4d3efdd1b6dd43ce915ce024a2465428",
            "e8c36e797f5f44e7a35ca28617348f88",
            "69a8b033a00e46708cc39a44e4a9ae0d",
            "d886e145aa174cbea2182c677383c06e",
            "2f95146510194067baa96120b9b4e3b9",
            "e8170d09c3fe44ec9fee59b04fd114cd",
            "e4577900b608490cb5ecfa1affd3da7e",
            "9074ffb203484b6f81304b8eeea8b493",
            "faffbab1a2574134a1c12190800fd196",
            "c0b06dc4a0ee41eaa644519075f56659",
            "c3fd4298f51643e09bdda88e8fb222c1",
            "9a46bd45feb14a2d91434dc0579201dd",
            "fe71812e097243e3ba36f1bfc904fdb8",
            "8a405f31959440d9b8f4dd185c18988b",
            "cc9efb9b1ff548deadbecf168ce8ce3a",
            "32baadcb2d504d408289a231965f3efe",
            "da5dfb5a008b4311967cb6f659442ac2",
            "5b01c9b49a4d4225a5d2e886616b21be",
            "d43655437a9b4a8d82b7b3413cab028d",
            "1b4e888d70fb417ba664914950ae9a15",
            "90ffbbed63e34a2ba6a4fb729f2a8e3f"
          ]
        },
        "id": "zPNXeQamENKH",
        "outputId": "a56175c0-3e27-4a05-a42e-421d9507c660"
      },
      "execution_count": null,
      "outputs": [
        {
          "output_type": "display_data",
          "data": {
            "text/plain": [
              "tokenizer_config.json:   0%|          | 0.00/48.0 [00:00<?, ?B/s]"
            ],
            "application/vnd.jupyter.widget-view+json": {
              "version_major": 2,
              "version_minor": 0,
              "model_id": "1266d20e400f4a238d9a5ed1fbf55488"
            }
          },
          "metadata": {}
        },
        {
          "output_type": "display_data",
          "data": {
            "text/plain": [
              "config.json:   0%|          | 0.00/483 [00:00<?, ?B/s]"
            ],
            "application/vnd.jupyter.widget-view+json": {
              "version_major": 2,
              "version_minor": 0,
              "model_id": "01c5ce2c893245c687d779b53561f411"
            }
          },
          "metadata": {}
        },
        {
          "output_type": "display_data",
          "data": {
            "text/plain": [
              "vocab.txt:   0%|          | 0.00/232k [00:00<?, ?B/s]"
            ],
            "application/vnd.jupyter.widget-view+json": {
              "version_major": 2,
              "version_minor": 0,
              "model_id": "7ae6f7136a0443afba1f18653c34fbec"
            }
          },
          "metadata": {}
        },
        {
          "output_type": "display_data",
          "data": {
            "text/plain": [
              "tokenizer.json:   0%|          | 0.00/466k [00:00<?, ?B/s]"
            ],
            "application/vnd.jupyter.widget-view+json": {
              "version_major": 2,
              "version_minor": 0,
              "model_id": "105c4a7c77a54cd0bbc10c42d9864a97"
            }
          },
          "metadata": {}
        },
        {
          "output_type": "display_data",
          "data": {
            "text/plain": [
              "Map:   0%|          | 0/1228 [00:00<?, ? examples/s]"
            ],
            "application/vnd.jupyter.widget-view+json": {
              "version_major": 2,
              "version_minor": 0,
              "model_id": "2b5e4b53f82b41669e1b729f990e096e"
            }
          },
          "metadata": {}
        },
        {
          "output_type": "display_data",
          "data": {
            "text/plain": [
              "Map:   0%|          | 0/308 [00:00<?, ? examples/s]"
            ],
            "application/vnd.jupyter.widget-view+json": {
              "version_major": 2,
              "version_minor": 0,
              "model_id": "c3fd4298f51643e09bdda88e8fb222c1"
            }
          },
          "metadata": {}
        }
      ]
    },
    {
      "cell_type": "code",
      "source": [
        "# Load pre-trained DistilBERT model for sequence classification\n",
        "model = AutoModelForSequenceClassification.from_pretrained(\"distilbert-base-uncased\", num_labels=2)\n",
        "\n",
        "# Prepare data collator for padding sequences\n",
        "data_collator = DataCollatorWithPadding(tokenizer=tokenizer)\n",
        "\n",
        "def compute_metrics(eval_pred):\n",
        "    logits, labels = eval_pred\n",
        "    predictions = logits.argmax(axis=-1)\n",
        "\n",
        "    precision, recall, f1, _ = precision_recall_fscore_support(labels, predictions, average='binary')\n",
        "    acc = accuracy_score(labels, predictions)\n",
        "\n",
        "    return {\n",
        "        \"accuracy\": acc,\n",
        "        \"precision\": precision,\n",
        "        \"recall\": recall,\n",
        "        \"f1\": f1\n",
        "}\n",
        "\n",
        "\n",
        "training_args = TrainingArguments(\n",
        "    output_dir=\"./results\",\n",
        "    learning_rate=2e-5,\n",
        "    per_device_train_batch_size=8,\n",
        "    per_device_eval_batch_size=8,\n",
        "    num_train_epochs=5,\n",
        "    weight_decay=0.01,\n",
        "    evaluation_strategy=\"epoch\",\n",
        "    logging_strategy=\"epoch\",\n",
        "    save_strategy=\"epoch\",\n",
        "    load_best_model_at_end=True,\n",
        "    metric_for_best_model=\"eval_loss\",\n",
        ")\n",
        "\n",
        "trainer = Trainer(\n",
        "    model=model,\n",
        "    args=training_args,\n",
        "    train_dataset=tokenized_train,\n",
        "    eval_dataset=tokenized_test,\n",
        "    tokenizer=tokenizer,\n",
        "    data_collator=data_collator,\n",
        "    compute_metrics=compute_metrics\n",
        ")\n",
        "\n"
      ],
      "metadata": {
        "colab": {
          "base_uri": "https://localhost:8080/",
          "height": 84,
          "referenced_widgets": [
            "a4634a9f84504489a6e560dc5fcc89bd",
            "17cf66b9f2814105819e1e7b73eb6b3b",
            "6f9cdc3bf5b547fa862d81a3a4f2053b",
            "415cf80b1d594feca4a90c940a536bdf",
            "ab8c863c04d0404ea0571aabd4c40134",
            "7087f118396e4f1e82e90d5e6dc75ff6",
            "22262579bcd84126a9aab8ff66497f88",
            "e7220ac8ca704f84b8aa1f0bf2aa98f8",
            "f96e71cd3f804a959c5923fd74517e51",
            "038ec34c7c4846f78851ab9ad48518f6",
            "8f0ae8d11ef6424280d470a9908221a2"
          ]
        },
        "id": "iRhHSXczDmSt",
        "outputId": "c84f7030-34c6-4a12-c973-efb79f06dadd"
      },
      "execution_count": null,
      "outputs": [
        {
          "output_type": "display_data",
          "data": {
            "text/plain": [
              "model.safetensors:   0%|          | 0.00/268M [00:00<?, ?B/s]"
            ],
            "application/vnd.jupyter.widget-view+json": {
              "version_major": 2,
              "version_minor": 0,
              "model_id": "a4634a9f84504489a6e560dc5fcc89bd"
            }
          },
          "metadata": {}
        },
        {
          "output_type": "stream",
          "name": "stderr",
          "text": [
            "Some weights of DistilBertForSequenceClassification were not initialized from the model checkpoint at distilbert-base-uncased and are newly initialized: ['classifier.bias', 'classifier.weight', 'pre_classifier.bias', 'pre_classifier.weight']\n",
            "You should probably TRAIN this model on a down-stream task to be able to use it for predictions and inference.\n"
          ]
        }
      ]
    },
    {
      "cell_type": "code",
      "source": [
        "# Train the model\n",
        "trainer.train()"
      ],
      "metadata": {
        "colab": {
          "base_uri": "https://localhost:8080/",
          "height": 544
        },
        "id": "pTTAZeL1D3b2",
        "outputId": "b694abbf-4d3d-453a-d909-802e5d94e88c"
      },
      "execution_count": null,
      "outputs": [
        {
          "output_type": "stream",
          "name": "stderr",
          "text": [
            "\u001b[34m\u001b[1mwandb\u001b[0m: \u001b[33mWARNING\u001b[0m The `run_name` is currently set to the same value as `TrainingArguments.output_dir`. If this was not intended, please specify a different run name by setting the `TrainingArguments.run_name` parameter.\n",
            "\u001b[34m\u001b[1mwandb\u001b[0m: Using wandb-core as the SDK backend.  Please refer to https://wandb.me/wandb-core for more information.\n"
          ]
        },
        {
          "output_type": "display_data",
          "data": {
            "text/plain": [
              "<IPython.core.display.Javascript object>"
            ],
            "application/javascript": [
              "\n",
              "        window._wandbApiKey = new Promise((resolve, reject) => {\n",
              "            function loadScript(url) {\n",
              "            return new Promise(function(resolve, reject) {\n",
              "                let newScript = document.createElement(\"script\");\n",
              "                newScript.onerror = reject;\n",
              "                newScript.onload = resolve;\n",
              "                document.body.appendChild(newScript);\n",
              "                newScript.src = url;\n",
              "            });\n",
              "            }\n",
              "            loadScript(\"https://cdn.jsdelivr.net/npm/postmate/build/postmate.min.js\").then(() => {\n",
              "            const iframe = document.createElement('iframe')\n",
              "            iframe.style.cssText = \"width:0;height:0;border:none\"\n",
              "            document.body.appendChild(iframe)\n",
              "            const handshake = new Postmate({\n",
              "                container: iframe,\n",
              "                url: 'https://wandb.ai/authorize'\n",
              "            });\n",
              "            const timeout = setTimeout(() => reject(\"Couldn't auto authenticate\"), 5000)\n",
              "            handshake.then(function(child) {\n",
              "                child.on('authorize', data => {\n",
              "                    clearTimeout(timeout)\n",
              "                    resolve(data)\n",
              "                });\n",
              "            });\n",
              "            })\n",
              "        });\n",
              "    "
            ]
          },
          "metadata": {}
        },
        {
          "output_type": "stream",
          "name": "stderr",
          "text": [
            "\u001b[34m\u001b[1mwandb\u001b[0m: Logging into wandb.ai. (Learn how to deploy a W&B server locally: https://wandb.me/wandb-server)\n",
            "\u001b[34m\u001b[1mwandb\u001b[0m: You can find your API key in your browser here: https://wandb.ai/authorize\n",
            "wandb: Paste an API key from your profile and hit enter:"
          ]
        },
        {
          "name": "stdout",
          "output_type": "stream",
          "text": [
            " ··········\n"
          ]
        },
        {
          "output_type": "stream",
          "name": "stderr",
          "text": [
            "\u001b[34m\u001b[1mwandb\u001b[0m: \u001b[33mWARNING\u001b[0m If you're specifying your api key in code, ensure this code is not shared publicly.\n",
            "\u001b[34m\u001b[1mwandb\u001b[0m: \u001b[33mWARNING\u001b[0m Consider setting the WANDB_API_KEY environment variable, or running `wandb login` from the command line.\n",
            "\u001b[34m\u001b[1mwandb\u001b[0m: No netrc file found, creating one.\n",
            "\u001b[34m\u001b[1mwandb\u001b[0m: Appending key for api.wandb.ai to your netrc file: /root/.netrc\n",
            "\u001b[34m\u001b[1mwandb\u001b[0m: Currently logged in as: \u001b[33mucabpxx\u001b[0m (\u001b[33mucabpxx-university-college-london\u001b[0m) to \u001b[32mhttps://api.wandb.ai\u001b[0m. Use \u001b[1m`wandb login --relogin`\u001b[0m to force relogin\n"
          ]
        },
        {
          "output_type": "display_data",
          "data": {
            "text/plain": [
              "<IPython.core.display.HTML object>"
            ],
            "text/html": [
              "Tracking run with wandb version 0.19.8"
            ]
          },
          "metadata": {}
        },
        {
          "output_type": "display_data",
          "data": {
            "text/plain": [
              "<IPython.core.display.HTML object>"
            ],
            "text/html": [
              "Run data is saved locally in <code>/content/wandb/run-20250323_160528-905i3xnd</code>"
            ]
          },
          "metadata": {}
        },
        {
          "output_type": "display_data",
          "data": {
            "text/plain": [
              "<IPython.core.display.HTML object>"
            ],
            "text/html": [
              "Syncing run <strong><a href='https://wandb.ai/ucabpxx-university-college-london/huggingface/runs/905i3xnd' target=\"_blank\">./results</a></strong> to <a href='https://wandb.ai/ucabpxx-university-college-london/huggingface' target=\"_blank\">Weights & Biases</a> (<a href='https://wandb.me/developer-guide' target=\"_blank\">docs</a>)<br>"
            ]
          },
          "metadata": {}
        },
        {
          "output_type": "display_data",
          "data": {
            "text/plain": [
              "<IPython.core.display.HTML object>"
            ],
            "text/html": [
              " View project at <a href='https://wandb.ai/ucabpxx-university-college-london/huggingface' target=\"_blank\">https://wandb.ai/ucabpxx-university-college-london/huggingface</a>"
            ]
          },
          "metadata": {}
        },
        {
          "output_type": "display_data",
          "data": {
            "text/plain": [
              "<IPython.core.display.HTML object>"
            ],
            "text/html": [
              " View run at <a href='https://wandb.ai/ucabpxx-university-college-london/huggingface/runs/905i3xnd' target=\"_blank\">https://wandb.ai/ucabpxx-university-college-london/huggingface/runs/905i3xnd</a>"
            ]
          },
          "metadata": {}
        },
        {
          "output_type": "display_data",
          "data": {
            "text/plain": [
              "<IPython.core.display.HTML object>"
            ],
            "text/html": [
              "\n",
              "    <div>\n",
              "      \n",
              "      <progress value='770' max='770' style='width:300px; height:20px; vertical-align: middle;'></progress>\n",
              "      [770/770 53:50, Epoch 5/5]\n",
              "    </div>\n",
              "    <table border=\"1\" class=\"dataframe\">\n",
              "  <thead>\n",
              " <tr style=\"text-align: left;\">\n",
              "      <th>Epoch</th>\n",
              "      <th>Training Loss</th>\n",
              "      <th>Validation Loss</th>\n",
              "      <th>Accuracy</th>\n",
              "      <th>Precision</th>\n",
              "      <th>Recall</th>\n",
              "      <th>F1</th>\n",
              "    </tr>\n",
              "  </thead>\n",
              "  <tbody>\n",
              "    <tr>\n",
              "      <td>1</td>\n",
              "      <td>0.145400</td>\n",
              "      <td>0.002433</td>\n",
              "      <td>1.000000</td>\n",
              "      <td>1.000000</td>\n",
              "      <td>1.000000</td>\n",
              "      <td>1.000000</td>\n",
              "    </tr>\n",
              "    <tr>\n",
              "      <td>2</td>\n",
              "      <td>0.001700</td>\n",
              "      <td>0.000807</td>\n",
              "      <td>1.000000</td>\n",
              "      <td>1.000000</td>\n",
              "      <td>1.000000</td>\n",
              "      <td>1.000000</td>\n",
              "    </tr>\n",
              "    <tr>\n",
              "      <td>3</td>\n",
              "      <td>0.000800</td>\n",
              "      <td>0.000463</td>\n",
              "      <td>1.000000</td>\n",
              "      <td>1.000000</td>\n",
              "      <td>1.000000</td>\n",
              "      <td>1.000000</td>\n",
              "    </tr>\n",
              "    <tr>\n",
              "      <td>4</td>\n",
              "      <td>0.000500</td>\n",
              "      <td>0.000349</td>\n",
              "      <td>1.000000</td>\n",
              "      <td>1.000000</td>\n",
              "      <td>1.000000</td>\n",
              "      <td>1.000000</td>\n",
              "    </tr>\n",
              "    <tr>\n",
              "      <td>5</td>\n",
              "      <td>0.000500</td>\n",
              "      <td>0.000318</td>\n",
              "      <td>1.000000</td>\n",
              "      <td>1.000000</td>\n",
              "      <td>1.000000</td>\n",
              "      <td>1.000000</td>\n",
              "    </tr>\n",
              "  </tbody>\n",
              "</table><p>"
            ]
          },
          "metadata": {}
        },
        {
          "output_type": "execute_result",
          "data": {
            "text/plain": [
              "TrainOutput(global_step=770, training_loss=0.029784283593490526, metrics={'train_runtime': 3249.6393, 'train_samples_per_second': 1.889, 'train_steps_per_second': 0.237, 'total_flos': 117298846608336.0, 'train_loss': 0.029784283593490526, 'epoch': 5.0})"
            ]
          },
          "metadata": {},
          "execution_count": 15
        }
      ]
    },
    {
      "cell_type": "code",
      "source": [
        "# Evaluate after training\n",
        "metrics = trainer.evaluate()\n",
        "print(metrics)"
      ],
      "metadata": {
        "colab": {
          "base_uri": "https://localhost:8080/",
          "height": 54
        },
        "id": "uUZCr-SeGhEz",
        "outputId": "40f7e178-33a8-460f-997f-79a11aaa76e7"
      },
      "execution_count": null,
      "outputs": [
        {
          "output_type": "display_data",
          "data": {
            "text/plain": [
              "<IPython.core.display.HTML object>"
            ],
            "text/html": [
              "\n",
              "    <div>\n",
              "      \n",
              "      <progress value='39' max='39' style='width:300px; height:20px; vertical-align: middle;'></progress>\n",
              "      [39/39 00:34]\n",
              "    </div>\n",
              "    "
            ]
          },
          "metadata": {}
        },
        {
          "output_type": "stream",
          "name": "stdout",
          "text": [
            "{'eval_loss': 0.000318408157909289, 'eval_accuracy': 1.0, 'eval_precision': 1.0, 'eval_recall': 1.0, 'eval_f1': 1.0, 'eval_runtime': 36.1716, 'eval_samples_per_second': 8.515, 'eval_steps_per_second': 1.078, 'epoch': 5.0}\n"
          ]
        }
      ]
    },
    {
      "cell_type": "code",
      "source": [
        "# === 1. Save fine-tuned DistilBERT model and tokenizer ===\n",
        "drive_model_path = \"/content/drive/MyDrive/bert_query_classifier\"\n",
        "\n",
        "# Create directory if not exists\n",
        "os.makedirs(drive_model_path, exist_ok=True)\n",
        "\n",
        "# Save model\n",
        "trainer.save_model(drive_model_path)\n",
        "\n",
        "# Save tokenizer\n",
        "tokenizer.save_pretrained(drive_model_path)\n",
        "\n",
        "# === 2. Save LabelEncoder separately ===\n",
        "label_encoder_path = os.path.join(drive_model_path, \"label_encoder.joblib\")\n",
        "joblib.dump(label_encoder, label_encoder_path)\n",
        "\n",
        "print(\"Model, tokenizer, and LabelEncoder saved successfully!\")\n"
      ],
      "metadata": {
        "colab": {
          "base_uri": "https://localhost:8080/"
        },
        "id": "uIR0hf36D0nn",
        "outputId": "5a777796-c837-4165-f55d-f9e950869601"
      },
      "execution_count": null,
      "outputs": [
        {
          "output_type": "stream",
          "name": "stdout",
          "text": [
            "Model, tokenizer, and LabelEncoder saved successfully!\n"
          ]
        }
      ]
    },
    {
      "cell_type": "markdown",
      "source": [
        "# Loading"
      ],
      "metadata": {
        "id": "-1oOsclObdGV"
      }
    },
    {
      "cell_type": "code",
      "source": [
        "from transformers import AutoTokenizer, AutoModelForSequenceClassification\n",
        "\n",
        "# Mount drive again\n",
        "from google.colab import drive\n",
        "drive.mount('/content/drive')\n",
        "\n",
        "# Path to saved model\n",
        "model_path = \"/content/drive/MyDrive/bert_query_classifier\"\n",
        "\n",
        "# Load the model and tokenizer\n",
        "tokenizer = AutoTokenizer.from_pretrained(model_path)\n",
        "model = AutoModelForSequenceClassification.from_pretrained(model_path)\n"
      ],
      "metadata": {
        "id": "6CI0sLp5bcMh"
      },
      "execution_count": null,
      "outputs": []
    },
    {
      "cell_type": "code",
      "source": [
        "trainer.save_model(drive_model_path)  # Same path, will overwrite\n",
        "tokenizer.save_pretrained(drive_model_path)\n"
      ],
      "metadata": {
        "id": "zWimyobBFooV"
      },
      "execution_count": null,
      "outputs": []
    },
    {
      "cell_type": "markdown",
      "source": [
        "# Random Forest Classifier - TF-IDF"
      ],
      "metadata": {
        "id": "C-bo0_K85H2W"
      }
    },
    {
      "cell_type": "code",
      "source": [],
      "metadata": {
        "id": "t64Kpjov5Gl_"
      },
      "execution_count": null,
      "outputs": []
    },
    {
      "cell_type": "code",
      "source": [
        "# Split first\n",
        "train_df_random, test_df_random = train_test_split(df, test_size=0.2, stratify=df[\"Type\"])\n",
        "\n",
        "# Fit encoder only on training data\n",
        "label_encoder = preprocessing.LabelEncoder()\n",
        "train_df_random['Type'] = label_encoder.fit_transform(train_df_random['Type'])\n",
        "\n",
        "# Use same encoder on test set\n",
        "test_df_random['Type'] = label_encoder.transform(test_df_random['Type'])\n",
        "\n",
        "\n"
      ],
      "metadata": {
        "id": "YN6dQcYJ5HKV"
      },
      "execution_count": null,
      "outputs": []
    },
    {
      "cell_type": "code",
      "source": [
        "from sklearn.model_selection import train_test_split, GridSearchCV\n",
        "from sklearn.feature_extraction.text import TfidfVectorizer\n",
        "from sklearn.ensemble import RandomForestClassifier\n",
        "from sklearn.preprocessing import LabelEncoder\n",
        "from sklearn.metrics import (\n",
        "    accuracy_score, precision_score, recall_score, f1_score,\n",
        "    classification_report, confusion_matrix\n",
        ")\n",
        "\n",
        "\n",
        "\n",
        "# 3. TF-IDF Vectorization\n",
        "tfidf = TfidfVectorizer(\n",
        "    lowercase=True,\n",
        "    stop_words='english',\n",
        "    ngram_range=(1, 2),\n",
        "    max_df=0.85,\n",
        "    min_df=2,\n",
        "    max_features=5000\n",
        ")\n",
        "\n",
        "X_train_tfidf = tfidf.fit_transform(train_df_random['RewrittenQuery'])\n",
        "X_test_tfidf = tfidf.transform(test_df_random['RewrittenQuery'])\n",
        "y_train = train_df_random['Type']\n",
        "y_test = test_df_random['Type']\n",
        "\n",
        "# 4. Hyperparameter tuning with GridSearchCV\n",
        "params = {\n",
        "    'n_estimators': [100, 200],\n",
        "    'max_depth': [10, 20],\n",
        "    'min_samples_split': [2, 5],\n",
        "    'min_samples_leaf': [1, 2]\n",
        "}\n",
        "grid = GridSearchCV(\n",
        "    RandomForestClassifier(random_state=42),\n",
        "    param_grid=params,\n",
        "    cv=3,\n",
        "    scoring='f1_weighted',\n",
        "    n_jobs=-1\n",
        ")\n",
        "grid.fit(X_train_tfidf, y_train)\n",
        "best_rf = grid.best_estimator_\n",
        "\n",
        "# 5. Predict on test data\n",
        "y_pred = best_rf.predict(X_test_tfidf)\n",
        "\n",
        "# 6. Evaluation\n",
        "def evaluate_model(y_true, y_pred):\n",
        "    acc = accuracy_score(y_true, y_pred)\n",
        "    precision_macro = precision_score(y_true, y_pred, average='macro')\n",
        "    recall_macro = recall_score(y_true, y_pred, average='macro')\n",
        "    f1_macro = f1_score(y_true, y_pred, average='macro')\n",
        "\n",
        "    precision_weighted = precision_score(y_true, y_pred, average='weighted')\n",
        "    recall_weighted = recall_score(y_true, y_pred, average='weighted')\n",
        "    f1_weighted = f1_score(y_true, y_pred, average='weighted')\n",
        "\n",
        "    print(\"Accuracy:\", round(acc, 4))\n",
        "    print(\"\\nPrecision (Macro):\", round(precision_macro, 4))\n",
        "    print(\"Recall    (Macro):\", round(recall_macro, 4))\n",
        "    print(\"F1 Score  (Macro):\", round(f1_macro, 4))\n",
        "\n",
        "    print(\"\\nPrecision (Weighted):\", round(precision_weighted, 4))\n",
        "    print(\"Recall    (Weighted):\", round(recall_weighted, 4))\n",
        "    print(\"F1 Score  (Weighted):\", round(f1_weighted, 4))\n",
        "\n",
        "    print(\"\\nClassification Report:\\n\", classification_report(y_true, y_pred))\n",
        "\n",
        "evaluate_model(y_test, y_pred)\n",
        "\n"
      ],
      "metadata": {
        "colab": {
          "base_uri": "https://localhost:8080/"
        },
        "id": "6kYRhhuCARVK",
        "outputId": "58acb3f5-704d-4826-f7c7-a6b975d04678"
      },
      "execution_count": null,
      "outputs": [
        {
          "output_type": "stream",
          "name": "stdout",
          "text": [
            "Accuracy: 0.9968\n",
            "\n",
            "Precision (Macro): 0.9968\n",
            "Recall    (Macro): 0.9968\n",
            "F1 Score  (Macro): 0.9968\n",
            "\n",
            "Precision (Weighted): 0.9968\n",
            "Recall    (Weighted): 0.9968\n",
            "F1 Score  (Weighted): 0.9968\n",
            "\n",
            "Classification Report:\n",
            "               precision    recall  f1-score   support\n",
            "\n",
            "           0       1.00      0.99      1.00       155\n",
            "           1       0.99      1.00      1.00       153\n",
            "\n",
            "    accuracy                           1.00       308\n",
            "   macro avg       1.00      1.00      1.00       308\n",
            "weighted avg       1.00      1.00      1.00       308\n",
            "\n"
          ]
        }
      ]
    },
    {
      "cell_type": "code",
      "source": [
        "# Generate confusion matrix\n",
        "cm_random = confusion_matrix(y_test, y_pred)\n",
        "\n",
        "# Optional: get class labels back if you used LabelEncoder\n",
        "class_labels = label_encoder.classes_\n",
        "\n",
        "# Plot\n",
        "plt.figure(figsize=(6, 5))\n",
        "sns.heatmap(cm_random, annot=True, fmt='d', cmap='Blues', xticklabels=class_labels, yticklabels=class_labels)\n",
        "plt.xlabel('Predicted')\n",
        "plt.ylabel('Actual')\n",
        "plt.title('Confusion Matrix')\n",
        "plt.tight_layout()\n",
        "plt.show()\n"
      ],
      "metadata": {
        "colab": {
          "base_uri": "https://localhost:8080/",
          "height": 507
        },
        "id": "aur0gjHAA-D5",
        "outputId": "80d76ebd-682f-48ea-c335-c13ca4e6a3c0"
      },
      "execution_count": null,
      "outputs": [
        {
          "output_type": "display_data",
          "data": {
            "text/plain": [
              "<Figure size 600x500 with 2 Axes>"
            ],
            "image/png": "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\n"
          },
          "metadata": {}
        }
      ]
    },
    {
      "cell_type": "code",
      "source": [
        "import joblib\n",
        "import os\n",
        "\n",
        "# Ensure the directory exists\n",
        "os.makedirs('/content/drive/MyDrive/Saved_Models', exist_ok=True)\n",
        "\n",
        "# Define paths to your Google Drive folder\n",
        "model_path = '/content/drive/MyDrive/Saved_Models/best_random_forest_model.joblib'\n",
        "vectorizer_path = '/content/drive/MyDrive/Saved_Models/tfidf_vectorizer.joblib'\n",
        "label_encoder_path = '/content/drive/MyDrive/Saved_Models/label_encoder.joblib'\n",
        "\n",
        "# Save the best Random Forest model\n",
        "joblib.dump(best_rf, model_path)\n",
        "\n",
        "# Save the TF-IDF vectorizer\n",
        "joblib.dump(tfidf, vectorizer_path)\n",
        "\n",
        "# Save the Label Encoder\n",
        "joblib.dump(label_encoder, label_encoder_path)  #\n",
        "\n",
        "print(\" Model, vectorizer, and label encoder saved to Google Drive!\")\n"
      ],
      "metadata": {
        "colab": {
          "base_uri": "https://localhost:8080/"
        },
        "id": "rqADWoHgDV0G",
        "outputId": "a335800b-45da-446e-931a-584ae990def8"
      },
      "execution_count": null,
      "outputs": [
        {
          "output_type": "stream",
          "name": "stdout",
          "text": [
            " Model, vectorizer, and label encoder saved to Google Drive!\n"
          ]
        }
      ]
    },
    {
      "cell_type": "code",
      "source": [],
      "metadata": {
        "id": "jn67PvT-DZQr"
      },
      "execution_count": null,
      "outputs": []
    },
    {
      "cell_type": "code",
      "source": [],
      "metadata": {
        "id": "CE_aJpiQF0-x"
      },
      "execution_count": null,
      "outputs": []
    },
    {
      "cell_type": "markdown",
      "source": [
        "# Testing Data"
      ],
      "metadata": {
        "id": "CmaWWVMAYprR"
      }
    },
    {
      "cell_type": "code",
      "source": [
        "# Define JSON file paths\n",
        "base_path = \"/content/drive/MyDrive/SNLP_Project\"\n",
        "file_names = [\"contractnli.json\", \"cuad.json\", \"maud.json\", \"privacy_qa.json\"]\n",
        "file_paths = [f\"{base_path}/{name}\" for name in file_names]\n",
        "\n",
        "# Initialize list to collect all 'only_question' entries\n",
        "only_questions = []\n",
        "\n",
        "# Function to safely extract 'only_question' from query_rewriter field\n",
        "def extract_only_questions(df):\n",
        "    return [\n",
        "        item[0].get(\"only_question\")\n",
        "        for item in df.get(\"query_rewriter\", [])\n",
        "        if isinstance(item, list) and len(item) > 0 and \"only_question\" in item[0]\n",
        "    ]\n",
        "\n",
        "# Process each file\n",
        "for path in file_paths:\n",
        "    try:\n",
        "        df = pd.read_json(path)\n",
        "        only_questions.extend(extract_only_questions(df))\n",
        "        print(f\"Extracted from: {path}\")\n",
        "    except Exception as e:\n",
        "        print(f\"Error processing {path}: {e}\")\n",
        "\n",
        "# Preview results\n",
        "print(f\"\\nTotal questions extracted: {len(only_questions)}\")\n",
        "for query in only_questions[:5]:\n",
        "    print(f\"Query: {query}\")"
      ],
      "metadata": {
        "colab": {
          "base_uri": "https://localhost:8080/"
        },
        "id": "Ksp0Dr7lYseX",
        "outputId": "e1b5a9ec-a45b-40a8-8d91-d76bbe9b7adf"
      },
      "execution_count": null,
      "outputs": [
        {
          "output_type": "stream",
          "name": "stdout",
          "text": [
            "Extracted from: /content/drive/MyDrive/SNLP_Project/contractnli.json\n",
            "Extracted from: /content/drive/MyDrive/SNLP_Project/cuad.json\n",
            "Extracted from: /content/drive/MyDrive/SNLP_Project/maud.json\n",
            "Extracted from: /content/drive/MyDrive/SNLP_Project/privacy_qa.json\n",
            "\n",
            "Total questions extracted: 774\n",
            "Query: Does the document indicate that the Agreement does not grant the Receiving Party any rights to the Confidential Information?\n",
            "Query: Does the document state that Confidential Information shall only include technical information?\n",
            "Query: Does the document mention that some obligations of the Agreement may survive the termination of the Agreement?\n",
            "Query: Does the document permit the Receiving Party to retain some Confidential Information even after its return or destruction?\n",
            "Query: Does the document allow the Receiving Party to share some Confidential Information with third parties, including consultants, agents, and professional advisors?\n"
          ]
        }
      ]
    },
    {
      "cell_type": "markdown",
      "source": [
        "# Testing Model Distillbert"
      ],
      "metadata": {
        "id": "PDvfsH9EF9bH"
      }
    },
    {
      "cell_type": "code",
      "source": [
        "# Load model and tokenizer\n",
        "model_path = \"/content/drive/MyDrive/bert_query_classifier\"\n",
        "model_distillbert = AutoModelForSequenceClassification.from_pretrained(model_path)\n",
        "tokenizer = AutoTokenizer.from_pretrained(model_path)\n",
        "\n",
        "# Load label encoder\n",
        "label_encoder = joblib.load(os.path.join(model_path, \"label_encoder.joblib\"))\n"
      ],
      "metadata": {
        "id": "5eqe0JWvF87J"
      },
      "execution_count": null,
      "outputs": []
    },
    {
      "cell_type": "code",
      "source": [
        "# Create the classification pipeline\n",
        "pipe = TextClassificationPipeline(\n",
        "    model=model_distillbert,\n",
        "    tokenizer=tokenizer,\n",
        "    return_all_scores=False,\n",
        "    truncation=True,\n",
        "    padding=True,\n",
        "    device=0 if torch.cuda.is_available() else -1\n",
        ")\n",
        "\n",
        "# Run classification\n",
        "predictions = pipe(only_questions)\n",
        "\n",
        "# Prepare results for JSON\n",
        "results = []\n",
        "for query, pred in zip(only_questions, predictions):\n",
        "    label_id = int(pred['label'].split('_')[-1])\n",
        "    class_name = label_encoder.inverse_transform([label_id])[0]\n",
        "\n",
        "    results.append({\n",
        "        \"query\": query,\n",
        "        \"class\": class_name,\n",
        "        \"label\": pred['label'],\n",
        "        \"confidence\": round(pred['score'], 4)\n",
        "    })\n",
        "\n",
        "# Save results to JSON\n",
        "output_path = \"/content/drive/MyDrive/SNLP_Project/query_predictions.json\"\n",
        "with open(output_path, \"w\") as f:\n",
        "    json.dump(results, f, indent=2)\n",
        "\n",
        "print(f\"Results saved to {output_path}\")\n"
      ],
      "metadata": {
        "colab": {
          "base_uri": "https://localhost:8080/"
        },
        "id": "qntva1k7Gjew",
        "outputId": "857afc48-639b-444e-8037-64264c64c323"
      },
      "execution_count": null,
      "outputs": [
        {
          "output_type": "stream",
          "name": "stderr",
          "text": [
            "Device set to use cpu\n"
          ]
        },
        {
          "output_type": "stream",
          "name": "stdout",
          "text": [
            "Results saved to /content/drive/MyDrive/SNLP_Project/query_predictions.json\n"
          ]
        }
      ]
    },
    {
      "cell_type": "code",
      "source": [],
      "metadata": {
        "id": "tao4-mfvtZdZ"
      },
      "execution_count": null,
      "outputs": []
    },
    {
      "cell_type": "markdown",
      "source": [
        "# Testing using Random Forest"
      ],
      "metadata": {
        "id": "5GCx9d7kF1kj"
      }
    },
    {
      "cell_type": "code",
      "source": [
        "# 1. Load saved model and vectorizer\n",
        "loaded_model_rf = joblib.load('/content/drive/MyDrive/Saved_Models/best_random_forest_model.joblib')\n",
        "loaded_vectorizer_rf = joblib.load('/content/drive/MyDrive/Saved_Models/tfidf_vectorizer.joblib')\n",
        "loaded_label_encoder = joblib.load('/content/drive/MyDrive/Saved_Models/label_encoder.joblib')\n",
        "\n",
        "# 2. Transform new queries using the loaded TF-IDF vectorizer\n",
        "X_new = loaded_vectorizer_rf.transform(only_questions)\n",
        "\n",
        "# 3. Predict using the loaded model\n",
        "pred_labels = loaded_model_rf.predict(X_new)\n",
        "\n",
        "# 4. Decode labels to class names using saved LabelEncoder\n",
        "pred_classes = loaded_label_encoder.inverse_transform(pred_labels)\n",
        "\n",
        "# 5. Prepare results for JSON\n",
        "results = []\n",
        "for query, label_num, label_name in zip(only_questions, pred_labels, pred_classes):\n",
        "    results.append({\n",
        "        \"query\": query,\n",
        "        \"label\": int(label_num),\n",
        "        \"class\": label_name\n",
        "    })\n",
        "\n",
        "# 6. Save to JSON file\n",
        "output_path = \"/content/drive/MyDrive/SNLP_Project/rf_query_predictions.json\"\n",
        "with open(output_path, \"w\") as f:\n",
        "    json.dump(results, f, indent=2)\n",
        "\n",
        "print(f\"Random Forest classification results saved to: {output_path}\")\n"
      ],
      "metadata": {
        "colab": {
          "base_uri": "https://localhost:8080/"
        },
        "id": "F4YE2gnEF03O",
        "outputId": "74e3008a-2b52-4213-8b0e-83cac8588001"
      },
      "execution_count": null,
      "outputs": [
        {
          "output_type": "stream",
          "name": "stdout",
          "text": [
            "Random Forest classification results saved to: /content/drive/MyDrive/SNLP_Project/rf_query_predictions.json\n"
          ]
        }
      ]
    },
    {
      "cell_type": "code",
      "source": [],
      "metadata": {
        "id": "wOOk61SeWESV"
      },
      "execution_count": null,
      "outputs": []
    }
  ]
}
  "cells": [
    {
      "cell_type": "code",
      "source": [
        "from google.colab import drive\n",
        "drive.mount('/content/drive')"
      ],
      "metadata": {
        "id": "Gdr7c-fx5ugp",
        "colab": {
          "base_uri": "https://localhost:8080/"
        },
        "outputId": "88694b25-ae01-4629-8f31-af73c376a628"
      },
      "execution_count": null,
      "outputs": [
        {
          "output_type": "stream",
          "name": "stdout",
          "text": [
            "Mounted at /content/drive\n"
          ]
        }
      ]
    },
    {
      "cell_type": "code",
      "source": [
        "!pip install datasets"
      ],
      "metadata": {
        "colab": {
          "base_uri": "https://localhost:8080/"
        },
        "id": "ElJiGJFMBvkm",
        "outputId": "ff7d9ffd-9e7f-4cf6-b3de-a2bc032da6c8"
      },
      "execution_count": null,
      "outputs": [
        {
          "output_type": "stream",
          "name": "stdout",
          "text": [
            "Collecting datasets\n",
            "  Downloading datasets-3.4.1-py3-none-any.whl.metadata (19 kB)\n",
            "Requirement already satisfied: filelock in /usr/local/lib/python3.11/dist-packages (from datasets) (3.18.0)\n",
            "Requirement already satisfied: numpy>=1.17 in /usr/local/lib/python3.11/dist-packages (from datasets) (2.0.2)\n",
            "Requirement already satisfied: pyarrow>=15.0.0 in /usr/local/lib/python3.11/dist-packages (from datasets) (18.1.0)\n",
            "Collecting dill<0.3.9,>=0.3.0 (from datasets)\n",
            "  Downloading dill-0.3.8-py3-none-any.whl.metadata (10 kB)\n",
            "Requirement already satisfied: pandas in /usr/local/lib/python3.11/dist-packages (from datasets) (2.2.2)\n",
            "Requirement already satisfied: requests>=2.32.2 in /usr/local/lib/python3.11/dist-packages (from datasets) (2.32.3)\n",
            "Requirement already satisfied: tqdm>=4.66.3 in /usr/local/lib/python3.11/dist-packages (from datasets) (4.67.1)\n",
            "Collecting xxhash (from datasets)\n",
            "  Downloading xxhash-3.5.0-cp311-cp311-manylinux_2_17_x86_64.manylinux2014_x86_64.whl.metadata (12 kB)\n",
            "Collecting multiprocess<0.70.17 (from datasets)\n",
            "  Downloading multiprocess-0.70.16-py311-none-any.whl.metadata (7.2 kB)\n",
            "Collecting fsspec<=2024.12.0,>=2023.1.0 (from fsspec[http]<=2024.12.0,>=2023.1.0->datasets)\n",
            "  Downloading fsspec-2024.12.0-py3-none-any.whl.metadata (11 kB)\n",
            "Requirement already satisfied: aiohttp in /usr/local/lib/python3.11/dist-packages (from datasets) (3.11.14)\n",
            "Requirement already satisfied: huggingface-hub>=0.24.0 in /usr/local/lib/python3.11/dist-packages (from datasets) (0.29.3)\n",
            "Requirement already satisfied: packaging in /usr/local/lib/python3.11/dist-packages (from datasets) (24.2)\n",
            "Requirement already satisfied: pyyaml>=5.1 in /usr/local/lib/python3.11/dist-packages (from datasets) (6.0.2)\n",
            "Requirement already satisfied: aiohappyeyeballs>=2.3.0 in /usr/local/lib/python3.11/dist-packages (from aiohttp->datasets) (2.6.1)\n",
            "Requirement already satisfied: aiosignal>=1.1.2 in /usr/local/lib/python3.11/dist-packages (from aiohttp->datasets) (1.3.2)\n",
            "Requirement already satisfied: attrs>=17.3.0 in /usr/local/lib/python3.11/dist-packages (from aiohttp->datasets) (25.3.0)\n",
            "Requirement already satisfied: frozenlist>=1.1.1 in /usr/local/lib/python3.11/dist-packages (from aiohttp->datasets) (1.5.0)\n",
            "Requirement already satisfied: multidict<7.0,>=4.5 in /usr/local/lib/python3.11/dist-packages (from aiohttp->datasets) (6.2.0)\n",
            "Requirement already satisfied: propcache>=0.2.0 in /usr/local/lib/python3.11/dist-packages (from aiohttp->datasets) (0.3.0)\n",
            "Requirement already satisfied: yarl<2.0,>=1.17.0 in /usr/local/lib/python3.11/dist-packages (from aiohttp->datasets) (1.18.3)\n",
            "Requirement already satisfied: typing-extensions>=3.7.4.3 in /usr/local/lib/python3.11/dist-packages (from huggingface-hub>=0.24.0->datasets) (4.12.2)\n",
            "Requirement already satisfied: charset-normalizer<4,>=2 in /usr/local/lib/python3.11/dist-packages (from requests>=2.32.2->datasets) (3.4.1)\n",
            "Requirement already satisfied: idna<4,>=2.5 in /usr/local/lib/python3.11/dist-packages (from requests>=2.32.2->datasets) (3.10)\n",
            "Requirement already satisfied: urllib3<3,>=1.21.1 in /usr/local/lib/python3.11/dist-packages (from requests>=2.32.2->datasets) (2.3.0)\n",
            "Requirement already satisfied: certifi>=2017.4.17 in /usr/local/lib/python3.11/dist-packages (from requests>=2.32.2->datasets) (2025.1.31)\n",
            "Requirement already satisfied: python-dateutil>=2.8.2 in /usr/local/lib/python3.11/dist-packages (from pandas->datasets) (2.8.2)\n",
            "Requirement already satisfied: pytz>=2020.1 in /usr/local/lib/python3.11/dist-packages (from pandas->datasets) (2025.1)\n",
            "Requirement already satisfied: tzdata>=2022.7 in /usr/local/lib/python3.11/dist-packages (from pandas->datasets) (2025.1)\n",
            "Requirement already satisfied: six>=1.5 in /usr/local/lib/python3.11/dist-packages (from python-dateutil>=2.8.2->pandas->datasets) (1.17.0)\n",
            "Downloading datasets-3.4.1-py3-none-any.whl (487 kB)\n",
            "\u001b[2K   \u001b[90m━━━━━━━━━━━━━━━━━━━━━━━━━━━━━━━━━━━━━━━━\u001b[0m \u001b[32m487.4/487.4 kB\u001b[0m \u001b[31m13.1 MB/s\u001b[0m eta \u001b[36m0:00:00\u001b[0m\n",
            "\u001b[?25hDownloading dill-0.3.8-py3-none-any.whl (116 kB)\n",
            "\u001b[2K   \u001b[90m━━━━━━━━━━━━━━━━━━━━━━━━━━━━━━━━━━━━━━━━\u001b[0m \u001b[32m116.3/116.3 kB\u001b[0m \u001b[31m9.2 MB/s\u001b[0m eta \u001b[36m0:00:00\u001b[0m\n",
            "\u001b[?25hDownloading fsspec-2024.12.0-py3-none-any.whl (183 kB)\n",
            "\u001b[2K   \u001b[90m━━━━━━━━━━━━━━━━━━━━━━━━━━━━━━━━━━━━━━━━\u001b[0m \u001b[32m183.9/183.9 kB\u001b[0m \u001b[31m13.2 MB/s\u001b[0m eta \u001b[36m0:00:00\u001b[0m\n",
            "\u001b[?25hDownloading multiprocess-0.70.16-py311-none-any.whl (143 kB)\n",
            "\u001b[2K   \u001b[90m━━━━━━━━━━━━━━━━━━━━━━━━━━━━━━━━━━━━━━━━\u001b[0m \u001b[32m143.5/143.5 kB\u001b[0m \u001b[31m7.1 MB/s\u001b[0m eta \u001b[36m0:00:00\u001b[0m\n",
            "\u001b[?25hDownloading xxhash-3.5.0-cp311-cp311-manylinux_2_17_x86_64.manylinux2014_x86_64.whl (194 kB)\n",
            "\u001b[2K   \u001b[90m━━━━━━━━━━━━━━━━━━━━━━━━━━━━━━━━━━━━━━━━\u001b[0m \u001b[32m194.8/194.8 kB\u001b[0m \u001b[31m11.3 MB/s\u001b[0m eta \u001b[36m0:00:00\u001b[0m\n",
            "\u001b[?25hInstalling collected packages: xxhash, fsspec, dill, multiprocess, datasets\n",
            "  Attempting uninstall: fsspec\n",
            "    Found existing installation: fsspec 2025.3.0\n",
            "    Uninstalling fsspec-2025.3.0:\n",
            "      Successfully uninstalled fsspec-2025.3.0\n",
            "\u001b[31mERROR: pip's dependency resolver does not currently take into account all the packages that are installed. This behaviour is the source of the following dependency conflicts.\n",
            "gcsfs 2025.3.0 requires fsspec==2025.3.0, but you have fsspec 2024.12.0 which is incompatible.\n",
            "torch 2.6.0+cu124 requires nvidia-cublas-cu12==12.4.5.8; platform_system == \"Linux\" and platform_machine == \"x86_64\", but you have nvidia-cublas-cu12 12.5.3.2 which is incompatible.\n",
            "torch 2.6.0+cu124 requires nvidia-cuda-cupti-cu12==12.4.127; platform_system == \"Linux\" and platform_machine == \"x86_64\", but you have nvidia-cuda-cupti-cu12 12.5.82 which is incompatible.\n",
            "torch 2.6.0+cu124 requires nvidia-cuda-nvrtc-cu12==12.4.127; platform_system == \"Linux\" and platform_machine == \"x86_64\", but you have nvidia-cuda-nvrtc-cu12 12.5.82 which is incompatible.\n",
            "torch 2.6.0+cu124 requires nvidia-cuda-runtime-cu12==12.4.127; platform_system == \"Linux\" and platform_machine == \"x86_64\", but you have nvidia-cuda-runtime-cu12 12.5.82 which is incompatible.\n",
            "torch 2.6.0+cu124 requires nvidia-cudnn-cu12==9.1.0.70; platform_system == \"Linux\" and platform_machine == \"x86_64\", but you have nvidia-cudnn-cu12 9.3.0.75 which is incompatible.\n",
            "torch 2.6.0+cu124 requires nvidia-cufft-cu12==11.2.1.3; platform_system == \"Linux\" and platform_machine == \"x86_64\", but you have nvidia-cufft-cu12 11.2.3.61 which is incompatible.\n",
            "torch 2.6.0+cu124 requires nvidia-curand-cu12==10.3.5.147; platform_system == \"Linux\" and platform_machine == \"x86_64\", but you have nvidia-curand-cu12 10.3.6.82 which is incompatible.\n",
            "torch 2.6.0+cu124 requires nvidia-cusolver-cu12==11.6.1.9; platform_system == \"Linux\" and platform_machine == \"x86_64\", but you have nvidia-cusolver-cu12 11.6.3.83 which is incompatible.\n",
            "torch 2.6.0+cu124 requires nvidia-cusparse-cu12==12.3.1.170; platform_system == \"Linux\" and platform_machine == \"x86_64\", but you have nvidia-cusparse-cu12 12.5.1.3 which is incompatible.\n",
            "torch 2.6.0+cu124 requires nvidia-nvjitlink-cu12==12.4.127; platform_system == \"Linux\" and platform_machine == \"x86_64\", but you have nvidia-nvjitlink-cu12 12.5.82 which is incompatible.\u001b[0m\u001b[31m\n",
            "\u001b[0mSuccessfully installed datasets-3.4.1 dill-0.3.8 fsspec-2024.12.0 multiprocess-0.70.16 xxhash-3.5.0\n"
          ]
        }
      ]
    },
    {
      "cell_type": "code",
      "source": [
        "import pandas as pd\n",
        "import numpy as np\n",
        "import matplotlib.pyplot as plt\n",
        "import seaborn as sns\n",
        "import os\n",
        "import re\n",
        "from sklearn.model_selection import train_test_split\n",
        "from transformers import AutoTokenizer, AutoModelForSequenceClassification, Trainer, TrainingArguments, DataCollatorWithPadding\n",
        "from sklearn import preprocessing\n",
        "from datasets import Dataset\n",
        "from sklearn.metrics import accuracy_score, precision_recall_fscore_support\n",
        "from sklearn.feature_extraction.text import TfidfVectorizer\n",
        "from sklearn.ensemble import RandomForestClassifier\n",
        "from sklearn.metrics import (\n",
        "    classification_report,\n",
        "    accuracy_score,\n",
        "    confusion_matrix,\n",
        "    precision_score,\n",
        "    recall_score,\n",
        "    f1_score\n",
        ")\n",
        "from transformers import TextClassificationPipeline\n",
        "import torch\n",
        "import os\n",
        "import joblib\n",
        "import json\n",
        "import warnings\n",
        "warnings.filterwarnings('ignore')"
      ],
      "metadata": {
        "id": "LJh-ykts55Uk"
      },
      "execution_count": null,
      "outputs": []
    },
    {
      "cell_type": "code",
      "source": [
        "df1 = pd.read_csv(\"/content/drive/MyDrive/SNLP_Project/sample_benchmarks/VagueQueries_Llama3.csv\")\n",
        "df2 = pd.read_csv(\"/content/drive/MyDrive/SNLP_Project/sample_benchmarks/VerboseQueries_Llama3.csv\")"
      ],
      "metadata": {
        "id": "U-zkklVD6tRx"
      },
      "execution_count": null,
      "outputs": []
    },
    {
      "cell_type": "code",
      "source": [
        "df1 = df1[df1['Type'] != 'Verbose']"
      ],
      "metadata": {
        "id": "Vp90yHql7Key"
      },
      "execution_count": null,
      "outputs": []
    },
    {
      "cell_type": "code",
      "source": [
        "df1['Type'].value_counts()"
      ],
      "metadata": {
        "colab": {
          "base_uri": "https://localhost:8080/",
          "height": 146
        },
        "id": "N77UQCqi7vN5",
        "outputId": "15e38734-50d6-462a-9788-3723d9ad409d"
      },
      "execution_count": null,
      "outputs": [
        {
          "output_type": "execute_result",
          "data": {
            "text/plain": [
              "Type\n",
              "vague    774\n",
              "Name: count, dtype: int64"
            ],
            "text/html": [
              "<div>\n",
              "<style scoped>\n",
              "    .dataframe tbody tr th:only-of-type {\n",
              "        vertical-align: middle;\n",
              "    }\n",
              "\n",
              "    .dataframe tbody tr th {\n",
              "        vertical-align: top;\n",
              "    }\n",
              "\n",
              "    .dataframe thead th {\n",
              "        text-align: right;\n",
              "    }\n",
              "</style>\n",
              "<table border=\"1\" class=\"dataframe\">\n",
              "  <thead>\n",
              "    <tr style=\"text-align: right;\">\n",
              "      <th></th>\n",
              "      <th>count</th>\n",
              "    </tr>\n",
              "    <tr>\n",
              "      <th>Type</th>\n",
              "      <th></th>\n",
              "    </tr>\n",
              "  </thead>\n",
              "  <tbody>\n",
              "    <tr>\n",
              "      <th>vague</th>\n",
              "      <td>774</td>\n",
              "    </tr>\n",
              "  </tbody>\n",
              "</table>\n",
              "</div><br><label><b>dtype:</b> int64</label>"
            ]
          },
          "metadata": {},
          "execution_count": 6
        }
      ]
    },
    {
      "cell_type": "code",
      "source": [
        "df1.isna().sum()"
      ],
      "metadata": {
        "id": "w40SOMeD8Bcu"
      },
      "execution_count": null,
      "outputs": []
    },
    {
      "cell_type": "code",
      "source": [
        "df1['RewrittenQuery'] = df1['RewrittenQuery'].replace([\"\", \" \", \"NaN\", np.nan], np.nan)\n",
        "df1 = df1.dropna(subset=[\"RewrittenQuery\"]).reset_index(drop=True)\n"
      ],
      "metadata": {
        "id": "JemlQEPV8Jco"
      },
      "execution_count": null,
      "outputs": []
    },
    {
      "cell_type": "code",
      "source": [
        "df1['Type'].value_counts()"
      ],
      "metadata": {
        "id": "N9O0oz439FHi"
      },
      "execution_count": null,
      "outputs": []
    },
    {
      "cell_type": "code",
      "source": [
        "df2['Type'].value_counts()"
      ],
      "metadata": {
        "id": "JWH-Xq0d76x5"
      },
      "execution_count": null,
      "outputs": []
    },
    {
      "cell_type": "code",
      "source": [
        "df2.isna().sum()"
      ],
      "metadata": {
        "id": "6kNy2DlL8EBZ"
      },
      "execution_count": null,
      "outputs": []
    },
    {
      "cell_type": "code",
      "source": [
        "df = pd.concat([\n",
        "    df1.drop('OriginalQuery', axis=1),\n",
        "    df2.drop('OriginalQuery', axis=1)\n",
        "], ignore_index=True)\n"
      ],
      "metadata": {
        "id": "Eizv_UPd7aKr"
      },
      "execution_count": null,
      "outputs": []
    },
    {
      "cell_type": "code",
      "source": [
        "df.shape"
      ],
      "metadata": {
        "id": "CZc4Ydg77aEJ"
      },
      "execution_count": null,
      "outputs": []
    },
    {
      "cell_type": "code",
      "source": [
        "df['Type'].value_counts()"
      ],
      "metadata": {
        "id": "-0v-2L5N7Z-c"
      },
      "execution_count": null,
      "outputs": []
    },
    {
      "cell_type": "code",
      "source": [
        "class TextCleaner():\n",
        "    def __init__(self):\n",
        "        pass\n",
        "\n",
        "    def clean_text(self, text):\n",
        "        if not isinstance(text, str):\n",
        "            return text  # Return unchanged if not a string\n",
        "\n",
        "        # Strip leading/trailing quotes, spaces, tabs, newlines\n",
        "        text = text.strip(' \"\\'\\n\\t')\n",
        "\n",
        "        # Remove long sequences of dashes, even with spaces between\n",
        "        text = re.sub(r\"(-\\s*){3,}\", \"\", text)\n",
        "\n",
        "        # Optionally strip again after dash removal\n",
        "        text = text.strip()\n",
        "\n",
        "        return text\n",
        "\n",
        "# Apply to your DataFrame\n",
        "cleaner = TextCleaner()\n",
        "df['RewrittenQuery'] = df['RewrittenQuery'].apply(cleaner.clean_text)\n"
      ],
      "metadata": {
        "id": "Iwn4xdtB-Vog"
      },
      "execution_count": null,
      "outputs": []
    },
    {
      "cell_type": "code",
      "source": [
        "df.head()"
      ],
      "metadata": {
        "id": "ffXFvSzk-eK4"
      },
      "execution_count": null,
      "outputs": []
    },
    {
      "cell_type": "code",
      "source": [
        "df = df.sample(frac=1, random_state=42).reset_index(drop=True)\n"
      ],
      "metadata": {
        "id": "X0RyAGfa7ZGs"
      },
      "execution_count": null,
      "outputs": []
    },
    {
      "cell_type": "code",
      "source": [
        "df.head(10)"
      ],
      "metadata": {
        "id": "J9v2BUEg_Mk6"
      },
      "execution_count": null,
      "outputs": []
    },
    {
      "cell_type": "code",
      "source": [
        "# Split first\n",
        "train_df, test_df = train_test_split(df, test_size=0.2, stratify=df[\"Type\"])\n",
        "\n",
        "# Fit encoder only on training data\n",
        "label_encoder = preprocessing.LabelEncoder()\n",
        "train_df['Type'] = label_encoder.fit_transform(train_df['Type'])\n",
        "\n",
        "# Use same encoder on test set\n",
        "test_df['Type'] = label_encoder.transform(test_df['Type'])\n"
      ],
      "metadata": {
        "id": "YaPbQurXAHfJ"
      },
      "execution_count": null,
      "outputs": []
    },
    {
      "cell_type": "code",
      "source": [
        "print(label_encoder.classes_)\n"
      ],
      "metadata": {
        "id": "uQw-PYgjC0BB"
      },
      "execution_count": null,
      "outputs": []
    },
    {
      "cell_type": "markdown",
      "source": [
        "#Training Distillbert"
      ],
      "metadata": {
        "id": "XQ0QQMqNEZHz"
      }
    },
    {
      "cell_type": "code",
      "source": [
        "# Rename 'Type' column to 'labels' before tokenizing\n",
        "train_df = train_df.rename(columns={\"Type\": \"labels\"})\n",
        "test_df = test_df.rename(columns={\"Type\": \"labels\"})"
      ],
      "metadata": {
        "id": "Q-Gy107xGKGy"
      },
      "execution_count": null,
      "outputs": []
    },
    {
      "cell_type": "code",
      "source": [
        "tokenizer = AutoTokenizer.from_pretrained(\"distilbert-base-uncased\")\n",
        "\n",
        "# Convert datasets to tokenized format\n",
        "train_dataset = Dataset.from_pandas(train_df)\n",
        "test_dataset = Dataset.from_pandas(test_df)\n",
        "\n",
        "def tokenize_data(examples):\n",
        "    return tokenizer(examples[\"RewrittenQuery\"], truncation=True)\n",
        "\n",
        "tokenized_train = train_dataset.map(tokenize_data, batched=True)\n",
        "tokenized_test = test_dataset.map(tokenize_data, batched=True)"
      ],
      "metadata": {
        "colab": {
          "base_uri": "https://localhost:8080/",
          "height": 209,
          "referenced_widgets": [
            "1266d20e400f4a238d9a5ed1fbf55488",
            "b0898b02e7224f8db8b4fda46ed55853",
            "f1b2e86f44e945329cb83eee048bd902",
            "3d7e02e6a4e144ea9bb357a150734dbd",
            "4ef2f8291eb648f3802477918221bc54",
            "fab775772ec747a2aa12b60402a96a47",
            "3646e07f18e34e1988c847914c65c437",
            "3713519c10c6416e947813d21b9ad237",
            "a350257c9f2347e3ab4e8fef90ad15c3",
            "342b8b003dc6437b8954f6cc850127d1",
            "c8963892d58e402c97ad03dc7a244444",
            "01c5ce2c893245c687d779b53561f411",
            "ca402f1611cf441abab8cd360a740782",
            "336655b214de472bb16098b02a2b8fbe",
            "94fe5884fff64b40b3c438b6d4afd05e",
            "23063e0f217b4aec8281d648977b6212",
            "fc7b4a2aef97407aadbb93e02f185cf9",
            "36825884428e4b69bc2c255b05926d7b",
            "ce0d7c53009a479b980730cd4e486630",
            "13646be5da4d4f0997451a4fd2f243bf",
            "9006177d03f94513af56369a578aded8",
            "7bf87c48849a4414bf38a5e9961c5fc4",
            "7ae6f7136a0443afba1f18653c34fbec",
            "52dd2b8b21c54c5f8adb82f7793bd126",
            "43e38473f8794cec94f5c1df0810b26a",
            "d38a223353d1425cb54f7831705eaf20",
            "88dd7fcbddb44ead8baa482bf98b2b86",
            "7371fa744e58451e99805746ec3201a8",
            "3cd619e7c4d147fba20abc815160c32a",
            "20aacc947cf8456abb9e0448988a6848",
            "5d5a2f345111433a8e3612e4d7463056",
            "d296e670d97c43e9971ab10a2a19a8a7",
            "a6e900ee764042779405622a40eba8ec",
            "105c4a7c77a54cd0bbc10c42d9864a97",
            "ac35bdb2e84b402b9f9d5bf6da4cf204",
            "ad644dbffe2647cc92730db2da85e97b",
            "b19ea0f1ecd3462cae3a50c95c135013",
            "0bfa6bb6789e43329f862afff781a1f0",
            "4911669b309b40908caf16e7723ec5a3",
            "37ba99363a8f4605a6f546d1796941a1",
            "c5752342a7a44a2aaea127eff3cb4223",
            "d498ac9f82644d2a87964430ce440a89",
            "91b3544e27374bad9a0f08ee19fd9ada",
            "1715fee4349e4f89a3b4d2bef1b8f57a",
            "2b5e4b53f82b41669e1b729f990e096e",
            "4d3efdd1b6dd43ce915ce024a2465428",
            "e8c36e797f5f44e7a35ca28617348f88",
            "69a8b033a00e46708cc39a44e4a9ae0d",
            "d886e145aa174cbea2182c677383c06e",
            "2f95146510194067baa96120b9b4e3b9",
            "e8170d09c3fe44ec9fee59b04fd114cd",
            "e4577900b608490cb5ecfa1affd3da7e",
            "9074ffb203484b6f81304b8eeea8b493",
            "faffbab1a2574134a1c12190800fd196",
            "c0b06dc4a0ee41eaa644519075f56659",
            "c3fd4298f51643e09bdda88e8fb222c1",
            "9a46bd45feb14a2d91434dc0579201dd",
            "fe71812e097243e3ba36f1bfc904fdb8",
            "8a405f31959440d9b8f4dd185c18988b",
            "cc9efb9b1ff548deadbecf168ce8ce3a",
            "32baadcb2d504d408289a231965f3efe",
            "da5dfb5a008b4311967cb6f659442ac2",
            "5b01c9b49a4d4225a5d2e886616b21be",
            "d43655437a9b4a8d82b7b3413cab028d",
            "1b4e888d70fb417ba664914950ae9a15",
            "90ffbbed63e34a2ba6a4fb729f2a8e3f"
          ]
        },
        "id": "zPNXeQamENKH",
        "outputId": "a56175c0-3e27-4a05-a42e-421d9507c660"
      },
      "execution_count": null,
      "outputs": [
        {
          "output_type": "display_data",
          "data": {
            "text/plain": [
              "tokenizer_config.json:   0%|          | 0.00/48.0 [00:00<?, ?B/s]"
            ],
            "application/vnd.jupyter.widget-view+json": {
              "version_major": 2,
              "version_minor": 0,
              "model_id": "1266d20e400f4a238d9a5ed1fbf55488"
            }
          },
          "metadata": {}
        },
        {
          "output_type": "display_data",
          "data": {
            "text/plain": [
              "config.json:   0%|          | 0.00/483 [00:00<?, ?B/s]"
            ],
            "application/vnd.jupyter.widget-view+json": {
              "version_major": 2,
              "version_minor": 0,
              "model_id": "01c5ce2c893245c687d779b53561f411"
            }
          },
          "metadata": {}
        },
        {
          "output_type": "display_data",
          "data": {
            "text/plain": [
              "vocab.txt:   0%|          | 0.00/232k [00:00<?, ?B/s]"
            ],
            "application/vnd.jupyter.widget-view+json": {
              "version_major": 2,
              "version_minor": 0,
              "model_id": "7ae6f7136a0443afba1f18653c34fbec"
            }
          },
          "metadata": {}
        },
        {
          "output_type": "display_data",
          "data": {
            "text/plain": [
              "tokenizer.json:   0%|          | 0.00/466k [00:00<?, ?B/s]"
            ],
            "application/vnd.jupyter.widget-view+json": {
              "version_major": 2,
              "version_minor": 0,
              "model_id": "105c4a7c77a54cd0bbc10c42d9864a97"
            }
          },
          "metadata": {}
        },
        {
          "output_type": "display_data",
          "data": {
            "text/plain": [
              "Map:   0%|          | 0/1228 [00:00<?, ? examples/s]"
            ],
            "application/vnd.jupyter.widget-view+json": {
              "version_major": 2,
              "version_minor": 0,
              "model_id": "2b5e4b53f82b41669e1b729f990e096e"
            }
          },
          "metadata": {}
        },
        {
          "output_type": "display_data",
          "data": {
            "text/plain": [
              "Map:   0%|          | 0/308 [00:00<?, ? examples/s]"
            ],
            "application/vnd.jupyter.widget-view+json": {
              "version_major": 2,
              "version_minor": 0,
              "model_id": "c3fd4298f51643e09bdda88e8fb222c1"
            }
          },
          "metadata": {}
        }
      ]
    },
    {
      "cell_type": "code",
      "source": [
        "# Load pre-trained DistilBERT model for sequence classification\n",
        "model = AutoModelForSequenceClassification.from_pretrained(\"distilbert-base-uncased\", num_labels=2)\n",
        "\n",
        "# Prepare data collator for padding sequences\n",
        "data_collator = DataCollatorWithPadding(tokenizer=tokenizer)\n",
        "\n",
        "def compute_metrics(eval_pred):\n",
        "    logits, labels = eval_pred\n",
        "    predictions = logits.argmax(axis=-1)\n",
        "\n",
        "    precision, recall, f1, _ = precision_recall_fscore_support(labels, predictions, average='binary')\n",
        "    acc = accuracy_score(labels, predictions)\n",
        "\n",
        "    return {\n",
        "        \"accuracy\": acc,\n",
        "        \"precision\": precision,\n",
        "        \"recall\": recall,\n",
        "        \"f1\": f1\n",
        "}\n",
        "\n",
        "\n",
        "training_args = TrainingArguments(\n",
        "    output_dir=\"./results\",\n",
        "    learning_rate=2e-5,\n",
        "    per_device_train_batch_size=8,\n",
        "    per_device_eval_batch_size=8,\n",
        "    num_train_epochs=5,\n",
        "    weight_decay=0.01,\n",
        "    evaluation_strategy=\"epoch\",\n",
        "    logging_strategy=\"epoch\",\n",
        "    save_strategy=\"epoch\",\n",
        "    load_best_model_at_end=True,\n",
        "    metric_for_best_model=\"eval_loss\",\n",
        ")\n",
        "\n",
        "trainer = Trainer(\n",
        "    model=model,\n",
        "    args=training_args,\n",
        "    train_dataset=tokenized_train,\n",
        "    eval_dataset=tokenized_test,\n",
        "    tokenizer=tokenizer,\n",
        "    data_collator=data_collator,\n",
        "    compute_metrics=compute_metrics\n",
        ")\n",
        "\n"
      ],
      "metadata": {
        "colab": {
          "base_uri": "https://localhost:8080/",
          "height": 84,
          "referenced_widgets": [
            "a4634a9f84504489a6e560dc5fcc89bd",
            "17cf66b9f2814105819e1e7b73eb6b3b",
            "6f9cdc3bf5b547fa862d81a3a4f2053b",
            "415cf80b1d594feca4a90c940a536bdf",
            "ab8c863c04d0404ea0571aabd4c40134",
            "7087f118396e4f1e82e90d5e6dc75ff6",
            "22262579bcd84126a9aab8ff66497f88",
            "e7220ac8ca704f84b8aa1f0bf2aa98f8",
            "f96e71cd3f804a959c5923fd74517e51",
            "038ec34c7c4846f78851ab9ad48518f6",
            "8f0ae8d11ef6424280d470a9908221a2"
          ]
        },
        "id": "iRhHSXczDmSt",
        "outputId": "c84f7030-34c6-4a12-c973-efb79f06dadd"
      },
      "execution_count": null,
      "outputs": [
        {
          "output_type": "display_data",
          "data": {
            "text/plain": [
              "model.safetensors:   0%|          | 0.00/268M [00:00<?, ?B/s]"
            ],
            "application/vnd.jupyter.widget-view+json": {
              "version_major": 2,
              "version_minor": 0,
              "model_id": "a4634a9f84504489a6e560dc5fcc89bd"
            }
          },
          "metadata": {}
        },
        {
          "output_type": "stream",
          "name": "stderr",
          "text": [
            "Some weights of DistilBertForSequenceClassification were not initialized from the model checkpoint at distilbert-base-uncased and are newly initialized: ['classifier.bias', 'classifier.weight', 'pre_classifier.bias', 'pre_classifier.weight']\n",
            "You should probably TRAIN this model on a down-stream task to be able to use it for predictions and inference.\n"
          ]
        }
      ]
    },
    {
      "cell_type": "code",
      "source": [
        "# Train the model\n",
        "trainer.train()"
      ],
      "metadata": {
        "colab": {
          "base_uri": "https://localhost:8080/",
          "height": 544
        },
        "id": "pTTAZeL1D3b2",
        "outputId": "b694abbf-4d3d-453a-d909-802e5d94e88c"
      },
      "execution_count": null,
      "outputs": [
        {
          "output_type": "stream",
          "name": "stderr",
          "text": [
            "\u001b[34m\u001b[1mwandb\u001b[0m: \u001b[33mWARNING\u001b[0m The `run_name` is currently set to the same value as `TrainingArguments.output_dir`. If this was not intended, please specify a different run name by setting the `TrainingArguments.run_name` parameter.\n",
            "\u001b[34m\u001b[1mwandb\u001b[0m: Using wandb-core as the SDK backend.  Please refer to https://wandb.me/wandb-core for more information.\n"
          ]
        },
        {
          "output_type": "display_data",
          "data": {
            "text/plain": [
              "<IPython.core.display.Javascript object>"
            ],
            "application/javascript": [
              "\n",
              "        window._wandbApiKey = new Promise((resolve, reject) => {\n",
              "            function loadScript(url) {\n",
              "            return new Promise(function(resolve, reject) {\n",
              "                let newScript = document.createElement(\"script\");\n",
              "                newScript.onerror = reject;\n",
              "                newScript.onload = resolve;\n",
              "                document.body.appendChild(newScript);\n",
              "                newScript.src = url;\n",
              "            });\n",
              "            }\n",
              "            loadScript(\"https://cdn.jsdelivr.net/npm/postmate/build/postmate.min.js\").then(() => {\n",
              "            const iframe = document.createElement('iframe')\n",
              "            iframe.style.cssText = \"width:0;height:0;border:none\"\n",
              "            document.body.appendChild(iframe)\n",
              "            const handshake = new Postmate({\n",
              "                container: iframe,\n",
              "                url: 'https://wandb.ai/authorize'\n",
              "            });\n",
              "            const timeout = setTimeout(() => reject(\"Couldn't auto authenticate\"), 5000)\n",
              "            handshake.then(function(child) {\n",
              "                child.on('authorize', data => {\n",
              "                    clearTimeout(timeout)\n",
              "                    resolve(data)\n",
              "                });\n",
              "            });\n",
              "            })\n",
              "        });\n",
              "    "
            ]
          },
          "metadata": {}
        },
        {
          "output_type": "stream",
          "name": "stderr",
          "text": [
            "\u001b[34m\u001b[1mwandb\u001b[0m: Logging into wandb.ai. (Learn how to deploy a W&B server locally: https://wandb.me/wandb-server)\n",
            "\u001b[34m\u001b[1mwandb\u001b[0m: You can find your API key in your browser here: https://wandb.ai/authorize\n",
            "wandb: Paste an API key from your profile and hit enter:"
          ]
        },
        {
          "name": "stdout",
          "output_type": "stream",
          "text": [
            " ··········\n"
          ]
        },
        {
          "output_type": "stream",
          "name": "stderr",
          "text": [
            "\u001b[34m\u001b[1mwandb\u001b[0m: \u001b[33mWARNING\u001b[0m If you're specifying your api key in code, ensure this code is not shared publicly.\n",
            "\u001b[34m\u001b[1mwandb\u001b[0m: \u001b[33mWARNING\u001b[0m Consider setting the WANDB_API_KEY environment variable, or running `wandb login` from the command line.\n",
            "\u001b[34m\u001b[1mwandb\u001b[0m: No netrc file found, creating one.\n",
            "\u001b[34m\u001b[1mwandb\u001b[0m: Appending key for api.wandb.ai to your netrc file: /root/.netrc\n",
            "\u001b[34m\u001b[1mwandb\u001b[0m: Currently logged in as: \u001b[33mucabpxx\u001b[0m (\u001b[33mucabpxx-university-college-london\u001b[0m) to \u001b[32mhttps://api.wandb.ai\u001b[0m. Use \u001b[1m`wandb login --relogin`\u001b[0m to force relogin\n"
          ]
        },
        {
          "output_type": "display_data",
          "data": {
            "text/plain": [
              "<IPython.core.display.HTML object>"
            ],
            "text/html": [
              "Tracking run with wandb version 0.19.8"
            ]
          },
          "metadata": {}
        },
        {
          "output_type": "display_data",
          "data": {
            "text/plain": [
              "<IPython.core.display.HTML object>"
            ],
            "text/html": [
              "Run data is saved locally in <code>/content/wandb/run-20250323_160528-905i3xnd</code>"
            ]
          },
          "metadata": {}
        },
        {
          "output_type": "display_data",
          "data": {
            "text/plain": [
              "<IPython.core.display.HTML object>"
            ],
            "text/html": [
              "Syncing run <strong><a href='https://wandb.ai/ucabpxx-university-college-london/huggingface/runs/905i3xnd' target=\"_blank\">./results</a></strong> to <a href='https://wandb.ai/ucabpxx-university-college-london/huggingface' target=\"_blank\">Weights & Biases</a> (<a href='https://wandb.me/developer-guide' target=\"_blank\">docs</a>)<br>"
            ]
          },
          "metadata": {}
        },
        {
          "output_type": "display_data",
          "data": {
            "text/plain": [
              "<IPython.core.display.HTML object>"
            ],
            "text/html": [
              " View project at <a href='https://wandb.ai/ucabpxx-university-college-london/huggingface' target=\"_blank\">https://wandb.ai/ucabpxx-university-college-london/huggingface</a>"
            ]
          },
          "metadata": {}
        },
        {
          "output_type": "display_data",
          "data": {
            "text/plain": [
              "<IPython.core.display.HTML object>"
            ],
            "text/html": [
              " View run at <a href='https://wandb.ai/ucabpxx-university-college-london/huggingface/runs/905i3xnd' target=\"_blank\">https://wandb.ai/ucabpxx-university-college-london/huggingface/runs/905i3xnd</a>"
            ]
          },
          "metadata": {}
        },
        {
          "output_type": "display_data",
          "data": {
            "text/plain": [
              "<IPython.core.display.HTML object>"
            ],
            "text/html": [
              "\n",
              "    <div>\n",
              "      \n",
              "      <progress value='770' max='770' style='width:300px; height:20px; vertical-align: middle;'></progress>\n",
              "      [770/770 53:50, Epoch 5/5]\n",
              "    </div>\n",
              "    <table border=\"1\" class=\"dataframe\">\n",
              "  <thead>\n",
              " <tr style=\"text-align: left;\">\n",
              "      <th>Epoch</th>\n",
              "      <th>Training Loss</th>\n",
              "      <th>Validation Loss</th>\n",
              "      <th>Accuracy</th>\n",
              "      <th>Precision</th>\n",
              "      <th>Recall</th>\n",
              "      <th>F1</th>\n",
              "    </tr>\n",
              "  </thead>\n",
              "  <tbody>\n",
              "    <tr>\n",
              "      <td>1</td>\n",
              "      <td>0.145400</td>\n",
              "      <td>0.002433</td>\n",
              "      <td>1.000000</td>\n",
              "      <td>1.000000</td>\n",
              "      <td>1.000000</td>\n",
              "      <td>1.000000</td>\n",
              "    </tr>\n",
              "    <tr>\n",
              "      <td>2</td>\n",
              "      <td>0.001700</td>\n",
              "      <td>0.000807</td>\n",
              "      <td>1.000000</td>\n",
              "      <td>1.000000</td>\n",
              "      <td>1.000000</td>\n",
              "      <td>1.000000</td>\n",
              "    </tr>\n",
              "    <tr>\n",
              "      <td>3</td>\n",
              "      <td>0.000800</td>\n",
              "      <td>0.000463</td>\n",
              "      <td>1.000000</td>\n",
              "      <td>1.000000</td>\n",
              "      <td>1.000000</td>\n",
              "      <td>1.000000</td>\n",
              "    </tr>\n",
              "    <tr>\n",
              "      <td>4</td>\n",
              "      <td>0.000500</td>\n",
              "      <td>0.000349</td>\n",
              "      <td>1.000000</td>\n",
              "      <td>1.000000</td>\n",
              "      <td>1.000000</td>\n",
              "      <td>1.000000</td>\n",
              "    </tr>\n",
              "    <tr>\n",
              "      <td>5</td>\n",
              "      <td>0.000500</td>\n",
              "      <td>0.000318</td>\n",
              "      <td>1.000000</td>\n",
              "      <td>1.000000</td>\n",
              "      <td>1.000000</td>\n",
              "      <td>1.000000</td>\n",
              "    </tr>\n",
              "  </tbody>\n",
              "</table><p>"
            ]
          },
          "metadata": {}
        },
        {
          "output_type": "execute_result",
          "data": {
            "text/plain": [
              "TrainOutput(global_step=770, training_loss=0.029784283593490526, metrics={'train_runtime': 3249.6393, 'train_samples_per_second': 1.889, 'train_steps_per_second': 0.237, 'total_flos': 117298846608336.0, 'train_loss': 0.029784283593490526, 'epoch': 5.0})"
            ]
          },
          "metadata": {},
          "execution_count": 15
        }
      ]
    },
    {
      "cell_type": "code",
      "source": [
        "# Evaluate after training\n",
        "metrics = trainer.evaluate()\n",
        "print(metrics)"
      ],
      "metadata": {
        "colab": {
          "base_uri": "https://localhost:8080/",
          "height": 54
        },
        "id": "uUZCr-SeGhEz",
        "outputId": "40f7e178-33a8-460f-997f-79a11aaa76e7"
      },
      "execution_count": null,
      "outputs": [
        {
          "output_type": "display_data",
          "data": {
            "text/plain": [
              "<IPython.core.display.HTML object>"
            ],
            "text/html": [
              "\n",
              "    <div>\n",
              "      \n",
              "      <progress value='39' max='39' style='width:300px; height:20px; vertical-align: middle;'></progress>\n",
              "      [39/39 00:34]\n",
              "    </div>\n",
              "    "
            ]
          },
          "metadata": {}
        },
        {
          "output_type": "stream",
          "name": "stdout",
          "text": [
            "{'eval_loss': 0.000318408157909289, 'eval_accuracy': 1.0, 'eval_precision': 1.0, 'eval_recall': 1.0, 'eval_f1': 1.0, 'eval_runtime': 36.1716, 'eval_samples_per_second': 8.515, 'eval_steps_per_second': 1.078, 'epoch': 5.0}\n"
          ]
        }
      ]
    },
    {
      "cell_type": "code",
      "source": [
        "# === 1. Save fine-tuned DistilBERT model and tokenizer ===\n",
        "drive_model_path = \"/content/drive/MyDrive/bert_query_classifier\"\n",
        "\n",
        "# Create directory if not exists\n",
        "os.makedirs(drive_model_path, exist_ok=True)\n",
        "\n",
        "# Save model\n",
        "trainer.save_model(drive_model_path)\n",
        "\n",
        "# Save tokenizer\n",
        "tokenizer.save_pretrained(drive_model_path)\n",
        "\n",
        "# === 2. Save LabelEncoder separately ===\n",
        "label_encoder_path = os.path.join(drive_model_path, \"label_encoder.joblib\")\n",
        "joblib.dump(label_encoder, label_encoder_path)\n",
        "\n",
        "print(\"Model, tokenizer, and LabelEncoder saved successfully!\")\n"
      ],
      "metadata": {
        "colab": {
          "base_uri": "https://localhost:8080/"
        },
        "id": "uIR0hf36D0nn",
        "outputId": "5a777796-c837-4165-f55d-f9e950869601"
      },
      "execution_count": null,
      "outputs": [
        {
          "output_type": "stream",
          "name": "stdout",
          "text": [
            "Model, tokenizer, and LabelEncoder saved successfully!\n"
          ]
        }
      ]
    },
    {
      "cell_type": "markdown",
      "source": [
        "# Loading"
      ],
      "metadata": {
        "id": "-1oOsclObdGV"
      }
    },
    {
      "cell_type": "code",
      "source": [
        "from transformers import AutoTokenizer, AutoModelForSequenceClassification\n",
        "\n",
        "# Mount drive again\n",
        "from google.colab import drive\n",
        "drive.mount('/content/drive')\n",
        "\n",
        "# Path to saved model\n",
        "model_path = \"/content/drive/MyDrive/bert_query_classifier\"\n",
        "\n",
        "# Load the model and tokenizer\n",
        "tokenizer = AutoTokenizer.from_pretrained(model_path)\n",
        "model = AutoModelForSequenceClassification.from_pretrained(model_path)\n"
      ],
      "metadata": {
        "id": "6CI0sLp5bcMh"
      },
      "execution_count": null,
      "outputs": []
    },
    {
      "cell_type": "code",
      "source": [
        "trainer.save_model(drive_model_path)  # Same path, will overwrite\n",
        "tokenizer.save_pretrained(drive_model_path)\n"
      ],
      "metadata": {
        "id": "zWimyobBFooV"
      },
      "execution_count": null,
      "outputs": []
    },
    {
      "cell_type": "markdown",
      "source": [
        "# Random Forest Classifier - TF-IDF"
      ],
      "metadata": {
        "id": "C-bo0_K85H2W"
      }
    },
    {
      "cell_type": "code",
      "source": [],
      "metadata": {
        "id": "t64Kpjov5Gl_"
      },
      "execution_count": null,
      "outputs": []
    },
    {
      "cell_type": "code",
      "source": [
        "# Split first\n",
        "train_df_random, test_df_random = train_test_split(df, test_size=0.2, stratify=df[\"Type\"])\n",
        "\n",
        "# Fit encoder only on training data\n",
        "label_encoder = preprocessing.LabelEncoder()\n",
        "train_df_random['Type'] = label_encoder.fit_transform(train_df_random['Type'])\n",
        "\n",
        "# Use same encoder on test set\n",
        "test_df_random['Type'] = label_encoder.transform(test_df_random['Type'])\n",
        "\n",
        "\n"
      ],
      "metadata": {
        "id": "YN6dQcYJ5HKV"
      },
      "execution_count": null,
      "outputs": []
    },
    {
      "cell_type": "code",
      "source": [
        "from sklearn.model_selection import train_test_split, GridSearchCV\n",
        "from sklearn.feature_extraction.text import TfidfVectorizer\n",
        "from sklearn.ensemble import RandomForestClassifier\n",
        "from sklearn.preprocessing import LabelEncoder\n",
        "from sklearn.metrics import (\n",
        "    accuracy_score, precision_score, recall_score, f1_score,\n",
        "    classification_report, confusion_matrix\n",
        ")\n",
        "\n",
        "\n",
        "\n",
        "# 3. TF-IDF Vectorization\n",
        "tfidf = TfidfVectorizer(\n",
        "    lowercase=True,\n",
        "    stop_words='english',\n",
        "    ngram_range=(1, 2),\n",
        "    max_df=0.85,\n",
        "    min_df=2,\n",
        "    max_features=5000\n",
        ")\n",
        "\n",
        "X_train_tfidf = tfidf.fit_transform(train_df_random['RewrittenQuery'])\n",
        "X_test_tfidf = tfidf.transform(test_df_random['RewrittenQuery'])\n",
        "y_train = train_df_random['Type']\n",
        "y_test = test_df_random['Type']\n",
        "\n",
        "# 4. Hyperparameter tuning with GridSearchCV\n",
        "params = {\n",
        "    'n_estimators': [100, 200],\n",
        "    'max_depth': [10, 20],\n",
        "    'min_samples_split': [2, 5],\n",
        "    'min_samples_leaf': [1, 2]\n",
        "}\n",
        "grid = GridSearchCV(\n",
        "    RandomForestClassifier(random_state=42),\n",
        "    param_grid=params,\n",
        "    cv=3,\n",
        "    scoring='f1_weighted',\n",
        "    n_jobs=-1\n",
        ")\n",
        "grid.fit(X_train_tfidf, y_train)\n",
        "best_rf = grid.best_estimator_\n",
        "\n",
        "# 5. Predict on test data\n",
        "y_pred = best_rf.predict(X_test_tfidf)\n",
        "\n",
        "# 6. Evaluation\n",
        "def evaluate_model(y_true, y_pred):\n",
        "    acc = accuracy_score(y_true, y_pred)\n",
        "    precision_macro = precision_score(y_true, y_pred, average='macro')\n",
        "    recall_macro = recall_score(y_true, y_pred, average='macro')\n",
        "    f1_macro = f1_score(y_true, y_pred, average='macro')\n",
        "\n",
        "    precision_weighted = precision_score(y_true, y_pred, average='weighted')\n",
        "    recall_weighted = recall_score(y_true, y_pred, average='weighted')\n",
        "    f1_weighted = f1_score(y_true, y_pred, average='weighted')\n",
        "\n",
        "    print(\"Accuracy:\", round(acc, 4))\n",
        "    print(\"\\nPrecision (Macro):\", round(precision_macro, 4))\n",
        "    print(\"Recall    (Macro):\", round(recall_macro, 4))\n",
        "    print(\"F1 Score  (Macro):\", round(f1_macro, 4))\n",
        "\n",
        "    print(\"\\nPrecision (Weighted):\", round(precision_weighted, 4))\n",
        "    print(\"Recall    (Weighted):\", round(recall_weighted, 4))\n",
        "    print(\"F1 Score  (Weighted):\", round(f1_weighted, 4))\n",
        "\n",
        "    print(\"\\nClassification Report:\\n\", classification_report(y_true, y_pred))\n",
        "\n",
        "evaluate_model(y_test, y_pred)\n",
        "\n"
      ],
      "metadata": {
        "colab": {
          "base_uri": "https://localhost:8080/"
        },
        "id": "6kYRhhuCARVK",
        "outputId": "58acb3f5-704d-4826-f7c7-a6b975d04678"
      },
      "execution_count": null,
      "outputs": [
        {
          "output_type": "stream",
          "name": "stdout",
          "text": [
            "Accuracy: 0.9968\n",
            "\n",
            "Precision (Macro): 0.9968\n",
            "Recall    (Macro): 0.9968\n",
            "F1 Score  (Macro): 0.9968\n",
            "\n",
            "Precision (Weighted): 0.9968\n",
            "Recall    (Weighted): 0.9968\n",
            "F1 Score  (Weighted): 0.9968\n",
            "\n",
            "Classification Report:\n",
            "               precision    recall  f1-score   support\n",
            "\n",
            "           0       1.00      0.99      1.00       155\n",
            "           1       0.99      1.00      1.00       153\n",
            "\n",
            "    accuracy                           1.00       308\n",
            "   macro avg       1.00      1.00      1.00       308\n",
            "weighted avg       1.00      1.00      1.00       308\n",
            "\n"
          ]
        }
      ]
    },
    {
      "cell_type": "code",
      "source": [
        "# Generate confusion matrix\n",
        "cm_random = confusion_matrix(y_test, y_pred)\n",
        "\n",
        "# Optional: get class labels back if you used LabelEncoder\n",
        "class_labels = label_encoder.classes_\n",
        "\n",
        "# Plot\n",
        "plt.figure(figsize=(6, 5))\n",
        "sns.heatmap(cm_random, annot=True, fmt='d', cmap='Blues', xticklabels=class_labels, yticklabels=class_labels)\n",
        "plt.xlabel('Predicted')\n",
        "plt.ylabel('Actual')\n",
        "plt.title('Confusion Matrix')\n",
        "plt.tight_layout()\n",
        "plt.show()\n"
      ],
      "metadata": {
        "colab": {
          "base_uri": "https://localhost:8080/",
          "height": 507
        },
        "id": "aur0gjHAA-D5",
        "outputId": "80d76ebd-682f-48ea-c335-c13ca4e6a3c0"
      },
      "execution_count": null,
      "outputs": [
        {
          "output_type": "display_data",
          "data": {
            "text/plain": [
              "<Figure size 600x500 with 2 Axes>"
            ],
            "image/png": "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\n"
          },
          "metadata": {}
        }
      ]
    },
    {
      "cell_type": "code",
      "source": [
        "import joblib\n",
        "import os\n",
        "\n",
        "# Ensure the directory exists\n",
        "os.makedirs('/content/drive/MyDrive/Saved_Models', exist_ok=True)\n",
        "\n",
        "# Define paths to your Google Drive folder\n",
        "model_path = '/content/drive/MyDrive/Saved_Models/best_random_forest_model.joblib'\n",
        "vectorizer_path = '/content/drive/MyDrive/Saved_Models/tfidf_vectorizer.joblib'\n",
        "label_encoder_path = '/content/drive/MyDrive/Saved_Models/label_encoder.joblib'\n",
        "\n",
        "# Save the best Random Forest model\n",
        "joblib.dump(best_rf, model_path)\n",
        "\n",
        "# Save the TF-IDF vectorizer\n",
        "joblib.dump(tfidf, vectorizer_path)\n",
        "\n",
        "# Save the Label Encoder\n",
        "joblib.dump(label_encoder, label_encoder_path)  #\n",
        "\n",
        "print(\" Model, vectorizer, and label encoder saved to Google Drive!\")\n"
      ],
      "metadata": {
        "colab": {
          "base_uri": "https://localhost:8080/"
        },
        "id": "rqADWoHgDV0G",
        "outputId": "a335800b-45da-446e-931a-584ae990def8"
      },
      "execution_count": null,
      "outputs": [
        {
          "output_type": "stream",
          "name": "stdout",
          "text": [
            " Model, vectorizer, and label encoder saved to Google Drive!\n"
          ]
        }
      ]
    },
    {
      "cell_type": "code",
      "source": [],
      "metadata": {
        "id": "jn67PvT-DZQr"
      },
      "execution_count": null,
      "outputs": []
    },
    {
      "cell_type": "code",
      "source": [],
      "metadata": {
        "id": "CE_aJpiQF0-x"
      },
      "execution_count": null,
      "outputs": []
    },
    {
      "cell_type": "markdown",
      "source": [
        "# Testing Data"
      ],
      "metadata": {
        "id": "CmaWWVMAYprR"
      }
    },
    {
      "cell_type": "code",
      "source": [
        "# Define JSON file paths\n",
        "base_path = \"/content/drive/MyDrive/SNLP_Project\"\n",
        "file_names = [\"contractnli.json\", \"cuad.json\", \"maud.json\", \"privacy_qa.json\"]\n",
        "file_paths = [f\"{base_path}/{name}\" for name in file_names]\n",
        "\n",
        "# Initialize list to collect all 'only_question' entries\n",
        "only_questions = []\n",
        "\n",
        "# Function to safely extract 'only_question' from query_rewriter field\n",
        "def extract_only_questions(df):\n",
        "    return [\n",
        "        item[0].get(\"only_question\")\n",
        "        for item in df.get(\"query_rewriter\", [])\n",
        "        if isinstance(item, list) and len(item) > 0 and \"only_question\" in item[0]\n",
        "    ]\n",
        "\n",
        "# Process each file\n",
        "for path in file_paths:\n",
        "    try:\n",
        "        df = pd.read_json(path)\n",
        "        only_questions.extend(extract_only_questions(df))\n",
        "        print(f\"Extracted from: {path}\")\n",
        "    except Exception as e:\n",
        "        print(f\"Error processing {path}: {e}\")\n",
        "\n",
        "# Preview results\n",
        "print(f\"\\nTotal questions extracted: {len(only_questions)}\")\n",
        "for query in only_questions[:5]:\n",
        "    print(f\"Query: {query}\")"
      ],
      "metadata": {
        "colab": {
          "base_uri": "https://localhost:8080/"
        },
        "id": "Ksp0Dr7lYseX",
        "outputId": "e1b5a9ec-a45b-40a8-8d91-d76bbe9b7adf"
      },
      "execution_count": null,
      "outputs": [
        {
          "output_type": "stream",
          "name": "stdout",
          "text": [
            "Extracted from: /content/drive/MyDrive/SNLP_Project/contractnli.json\n",
            "Extracted from: /content/drive/MyDrive/SNLP_Project/cuad.json\n",
            "Extracted from: /content/drive/MyDrive/SNLP_Project/maud.json\n",
            "Extracted from: /content/drive/MyDrive/SNLP_Project/privacy_qa.json\n",
            "\n",
            "Total questions extracted: 774\n",
            "Query: Does the document indicate that the Agreement does not grant the Receiving Party any rights to the Confidential Information?\n",
            "Query: Does the document state that Confidential Information shall only include technical information?\n",
            "Query: Does the document mention that some obligations of the Agreement may survive the termination of the Agreement?\n",
            "Query: Does the document permit the Receiving Party to retain some Confidential Information even after its return or destruction?\n",
            "Query: Does the document allow the Receiving Party to share some Confidential Information with third parties, including consultants, agents, and professional advisors?\n"
          ]
        }
      ]
    },
    {
      "cell_type": "markdown",
      "source": [
        "# Testing Model Distillbert"
      ],
      "metadata": {
        "id": "PDvfsH9EF9bH"
      }
    },
    {
      "cell_type": "code",
      "source": [
        "# Load model and tokenizer\n",
        "model_path = \"/content/drive/MyDrive/bert_query_classifier\"\n",
        "model_distillbert = AutoModelForSequenceClassification.from_pretrained(model_path)\n",
        "tokenizer = AutoTokenizer.from_pretrained(model_path)\n",
        "\n",
        "# Load label encoder\n",
        "label_encoder = joblib.load(os.path.join(model_path, \"label_encoder.joblib\"))\n"
      ],
      "metadata": {
        "id": "5eqe0JWvF87J"
      },
      "execution_count": null,
      "outputs": []
    },
    {
      "cell_type": "code",
      "source": [
        "# Create the classification pipeline\n",
        "pipe = TextClassificationPipeline(\n",
        "    model=model_distillbert,\n",
        "    tokenizer=tokenizer,\n",
        "    return_all_scores=False,\n",
        "    truncation=True,\n",
        "    padding=True,\n",
        "    device=0 if torch.cuda.is_available() else -1\n",
        ")\n",
        "\n",
        "# Run classification\n",
        "predictions = pipe(only_questions)\n",
        "\n",
        "# Prepare results for JSON\n",
        "results = []\n",
        "for query, pred in zip(only_questions, predictions):\n",
        "    label_id = int(pred['label'].split('_')[-1])\n",
        "    class_name = label_encoder.inverse_transform([label_id])[0]\n",
        "\n",
        "    results.append({\n",
        "        \"query\": query,\n",
        "        \"class\": class_name,\n",
        "        \"label\": pred['label'],\n",
        "        \"confidence\": round(pred['score'], 4)\n",
        "    })\n",
        "\n",
        "# Save results to JSON\n",
        "output_path = \"/content/drive/MyDrive/SNLP_Project/query_predictions.json\"\n",
        "with open(output_path, \"w\") as f:\n",
        "    json.dump(results, f, indent=2)\n",
        "\n",
        "print(f\"Results saved to {output_path}\")\n"
      ],
      "metadata": {
        "colab": {
          "base_uri": "https://localhost:8080/"
        },
        "id": "qntva1k7Gjew",
        "outputId": "857afc48-639b-444e-8037-64264c64c323"
      },
      "execution_count": null,
      "outputs": [
        {
          "output_type": "stream",
          "name": "stderr",
          "text": [
            "Device set to use cpu\n"
          ]
        },
        {
          "output_type": "stream",
          "name": "stdout",
          "text": [
            "Results saved to /content/drive/MyDrive/SNLP_Project/query_predictions.json\n"
          ]
        }
      ]
    },
    {
      "cell_type": "code",
      "source": [],
      "metadata": {
        "id": "tao4-mfvtZdZ"
      },
      "execution_count": null,
      "outputs": []
    },
    {
      "cell_type": "markdown",
      "source": [
        "# Testing using Random Forest"
      ],
      "metadata": {
        "id": "5GCx9d7kF1kj"
      }
    },
    {
      "cell_type": "code",
      "source": [
        "# 1. Load saved model and vectorizer\n",
        "loaded_model_rf = joblib.load('/content/drive/MyDrive/Saved_Models/best_random_forest_model.joblib')\n",
        "loaded_vectorizer_rf = joblib.load('/content/drive/MyDrive/Saved_Models/tfidf_vectorizer.joblib')\n",
        "loaded_label_encoder = joblib.load('/content/drive/MyDrive/Saved_Models/label_encoder.joblib')\n",
        "\n",
        "# 2. Transform new queries using the loaded TF-IDF vectorizer\n",
        "X_new = loaded_vectorizer_rf.transform(only_questions)\n",
        "\n",
        "# 3. Predict using the loaded model\n",
        "pred_labels = loaded_model_rf.predict(X_new)\n",
        "\n",
        "# 4. Decode labels to class names using saved LabelEncoder\n",
        "pred_classes = loaded_label_encoder.inverse_transform(pred_labels)\n",
        "\n",
        "# 5. Prepare results for JSON\n",
        "results = []\n",
        "for query, label_num, label_name in zip(only_questions, pred_labels, pred_classes):\n",
        "    results.append({\n",
        "        \"query\": query,\n",
        "        \"label\": int(label_num),\n",
        "        \"class\": label_name\n",
        "    })\n",
        "\n",
        "# 6. Save to JSON file\n",
        "output_path = \"/content/drive/MyDrive/SNLP_Project/rf_query_predictions.json\"\n",
        "with open(output_path, \"w\") as f:\n",
        "    json.dump(results, f, indent=2)\n",
        "\n",
        "print(f\"Random Forest classification results saved to: {output_path}\")\n"
      ],
      "metadata": {
        "colab": {
          "base_uri": "https://localhost:8080/"
        },
        "id": "F4YE2gnEF03O",
        "outputId": "74e3008a-2b52-4213-8b0e-83cac8588001"
      },
      "execution_count": null,
      "outputs": [
        {
          "output_type": "stream",
          "name": "stdout",
          "text": [
            "Random Forest classification results saved to: /content/drive/MyDrive/SNLP_Project/rf_query_predictions.json\n"
          ]
        }
      ]
    },
    {
      "cell_type": "code",
      "source": [],
      "metadata": {
        "id": "wOOk61SeWESV"
      },
      "execution_count": null,
      "outputs": []
    }
  ]
}
