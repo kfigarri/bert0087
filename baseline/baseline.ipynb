{
 "cells": [
  {
   "cell_type": "code",
   "execution_count": null,
   "metadata": {},
   "outputs": [
    {
     "name": "stderr",
     "output_type": "stream",
     "text": [
      "/var/folders/hk/j9r7jggx4dxgt8gmzj_c2z080000gn/T/ipykernel_13597/1190930957.py:18: LangChainDeprecationWarning: The class `HuggingFaceEmbeddings` was deprecated in LangChain 0.2.2 and will be removed in 1.0. An updated version of the class exists in the :class:`~langchain-huggingface package and should be used instead. To use it run `pip install -U :class:`~langchain-huggingface` and import as `from :class:`~langchain_huggingface import HuggingFaceEmbeddings``.\n",
      "  embeddings = HuggingFaceEmbeddings(model_name=\"thenlper/gte-base\")\n",
      "/Users/figarrikeisha/.virtualenvs/nlpenv/lib/python3.10/site-packages/tqdm/auto.py:21: TqdmWarning: IProgress not found. Please update jupyter and ipywidgets. See https://ipywidgets.readthedocs.io/en/stable/user_install.html\n",
      "  from .autonotebook import tqdm as notebook_tqdm\n"
     ]
    }
   ],
   "source": [
    "import os\n",
    "import json\n",
    "import random\n",
    "from collections import defaultdict\n",
    "from typing import List, Tuple\n",
    "from pydantic import BaseModel, computed_field\n",
    "\n",
    "from langchain.docstore.document import Document\n",
    "from langchain.text_splitter import RecursiveCharacterTextSplitter\n",
    "from langchain.embeddings import HuggingFaceEmbeddings\n",
    "from langchain.vectorstores import FAISS\n",
    "\n",
    "\n",
    "dataset_name = \"contractnli\"\n",
    "vectorstore_path = \"./vectorstore/faiss_store_gte_base\"\n",
    "test_file = f\"../data/benchmarks/{dataset_name}.json\"\n",
    "result_file = f\"../data/results/qa_results.json\"\n",
    "embeddings = HuggingFaceEmbeddings(model_name=\"thenlper/gte-base\") \n",
    "\n",
    "# sentence-transformers/all-MiniLM-L6-v2\n",
    "# Linq-AI-Research/Linq-Embed-Mistral\n",
    "# thenlper/gte-base"
   ]
  },
  {
   "cell_type": "markdown",
   "metadata": {},
   "source": [
    "# Build Vector Store"
   ]
  },
  {
   "cell_type": "code",
   "execution_count": 4,
   "metadata": {},
   "outputs": [
    {
     "name": "stdout",
     "output_type": "stream",
     "text": [
      "Loaded 3307 document chunks with spans.\n",
      "FAISS vector store saved locally at ./vectorstore/faiss_store_gte_base.\n"
     ]
    }
   ],
   "source": [
    "def load_documents_with_spans(directory: str, chunk_size: int = 1000, chunk_overlap: int = 0):\n",
    "    \"\"\"\n",
    "    Loads .txt files from a directory, splits each document's text into chunks using\n",
    "    RecursiveCharacterTextSplitter, computes the span (start, end) for each chunk, and\n",
    "    returns a list of Document objects with metadata (including filename, source, and span).\n",
    "    \"\"\"\n",
    "    documents = []\n",
    "    # Initialize the splitter with the desired separators and parameters.\n",
    "    splitter = RecursiveCharacterTextSplitter(\n",
    "        separators=[\"\\n\\n\", \"\\n\", \"!\", \"?\", \".\", \":\", \";\", \",\", \" \", \"\"],\n",
    "        chunk_size=chunk_size,\n",
    "        chunk_overlap=chunk_overlap,\n",
    "        length_function=len,\n",
    "        is_separator_regex=False,\n",
    "        strip_whitespace=False,\n",
    "    )\n",
    "    \n",
    "    # Process each .txt file in the directory.\n",
    "    for filename in os.listdir(directory):\n",
    "        if filename.endswith(\".txt\"):\n",
    "            filepath = os.path.join(directory, filename)\n",
    "            with open(filepath, \"r\", encoding=\"utf-8\") as f:\n",
    "                text = f.read()\n",
    "            \n",
    "            # Split text into chunks.\n",
    "            text_splits = splitter.split_text(text)\n",
    "            \n",
    "            # Verify that the chunks concatenate to the original text.\n",
    "            assert \"\".join(text_splits) == text, \"Concatenated splits do not match the original text.\"\n",
    "            \n",
    "            # Compute spans and create Document objects.\n",
    "            prev_index = 0\n",
    "            for i, chunk_text in enumerate(text_splits):\n",
    "                span = (prev_index, prev_index + len(chunk_text))\n",
    "                prev_index += len(chunk_text)\n",
    "                doc = Document(\n",
    "                    page_content=chunk_text,\n",
    "                    metadata={\n",
    "                        \"filename\": filename,\n",
    "                        \"filepath\": f\"{dataset_name}/{filename}\",\n",
    "                        \"span\": span,  # Stores the (start, end) positions of the chunk.\n",
    "                        \"id\": f\"{filename}_chunk_{i}\"\n",
    "                    }\n",
    "                )\n",
    "                documents.append(doc)\n",
    "    return documents\n",
    "\n",
    "\n",
    "# Update this to the folder where your ContractNLI .txt files reside.\n",
    "directory_path = f\"./data/corpus/{dataset_name}\"\n",
    "\n",
    "# Load the documents, splitting each into chunks with span metadata.\n",
    "documents = load_documents_with_spans(directory_path, chunk_size=500, chunk_overlap=0)\n",
    "print(f\"Loaded {len(documents)} document chunks with spans.\")\n",
    "\n",
    "# Build the FAISS vector store using the list of Document objects.\n",
    "vectorstore = FAISS.from_documents(documents, embeddings)\n",
    "\n",
    "# Save the FAISS vector store locally for later retrieval.\n",
    "vectorstore.save_local(vectorstore_path)\n",
    "print(f\"FAISS vector store saved locally at {vectorstore_path}.\")"
   ]
  },
  {
   "cell_type": "code",
   "execution_count": 3,
   "metadata": {},
   "outputs": [
    {
     "name": "stdout",
     "output_type": "stream",
     "text": [
      "Deleted the FAISS vector store at: ./vectorstore/faiss_store_gte_base\n"
     ]
    }
   ],
   "source": [
    "# import shutil\n",
    "\n",
    "# # Check if the directory exists\n",
    "# if os.path.exists(vectorstore_path):\n",
    "#     shutil.rmtree(vectorstore_path)\n",
    "#     print(f\"Deleted the FAISS vector store at: {vectorstore_path}\")\n",
    "# else:\n",
    "#     print(f\"No FAISS vector store found at: {vectorstore_path}\")\n"
   ]
  },
  {
   "cell_type": "markdown",
   "metadata": {},
   "source": [
    "# Retrieve Samples"
   ]
  },
  {
   "cell_type": "code",
   "execution_count": 6,
   "metadata": {},
   "outputs": [
    {
     "name": "stdout",
     "output_type": "stream",
     "text": [
      "Test data loaded successfully.\n",
      "FAISS vector store loaded successfully.\n"
     ]
    }
   ],
   "source": [
    "with open(test_file, \"r\", encoding=\"utf-8\") as file:\n",
    "    test_data = json.load(file)\n",
    "print(\"Test data loaded successfully.\")\n",
    "\n",
    "# Load the FAISS vector store from the given path.\n",
    "vectorstore = FAISS.load_local(vectorstore_path, embeddings, allow_dangerous_deserialization=True)\n",
    "print(\"FAISS vector store loaded successfully.\")"
   ]
  },
  {
   "cell_type": "code",
   "execution_count": 7,
   "metadata": {},
   "outputs": [
    {
     "name": "stdout",
     "output_type": "stream",
     "text": [
      "query: Consider the Non-Disclosure Agreement between CopAcc and ToP Mentors; Does the document mention that some obligations of the Agreement may survive the termination of the Agreement?\n",
      "answer: Notwithstanding the termination of this Agreement, any Confidential Information must be kept confidential for as long as such Confidential Information is not publicly known unless it becomes part of the public domain through no wrongful act of Mentor. \n",
      "file_path: contractnli/CopAcc_NDA-and-ToP-Mentors_2.0_2017.txt\n"
     ]
    }
   ],
   "source": [
    "qidx = random_number = random.randint(1, 10)\n",
    "sample_test = test_data[\"tests\"][qidx]\n",
    "query_test = sample_test[\"query\"]\n",
    "answer_test = sample_test[\"snippets\"][0][\"answer\"]\n",
    "answer_file_path_test = sample_test[\"snippets\"][0][\"file_path\"]\n",
    "\n",
    "print(f\"query: {query_test}\")\n",
    "print(f\"answer: {answer_test}\")\n",
    "print(f\"file_path: {answer_file_path_test}\")"
   ]
  },
  {
   "cell_type": "code",
   "execution_count": 17,
   "metadata": {},
   "outputs": [
    {
     "name": "stdout",
     "output_type": "stream",
     "text": [
      "filename: ceii-and-nda.txt\n",
      "answer: \n",
      "4. Additional Provisions Relating to Disclosure and Use of CEII.\n",
      "score: -12.430959817201765\n",
      "-------------------------------------------------- \n",
      "\n",
      "filename: NDA-M5-Systems.txt\n",
      "answer: \n",
      "8. Miscellaneous. This Agreement shall be binding upon and for the benefit of the undersigned parties, their successors and assigns, provided that Confidential Information may not be assigned without the prior written consent of the Discloser. Failure to enforce any provision of this Agreement shall not constitute a waiver of any term hereof.\n",
      "score: -12.451230765461565\n",
      "-------------------------------------------------- \n",
      "\n",
      "filename: TabunKitchenInvestments-NDA.txt\n",
      "answer: \n",
      "2. Non-Disclosure; Use Restrictions. The Parties anticipate that in connection with, any of the Parties may receive or become privy to the Confidential Information of the other Parties\n",
      "score: -12.453789247753571\n",
      "-------------------------------------------------- \n",
      "\n",
      "filename: QuickBooks-NDA-template.txt\n",
      "answer: \n",
      "9. Miscellaneous. This Agreement shall be binding upon and for the benefit of the undersigned parties, their successors and assigns provided that Confidential Information may not be assigned without consent of the disclosing party. Failure to enforce any provision of this Agreement shall not constitute a waiver of any term hereof\n",
      "score: -12.476520223267254\n",
      "-------------------------------------------------- \n",
      "\n",
      "filename: simply-fashion---standard-nda.txt\n",
      "answer: . The terms of this Agreement shall control over any additional purported confidentiality requirements imposed by an offering memorandum, web-based database or similar repository of Evaluation Materials to which Potential Purchaser or its Representatives are granted access in connection with this Agreement, notwithstanding acceptance of such an offering memorandum or submission of an electronic signature\n",
      "score: -12.482717495872297\n",
      "-------------------------------------------------- \n",
      "\n",
      "filename: thoughtbot-mutual-nda.txt\n",
      "answer: . Without limiting the foregoing, Receiving Party shall take at least those measures that Receiving Party takes to protect its own most highly confidential information and shall have its employees, if any, who have access to Confidential Information sign a nonuse and non-disclosure agreement in content substantially similar to the provi-sions hereof, prior to any disclosure of Confidential Information to such employees\n",
      "score: -12.503974343212462\n",
      "-------------------------------------------------- \n",
      "\n",
      "filename: ceii-and-nda.txt\n",
      "answer: \n",
      "The Receiving Party shall not, without the respective Disclosing Party's prior written consent in each instance, disclose CEII or any reports, work product or other documents containing any CEII to any third party, firm, corporation or entity\n",
      "score: -12.516228623710703\n",
      "-------------------------------------------------- \n",
      "\n",
      "filename: ceii-and-nda.txt\n",
      "answer: . The Receiving Party may disclose CEII (i) only to its Representatives who have properly executed individual non-disclosure or confidentiality agreements in the course of their employment specifically pertaining to confidential information and CEII they receive in the course of their employment and (ii) only after informing each Representative of the restrictions in this Agreement on the disclosure and use of the CEII and that he or she must comply with such restrictions.\n",
      "score: -12.56509604009775\n",
      "-------------------------------------------------- \n",
      "\n",
      "filename: lti-two-way-cda-template.txt\n",
      "answer: \n",
      "8) This Non-Disclosure Agreement contains the entire agreement relative to the protection of information to be exchanged hereunder, and supersedes all prior or contemporaneous oral or written understandings and agreements regarding this issue. A Party’s failure to exercise a right under this Non-Disclosure Agreement or failure to insist upon compliance with any term of this Non-Disclosure Agreement shall not be a waiver of that right or term\n",
      "score: -12.579838670532073\n",
      "-------------------------------------------------- \n",
      "\n",
      "filename: JBF_NDA_rev-2017033-1.txt\n",
      "answer: . The Receiving Party shall not disclose, allow access to, transmit or transfer the Confidential Information to any third party without the Disclosing Party’s prior written consent, provided however that the Receiving Party may disclose the Confidential Information to those of its directors\n",
      "score: -12.592922401009005\n",
      "-------------------------------------------------- \n",
      "\n",
      "filename: AfriGIS_Client-NDA_Template_2019.txt\n",
      "answer: \n",
      "2.3 The Parties are currently engaged in proprietary discussions pertaining to …………………………... This entails the disclosure of Confidential Information.\n",
      "2.4 The Parties wish to record the terms and conditions upon which each shall disclose Confidential Information to the other, which terms and conditions shall constitute a binding and enforceable Agreement between the Parties and their agents.\n",
      "score: -12.601531147698447\n",
      "-------------------------------------------------- \n",
      "\n",
      "filename: ceii-and-nda.txt\n",
      "answer: . Further, such disclosure must be limited to the extent that it is reasonably necessary to evaluate the subject matter of the requested materials. The Receiving Party agrees to take all reasonable steps to cause its Representatives to comply with the terms of this Agreement and to be responsible for any breach of this Agreement by any Representative. The Receiving Party shall not disclose any CEII to any of its Representatives who have been convicted of any felony.\n",
      "score: -12.601563516478103\n",
      "-------------------------------------------------- \n",
      "\n",
      "filename: New_York_City_Bar_Association_Model_Form_of_Non-Disclosure_Agreement_2015.txt\n",
      "answer: . The terms of this Agreement shall control over any additional purported confidentiality requirements imposed by any offering memorandum, web-based database or similar repository of Evaluation Material to which Buyer or any of its Representatives is granted access in connection with the evaluation, negotiation or consummation of the Transaction, notwithstanding acceptance of such an offering memorandum or submission of an electronic signature\n",
      "score: -12.602197405079707\n",
      "-------------------------------------------------- \n",
      "\n",
      "filename: wayne-fueling-systems-mutual-non-disclosure-agreement-final.txt\n",
      "answer: . If, absent the entry of a protective order or receipt of a waiver, the Receiving Party is, in the opinion of its counsel, legally compelled to disclose such Confidential Information or Notes, the Receiving Party may disclose such Confidential Information or Notes to the persons and to the extent required without liability under this Agreement and will use its best efforts to obtain confidential treatment for any Confidential Information or Notes so disclosed.\n",
      "score: -12.643869511488974\n",
      "-------------------------------------------------- \n",
      "\n",
      "filename: CopAcc_NDA-and-ToP-Mentors_2.0_2017.txt\n",
      "answer: \n",
      "Mentor shall not disclose any Confidential Information to any third party or to Mentor’s employees and/or employer without the prior written consent of the Participants. Mentor shall require his/her employees who will have access to Confidential Information to commit to a non-disclosure agreement that protects the Confidential Information to at least the same degree as this Agreement\n",
      "score: -12.649503027848334\n",
      "-------------------------------------------------- \n",
      "\n",
      "filename: tpi-non-disclosure-agreement_1.txt\n",
      "answer: NON-DISCLOSURE AGREEMENT\n",
      "score: -12.667490628443208\n",
      "-------------------------------------------------- \n",
      "\n",
      "filename: ExcelerateStandardNDAFormat.txt\n",
      "answer: NON-DISCLOSURE AGREEMENT\n",
      "score: -12.667490628443208\n",
      "-------------------------------------------------- \n",
      "\n",
      "filename: SupplementOne-NDA.txt\n",
      "answer: NON-DISCLOSURE AGREEMENT\n",
      "score: -12.667490628443208\n",
      "-------------------------------------------------- \n",
      "\n",
      "filename: QuickBooks-NDA-template.txt\n",
      "answer: Non-disclosure Agreement\n",
      "score: -12.667490628443208\n",
      "-------------------------------------------------- \n",
      "\n",
      "filename: lti-two-way-cda-template.txt\n",
      "answer: NON-DISCLOSURE AGREEMENT\n",
      "score: -12.667490628443208\n",
      "-------------------------------------------------- \n",
      "\n"
     ]
    },
    {
     "name": "stderr",
     "output_type": "stream",
     "text": [
      "/var/folders/hk/j9r7jggx4dxgt8gmzj_c2z080000gn/T/ipykernel_3825/4021507898.py:2: UserWarning: Relevance scores must be between 0 and 1, got [(Document(id='a0be8575-4c6d-4632-8f07-1ab6b3d03927', metadata={'filename': 'ceii-and-nda.txt', 'source': './data/corpus/contractnli/ceii-and-nda.txt', 'span': (6128, 6193), 'id': 'ceii-and-nda.txt_chunk_20'}, page_content='\\n4. Additional Provisions Relating to Disclosure and Use of CEII.'), -12.430959817201765), (Document(id='f4388940-3063-4cf9-8b4e-9f6cae719a99', metadata={'filename': 'NDA-M5-Systems.txt', 'source': './data/corpus/contractnli/NDA-M5-Systems.txt', 'span': (4445, 4790), 'id': 'NDA-M5-Systems.txt_chunk_15'}, page_content='\\n8. Miscellaneous. This Agreement shall be binding upon and for the benefit of the undersigned parties, their successors and assigns, provided that Confidential Information may not be assigned without the prior written consent of the Discloser. Failure to enforce any provision of this Agreement shall not constitute a waiver of any term hereof.'), -12.451230765461565), (Document(id='d655663a-1433-418a-a93e-1e81b8eb783d', metadata={'filename': 'TabunKitchenInvestments-NDA.txt', 'source': './data/corpus/contractnli/TabunKitchenInvestments-NDA.txt', 'span': (1985, 2170), 'id': 'TabunKitchenInvestments-NDA.txt_chunk_7'}, page_content='\\n2. Non-Disclosure; Use Restrictions. The Parties anticipate that in connection with, any of the Parties may receive or become privy to the Confidential Information of the other Parties'), -12.453789247753571), (Document(id='0f5d2492-321b-488a-8c85-e03d9f26b566', metadata={'filename': 'QuickBooks-NDA-template.txt', 'source': './data/corpus/contractnli/QuickBooks-NDA-template.txt', 'span': (5379, 5711), 'id': 'QuickBooks-NDA-template.txt_chunk_19'}, page_content='\\n9. Miscellaneous. This Agreement shall be binding upon and for the benefit of the undersigned parties, their successors and assigns provided that Confidential Information may not be assigned without consent of the disclosing party. Failure to enforce any provision of this Agreement shall not constitute a waiver of any term hereof'), -12.476520223267254), (Document(id='6352b9f3-a6af-4db7-8d29-e25ee84a546e', metadata={'filename': 'simply-fashion---standard-nda.txt', 'source': './data/corpus/contractnli/simply-fashion---standard-nda.txt', 'span': (10195, 10602), 'id': 'simply-fashion---standard-nda.txt_chunk_37'}, page_content='. The terms of this Agreement shall control over any additional purported confidentiality requirements imposed by an offering memorandum, web-based database or similar repository of Evaluation Materials to which Potential Purchaser or its Representatives are granted access in connection with this Agreement, notwithstanding acceptance of such an offering memorandum or submission of an electronic signature'), -12.482717495872297), (Document(id='8848ab42-ad95-4477-83f8-30de0cba6a9c', metadata={'filename': 'thoughtbot-mutual-nda.txt', 'source': './data/corpus/contractnli/thoughtbot-mutual-nda.txt', 'span': (2727, 3149), 'id': 'thoughtbot-mutual-nda.txt_chunk_10'}, page_content='. Without limiting the foregoing, Receiving Party shall take at least those measures that Receiving Party takes to protect its own most highly confidential information and shall have its employees, if any, who have access to Confidential Information sign a nonuse and non-disclosure agreement in content substantially similar to the provi-sions hereof, prior to any disclosure of Confidential Information to such employees'), -12.503974343212462), (Document(id='4ac6c86c-b076-4f54-b3d6-7259fb0acf8b', metadata={'filename': 'ceii-and-nda.txt', 'source': './data/corpus/contractnli/ceii-and-nda.txt', 'span': (6993, 7236), 'id': 'ceii-and-nda.txt_chunk_23'}, page_content=\"\\nThe Receiving Party shall not, without the respective Disclosing Party's prior written consent in each instance, disclose CEII or any reports, work product or other documents containing any CEII to any third party, firm, corporation or entity\"), -12.516228623710703), (Document(id='554343a6-73e3-4085-bd20-41f94ae4b6f9', metadata={'filename': 'ceii-and-nda.txt', 'source': './data/corpus/contractnli/ceii-and-nda.txt', 'span': (7236, 7713), 'id': 'ceii-and-nda.txt_chunk_24'}, page_content='. The Receiving Party may disclose CEII (i) only to its Representatives who have properly executed individual non-disclosure or confidentiality agreements in the course of their employment specifically pertaining to confidential information and CEII they receive in the course of their employment and (ii) only after informing each Representative of the restrictions in this Agreement on the disclosure and use of the CEII and that he or she must comply with such restrictions.'), -12.56509604009775), (Document(id='ab5feb5f-29d6-4fbb-bd1a-58fc0c22f043', metadata={'filename': 'lti-two-way-cda-template.txt', 'source': './data/corpus/contractnli/lti-two-way-cda-template.txt', 'span': (6009, 6455), 'id': 'lti-two-way-cda-template.txt_chunk_22'}, page_content='\\n8) This Non-Disclosure Agreement contains the entire agreement relative to the protection of information to be exchanged hereunder, and supersedes all prior or contemporaneous oral or written understandings and agreements regarding this issue. A Party’s failure to exercise a right under this Non-Disclosure Agreement or failure to insist upon compliance with any term of this Non-Disclosure Agreement shall not be a waiver of that right or term'), -12.579838670532073), (Document(id='b97f8a2e-f31c-4629-ba34-3f4dd102e908', metadata={'filename': 'JBF_NDA_rev-2017033-1.txt', 'source': './data/corpus/contractnli/JBF_NDA_rev-2017033-1.txt', 'span': (3674, 3965), 'id': 'JBF_NDA_rev-2017033-1.txt_chunk_15'}, page_content='. The Receiving Party shall not disclose, allow access to, transmit or transfer the Confidential Information to any third party without the Disclosing Party’s prior written consent, provided however that the Receiving Party may disclose the Confidential Information to those of its directors'), -12.592922401009005), (Document(id='346d9d55-2571-4549-a42d-ac97f713d075', metadata={'filename': 'AfriGIS_Client-NDA_Template_2019.txt', 'source': './data/corpus/contractnli/AfriGIS_Client-NDA_Template_2019.txt', 'span': (8141, 8535), 'id': 'AfriGIS_Client-NDA_Template_2019.txt_chunk_22'}, page_content='\\n2.3 The Parties are currently engaged in proprietary discussions pertaining to …………………………... This entails the disclosure of Confidential Information.\\n2.4 The Parties wish to record the terms and conditions upon which each shall disclose Confidential Information to the other, which terms and conditions shall constitute a binding and enforceable Agreement between the Parties and their agents.'), -12.601531147698447), (Document(id='a4ff237f-e42d-4348-91ad-a512b5657ef6', metadata={'filename': 'ceii-and-nda.txt', 'source': './data/corpus/contractnli/ceii-and-nda.txt', 'span': (7713, 8183), 'id': 'ceii-and-nda.txt_chunk_25'}, page_content='. Further, such disclosure must be limited to the extent that it is reasonably necessary to evaluate the subject matter of the requested materials. The Receiving Party agrees to take all reasonable steps to cause its Representatives to comply with the terms of this Agreement and to be responsible for any breach of this Agreement by any Representative. The Receiving Party shall not disclose any CEII to any of its Representatives who have been convicted of any felony.'), -12.601563516478103), (Document(id='b71f1449-412e-42c6-9a5b-f55eea839749', metadata={'filename': 'New_York_City_Bar_Association_Model_Form_of_Non-Disclosure_Agreement_2015.txt', 'source': './data/corpus/contractnli/New_York_City_Bar_Association_Model_Form_of_Non-Disclosure_Agreement_2015.txt', 'span': (24582, 25029), 'id': 'New_York_City_Bar_Association_Model_Form_of_Non-Disclosure_Agreement_2015.txt_chunk_94'}, page_content='. The terms of this Agreement shall control over any additional purported confidentiality requirements imposed by any offering memorandum, web-based database or similar repository of Evaluation Material to which Buyer or any of its Representatives is granted access in connection with the evaluation, negotiation or consummation of the Transaction, notwithstanding acceptance of such an offering memorandum or submission of an electronic signature'), -12.602197405079707), (Document(id='8bb09825-2447-4d82-908c-a1ca5e3a3ecb', metadata={'filename': 'wayne-fueling-systems-mutual-non-disclosure-agreement-final.txt', 'source': './data/corpus/contractnli/wayne-fueling-systems-mutual-non-disclosure-agreement-final.txt', 'span': (7886, 8351), 'id': 'wayne-fueling-systems-mutual-non-disclosure-agreement-final.txt_chunk_29'}, page_content='. If, absent the entry of a protective order or receipt of a waiver, the Receiving Party is, in the opinion of its counsel, legally compelled to disclose such Confidential Information or Notes, the Receiving Party may disclose such Confidential Information or Notes to the persons and to the extent required without liability under this Agreement and will use its best efforts to obtain confidential treatment for any Confidential Information or Notes so disclosed.'), -12.643869511488974), (Document(id='63ee0a36-3d6c-4139-a9d9-0c841af9a761', metadata={'filename': 'CopAcc_NDA-and-ToP-Mentors_2.0_2017.txt', 'source': './data/corpus/contractnli/CopAcc_NDA-and-ToP-Mentors_2.0_2017.txt', 'span': (8666, 9053), 'id': 'CopAcc_NDA-and-ToP-Mentors_2.0_2017.txt_chunk_26'}, page_content='\\nMentor shall not disclose any Confidential Information to any third party or to Mentor’s employees and/or employer without the prior written consent of the Participants. Mentor shall require his/her employees who will have access to Confidential Information to commit to a non-disclosure agreement that protects the Confidential Information to at least the same degree as this Agreement'), -12.649503027848334), (Document(id='cdba6485-f806-44b7-8f81-92abae565c7b', metadata={'filename': 'tpi-non-disclosure-agreement_1.txt', 'source': './data/corpus/contractnli/tpi-non-disclosure-agreement_1.txt', 'span': (0, 24), 'id': 'tpi-non-disclosure-agreement_1.txt_chunk_0'}, page_content='NON-DISCLOSURE AGREEMENT'), -12.667490628443208), (Document(id='3843a45f-1bdf-42b6-97e7-8cc67c1407dc', metadata={'filename': 'ExcelerateStandardNDAFormat.txt', 'source': './data/corpus/contractnli/ExcelerateStandardNDAFormat.txt', 'span': (0, 24), 'id': 'ExcelerateStandardNDAFormat.txt_chunk_0'}, page_content='NON-DISCLOSURE AGREEMENT'), -12.667490628443208), (Document(id='1cb65f8b-f11e-474f-825b-96049cfa35da', metadata={'filename': 'SupplementOne-NDA.txt', 'source': './data/corpus/contractnli/SupplementOne-NDA.txt', 'span': (0, 24), 'id': 'SupplementOne-NDA.txt_chunk_0'}, page_content='NON-DISCLOSURE AGREEMENT'), -12.667490628443208), (Document(id='a735b3e6-5c32-4f84-a407-ef1788d1009f', metadata={'filename': 'QuickBooks-NDA-template.txt', 'source': './data/corpus/contractnli/QuickBooks-NDA-template.txt', 'span': (0, 24), 'id': 'QuickBooks-NDA-template.txt_chunk_0'}, page_content='Non-disclosure Agreement'), -12.667490628443208), (Document(id='204af134-8bd6-46cc-aed4-b4ede6abf5bc', metadata={'filename': 'lti-two-way-cda-template.txt', 'source': './data/corpus/contractnli/lti-two-way-cda-template.txt', 'span': (0, 24), 'id': 'lti-two-way-cda-template.txt_chunk_0'}, page_content='NON-DISCLOSURE AGREEMENT'), -12.667490628443208)]\n",
      "  retrieved_docs = vectorstore.similarity_search_with_relevance_scores(query_test, 20)\n"
     ]
    }
   ],
   "source": [
    "query_test = \"Consider the Non-Disclosure Agreement between CopAcc and ToP Mentors; Does the document restrict the use of Confidential Information to the purposes stated in the Agreement?\"\n",
    "retrieved_docs = vectorstore.similarity_search_with_relevance_scores(query_test, 20)\n",
    "\n",
    "for doc, score in retrieved_docs:\n",
    "    print(f\"filename: {doc.metadata['filename']}\")\n",
    "    print(f\"answer: {doc.page_content}\")\n",
    "    print(f\"score: {score}\")\n",
    "    print(\"-\"*50, '\\n')"
   ]
  },
  {
   "cell_type": "code",
   "execution_count": null,
   "metadata": {},
   "outputs": [],
   "source": []
  },
  {
   "cell_type": "markdown",
   "metadata": {},
   "source": [
    "# Evaluation"
   ]
  },
  {
   "cell_type": "code",
   "execution_count": 8,
   "metadata": {},
   "outputs": [
    {
     "name": "stderr",
     "output_type": "stream",
     "text": [
      "/var/folders/hk/j9r7jggx4dxgt8gmzj_c2z080000gn/T/ipykernel_7045/444561711.py:132: PydanticDeprecatedSince20: The `dict` method is deprecated; use `model_dump` instead. Deprecated in Pydantic V2.0 to be removed in V3.0. See Pydantic V2 Migration Guide at https://errors.pydantic.dev/2.10/migration/\n",
      "  \"ground_truth\": [gt_snippet.dict() for gt_snippet in gt.snippets],\n",
      "/var/folders/hk/j9r7jggx4dxgt8gmzj_c2z080000gn/T/ipykernel_7045/444561711.py:133: PydanticDeprecatedSince20: The `dict` method is deprecated; use `model_dump` instead. Deprecated in Pydantic V2.0 to be removed in V3.0. See Pydantic V2 Migration Guide at https://errors.pydantic.dev/2.10/migration/\n",
      "  \"retrieved\": [snippet.dict() for snippet in retrieved_snippets]\n"
     ]
    },
    {
     "name": "stdout",
     "output_type": "stream",
     "text": [
      "QA results saved to ./data/qa_results.json.\n"
     ]
    }
   ],
   "source": [
    "#############################\n",
    "# Define Data Models\n",
    "#############################\n",
    "\n",
    "class QASnippet(BaseModel):\n",
    "    file_path: str\n",
    "    span: Tuple[int, int]\n",
    "    answer: str\n",
    "\n",
    "class QAGroundTruth(BaseModel):\n",
    "    query: str\n",
    "    snippets: List[QASnippet]\n",
    "\n",
    "class RetrievedSnippet(BaseModel):\n",
    "    file_path: str\n",
    "    span: Tuple[int, int]\n",
    "    text: str      # Retrieved text content from the FAISS vectorstore\n",
    "    score: float   # Relevance score returned by similarity search\n",
    "\n",
    "class QAResult(BaseModel):\n",
    "    qa_gt: QAGroundTruth\n",
    "    retrieved_snippets: List[RetrievedSnippet]\n",
    "\n",
    "    @computed_field\n",
    "    @property\n",
    "    def precision(self) -> float:\n",
    "        total_retrieved_len = 0\n",
    "        relevant_retrieved_len = 0\n",
    "        for snippet in self.retrieved_snippets:\n",
    "            total_retrieved_len += snippet.span[1] - snippet.span[0]\n",
    "            # Compare with each ground-truth snippet (they are guaranteed not to overlap)\n",
    "            for gt_snippet in self.qa_gt.snippets:\n",
    "                if snippet.file_path == gt_snippet.file_path:\n",
    "                    common_min = max(snippet.span[0], gt_snippet.span[0])\n",
    "                    common_max = min(snippet.span[1], gt_snippet.span[1])\n",
    "                    if common_max > common_min:\n",
    "                        relevant_retrieved_len += common_max - common_min\n",
    "        if total_retrieved_len == 0:\n",
    "            return 0\n",
    "        return relevant_retrieved_len / total_retrieved_len\n",
    "\n",
    "    @computed_field\n",
    "    @property\n",
    "    def recall(self) -> float:\n",
    "        total_relevant_len = 0\n",
    "        relevant_retrieved_len = 0\n",
    "        for gt_snippet in self.qa_gt.snippets:\n",
    "            total_relevant_len += gt_snippet.span[1] - gt_snippet.span[0]\n",
    "            for snippet in self.retrieved_snippets:\n",
    "                if snippet.file_path == gt_snippet.file_path:\n",
    "                    common_min = max(snippet.span[0], gt_snippet.span[0])\n",
    "                    common_max = min(snippet.span[1], gt_snippet.span[1])\n",
    "                    if common_max > common_min:\n",
    "                        relevant_retrieved_len += common_max - common_min\n",
    "        if total_relevant_len == 0:\n",
    "            return 0\n",
    "        return relevant_retrieved_len / total_relevant_len\n",
    "\n",
    "#############################\n",
    "# Helper Functions\n",
    "#############################\n",
    "\n",
    "def load_groundtruth(json_file_path: str) -> List[QAGroundTruth]:\n",
    "    \"\"\"\n",
    "    Loads the QA ground-truth data from a JSON file.\n",
    "    Expected JSON format:\n",
    "    {\n",
    "        \"tests\": [\n",
    "            {\n",
    "                \"query\": \"Your query...\",\n",
    "                \"snippets\": [\n",
    "                    {\n",
    "                        \"file_path\": \"path/to/file.txt\",\n",
    "                        \"span\": [start, end],\n",
    "                        \"answer\": \"The answer text...\"\n",
    "                    },\n",
    "                    ...\n",
    "                ]\n",
    "            },\n",
    "            ...\n",
    "        ]\n",
    "    }\n",
    "    \"\"\"\n",
    "    with open(json_file_path, \"r\", encoding=\"utf-8\") as f:\n",
    "        data = json.load(f)\n",
    "    groundtruth_tests = []\n",
    "    for test in data.get(\"tests\", []):\n",
    "        snippets = [QASnippet(**snippet) for snippet in test[\"snippets\"]]\n",
    "        groundtruth_tests.append(QAGroundTruth(query=test[\"query\"], snippets=snippets))\n",
    "    return groundtruth_tests\n",
    "\n",
    "def perform_retrieval(vectorstore: FAISS, query: str, k: int = 5) -> List[RetrievedSnippet]:\n",
    "    \"\"\"\n",
    "    Uses the FAISS vector store to perform a similarity search on the given query using\n",
    "    similarity_search_with_relevance_score. Converts the returned Document objects into \n",
    "    RetrievedSnippet instances using the metadata, and also stores the relevance score.\n",
    "    \"\"\"\n",
    "    # Retrieve a list of tuples: (Document, relevance_score)\n",
    "    docs_and_scores: List[Tuple[Document, float]] = vectorstore.similarity_search_with_relevance_scores(query, k=k)\n",
    "    retrieved = []\n",
    "    for doc, score in docs_and_scores:\n",
    "        # Retrieve file path and span from metadata.\n",
    "        file_path = doc.metadata.get(\"filepath\")\n",
    "        span = doc.metadata.get(\"span\", (0, len(doc.page_content)))\n",
    "        retrieved.append(RetrievedSnippet(file_path=file_path, span=span, text=doc.page_content, score=score))\n",
    "    return retrieved\n",
    "\n",
    "#############################\n",
    "# Main Execution\n",
    "#############################\n",
    "\n",
    "# 1. Load ground-truth data.\n",
    "groundtruth_tests = load_groundtruth(test_file)\n",
    "\n",
    "# 2. Load the FAISS vector store that was previously created.\n",
    "vectorstore = FAISS.load_local(vectorstore_path, embeddings, allow_dangerous_deserialization=True)\n",
    "\n",
    "# 3. Evaluate retrieval performance for different k values.\n",
    "k_values = [1, 3, 5, 10]\n",
    "all_results = []\n",
    "\n",
    "for gt in groundtruth_tests:\n",
    "    for k in k_values:\n",
    "        retrieved_snippets = perform_retrieval(vectorstore, gt.query, k=k)\n",
    "        qa_result = QAResult(qa_gt=gt, retrieved_snippets=retrieved_snippets)\n",
    "        # Create a dictionary of results for this query and k.\n",
    "        result_dict = {\n",
    "            \"query\": gt.query,\n",
    "            \"k\": k,\n",
    "            \"precision\": qa_result.precision,\n",
    "            \"recall\": qa_result.recall,\n",
    "            \"ground_truth\": [gt_snippet.dict() for gt_snippet in gt.snippets],\n",
    "            \"retrieved\": [snippet.dict() for snippet in retrieved_snippets]\n",
    "        }\n",
    "        all_results.append(result_dict)\n",
    "\n",
    "# 4. Save the results as JSON.\n",
    "with open(result_file, \"w\", encoding=\"utf-8\") as f:\n",
    "    json.dump(all_results, f, indent=2)\n",
    "\n",
    "print(f\"QA results saved to {result_file}.\")"
   ]
  },
  {
   "cell_type": "code",
   "execution_count": 9,
   "metadata": {},
   "outputs": [
    {
     "name": "stdout",
     "output_type": "stream",
     "text": [
      "Average Precision and Recall for each K:\n",
      "K = 1: Average Precision = 0.0299, Average Recall = 0.0355\n",
      "K = 3: Average Precision = 0.0213, Average Recall = 0.0565\n",
      "K = 5: Average Precision = 0.0191, Average Recall = 0.0693\n",
      "K = 10: Average Precision = 0.0174, Average Recall = 0.0989\n"
     ]
    }
   ],
   "source": [
    "with open(result_file, \"r\", encoding=\"utf-8\") as f:\n",
    "    results = json.load(f)\n",
    "\n",
    "# Dictionary to collect precision and recall values per K.\n",
    "# The keys will be the K value and the values a list of (precision, recall) tuples.\n",
    "metrics_by_k = defaultdict(list)\n",
    "\n",
    "for item in results:\n",
    "    k = item.get(\"k\")\n",
    "    precision = item.get(\"precision\", 0)\n",
    "    recall = item.get(\"recall\", 0)\n",
    "    metrics_by_k[k].append((precision, recall))\n",
    "\n",
    "# Compute the average precision and recall for each K.\n",
    "avg_metrics = {}\n",
    "for k, metrics in metrics_by_k.items():\n",
    "    if metrics:\n",
    "        total_precision = sum(m[0] for m in metrics)\n",
    "        total_recall = sum(m[1] for m in metrics)\n",
    "        count = len(metrics)\n",
    "        avg_precision = total_precision / count\n",
    "        avg_recall = total_recall / count\n",
    "    else:\n",
    "        avg_precision = 0\n",
    "        avg_recall = 0\n",
    "    avg_metrics[k] = {\"avg_precision\": avg_precision, \"avg_recall\": avg_recall}\n",
    "\n",
    "# Print the results.\n",
    "print(\"Average Precision and Recall for each K:\")\n",
    "for k in sorted(avg_metrics.keys()):\n",
    "    metrics = avg_metrics[k]\n",
    "    print(f\"K = {k}: Average Precision = {metrics['avg_precision']:.4f}, Average Recall = {metrics['avg_recall']:.4f}\")"
   ]
  },
  {
   "cell_type": "code",
   "execution_count": 14,
   "metadata": {},
   "outputs": [
    {
     "data": {
      "text/plain": [
       "{'query': \"Consider EFCA's Non-Disclosure Agreement; Does the document permit the Receiving Party to create a copy of some Confidential Information under certain circumstances?\",\n",
       " 'k': 3,\n",
       " 'precision': 0.20080321285140562,\n",
       " 'recall': 1.0,\n",
       " 'ground_truth': [{'file_path': 'contractnli/EFCAConfidentialityAgreement.txt',\n",
       "   'span': [2459, 2609],\n",
       "   'answer': 'Copies or reproductions shall not be made except to the extent reasonably necessary and all copies made shall be the property of the disclosing party.'}],\n",
       " 'retrieved': [{'file_path': 'contractnli/EFCAConfidentialityAgreement.txt',\n",
       "   'span': [2280, 2609],\n",
       "   'text': '. EFCA shall ensure that disclosure of such Confidential Information is restricted to those employees or directors of EFCA and EFCA’s principals having the need to know the same. Copies or reproductions shall not be made except to the extent reasonably necessary and all copies made shall be the property of the disclosing party.',\n",
       "   'score': 0.8845122402835409},\n",
       "  {'file_path': 'contractnli/EFCAConfidentialityAgreement.txt',\n",
       "   'span': [4473, 4867],\n",
       "   'text': '\\n5. Confidentiality\\nEFCA agrees to keep the existence and nature of this Agreement confidential and not to use the same or the name of the disclosing party (or of any company in the Group of Companies of which the disclosing party forms part) in any publicity, advertisement or other disclosure with regard to this Agreement without the prior written consent of the disclosing party.\\n6. Notices',\n",
       "   'score': 0.8765695613145417},\n",
       "  {'file_path': 'contractnli/tpi-non-disclosure-agreement_1.txt',\n",
       "   'span': [0, 24],\n",
       "   'text': 'NON-DISCLOSURE AGREEMENT',\n",
       "   'score': 0.8719251155858989}]}"
      ]
     },
     "execution_count": 14,
     "metadata": {},
     "output_type": "execute_result"
    }
   ],
   "source": [
    "qidx = random_number = random.randint(1, len(results))\n",
    "results[qidx]"
   ]
  },
  {
   "cell_type": "code",
   "execution_count": 15,
   "metadata": {},
   "outputs": [
    {
     "data": {
      "text/plain": [
       "{'query': 'Consider the Non-Disclosure Agreement between IGC and LSE; Does the document allow the Receiving Party to share some Confidential Information with third parties, including consultants, agents, and professional advisors?',\n",
       " 'k': 5,\n",
       " 'precision': 0.0,\n",
       " 'recall': 0.0,\n",
       " 'ground_truth': [{'file_path': 'contractnli/IGC-Non-Disclosure-Agreement-LSE-Sample.txt',\n",
       "   'span': [4634, 4736],\n",
       "   'answer': 'Representative means employees, agents, officers, advisers and other representatives of the Recipient.'},\n",
       "  {'file_path': 'contractnli/IGC-Non-Disclosure-Agreement-LSE-Sample.txt',\n",
       "   'span': [6909, 7094],\n",
       "   'answer': \"The Recipient may disclose the Disclosing Party's Confidential Information to those of its Representatives who need to know this Confidential Information for the Purpose, provided that:\"}],\n",
       " 'retrieved': [{'file_path': 'contractnli/tpi-non-disclosure-agreement_1.txt',\n",
       "   'span': [0, 24],\n",
       "   'text': 'NON-DISCLOSURE AGREEMENT',\n",
       "   'score': 0.8735252839098877},\n",
       "  {'file_path': 'contractnli/ExcelerateStandardNDAFormat.txt',\n",
       "   'span': [0, 24],\n",
       "   'text': 'NON-DISCLOSURE AGREEMENT',\n",
       "   'score': 0.8735252839098877},\n",
       "  {'file_path': 'contractnli/SupplementOne-NDA.txt',\n",
       "   'span': [0, 24],\n",
       "   'text': 'NON-DISCLOSURE AGREEMENT',\n",
       "   'score': 0.8735252522997513},\n",
       "  {'file_path': 'contractnli/QuickBooks-NDA-template.txt',\n",
       "   'span': [0, 24],\n",
       "   'text': 'Non-disclosure Agreement',\n",
       "   'score': 0.8735252522997513},\n",
       "  {'file_path': 'contractnli/lti-two-way-cda-template.txt',\n",
       "   'span': [0, 24],\n",
       "   'text': 'NON-DISCLOSURE AGREEMENT',\n",
       "   'score': 0.8735252522997513}]}"
      ]
     },
     "execution_count": 15,
     "metadata": {},
     "output_type": "execute_result"
    }
   ],
   "source": [
    "qidx = random_number = random.randint(1, len(results))\n",
    "results[qidx]"
   ]
  },
  {
   "cell_type": "code",
   "execution_count": null,
   "metadata": {},
   "outputs": [],
   "source": []
  }
 ],
 "metadata": {
  "kernelspec": {
   "display_name": "nlpenv",
   "language": "python",
   "name": "python3"
  },
  "language_info": {
   "codemirror_mode": {
    "name": "ipython",
    "version": 3
   },
   "file_extension": ".py",
   "mimetype": "text/x-python",
   "name": "python",
   "nbconvert_exporter": "python",
   "pygments_lexer": "ipython3",
   "version": "3.10.12"
  }
 },
 "nbformat": 4,
 "nbformat_minor": 2
}
