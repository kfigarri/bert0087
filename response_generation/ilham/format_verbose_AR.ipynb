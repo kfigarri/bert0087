{
 "cells": [
  {
   "cell_type": "code",
   "execution_count": 13,
   "metadata": {},
   "outputs": [
    {
     "name": "stdout",
     "output_type": "stream",
     "text": [
      "Successfully formatted JSON\n"
     ]
    }
   ],
   "source": [
    "import json\n",
    "import re\n",
    "\n",
    "def fix_array_format(text):\n",
    "    # Fix array formatting in cosine_sim\n",
    "    return re.sub(r'\\[([\\d\\.\\s]+)\\]', lambda m: '[' + ', '.join(m.group(1).split()) + ']', text)\n",
    "\n",
    "def fix_json_content(content):\n",
    "    # Split content into individual JSON objects\n",
    "    json_objects = re.findall(r'\\{.*?\\}', content, re.DOTALL)\n",
    "    \n",
    "    # Process each JSON object\n",
    "    fixed_objects = []\n",
    "    for obj in json_objects:\n",
    "        # Replace curly quotes with straight quotes\n",
    "        obj = obj.replace('\"', '\"').replace('\"', '\"')\n",
    "        \n",
    "        # Handle apostrophes in text by escaping them\n",
    "        obj = re.sub(r'(\\w)\\'(\\w)', r'\\1\\\\\"\\2', obj)\n",
    "        \n",
    "        # Fix single quotes to double quotes\n",
    "        obj = obj.replace(\"'\", '\"')\n",
    "        \n",
    "        # Fix array formatting\n",
    "        obj = fix_array_format(obj)\n",
    "        \n",
    "        # Remove trailing commas before closing braces\n",
    "        obj = obj.replace(',\\n}', '\\n}')\n",
    "        \n",
    "        # Remove any trailing comma on the last item\n",
    "        obj = re.sub(r',(\\s*})$', r'\\1', obj)\n",
    "        \n",
    "        # Fix missing commas between objects\n",
    "        if fixed_objects and not obj.startswith(','):\n",
    "            obj = ',' + obj\n",
    "            \n",
    "        # Fix missing commas after array values\n",
    "        obj = re.sub(r'(\\])(\\s*)([^,}\\s])', r'\\1,\\2\\3', obj)\n",
    "        \n",
    "        fixed_objects.append(obj)\n",
    "    \n",
    "    # Join all objects into a single array\n",
    "    content = '[\\n' + '\\n'.join(fixed_objects) + '\\n]'\n",
    "    \n",
    "    return content\n",
    "\n",
    "# Read the file\n",
    "with open('outputk10.txt', 'r', encoding='utf-8') as f:\n",
    "    content = f.read()\n",
    "\n",
    "# Fix the content\n",
    "fixed_content = fix_json_content(content)\n",
    "\n",
    "# Try to parse and write the formatted JSON\n",
    "try:\n",
    "    data = json.loads(fixed_content)\n",
    "    with open('output_formatted.json', 'w', encoding='utf-8') as f:\n",
    "        json.dump(data, f, indent=4)\n",
    "    print(\"Successfully formatted JSON\")\n",
    "except json.JSONDecodeError as e:\n",
    "    print(f\"Error parsing JSON: {e}\")\n",
    "    # Print the problematic area\n",
    "    lines = fixed_content.split('\\n')\n",
    "    line_no = e.lineno - 1\n",
    "    print(\"\\nProblematic area:\")\n",
    "    for i in range(max(0, line_no-2), min(len(lines), line_no+3)):\n",
    "        print(f\"Line {i+1}: {lines[i]}\")"
   ]
  }
 ],
 "metadata": {
  "kernelspec": {
   "display_name": "response_gen_venv",
   "language": "python",
   "name": "python3"
  },
  "language_info": {
   "codemirror_mode": {
    "name": "ipython",
    "version": 3
   },
   "file_extension": ".py",
   "mimetype": "text/x-python",
   "name": "python",
   "nbconvert_exporter": "python",
   "pygments_lexer": "ipython3",
   "version": "3.11.9"
  }
 },
 "nbformat": 4,
 "nbformat_minor": 2
}
