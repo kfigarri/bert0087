{
 "cells": [
  {
   "cell_type": "code",
   "execution_count": 38,
   "metadata": {},
   "outputs": [
    {
     "name": "stdout",
     "output_type": "stream",
     "text": [
      "Name: langchain\n",
      "Version: 0.3.17\n",
      "Summary: Building applications with LLMs through composability\n",
      "Home-page: https://github.com/langchain-ai/langchain\n",
      "Author: \n",
      "Author-email: \n",
      "License: MIT\n",
      "Location: /Library/Frameworks/Python.framework/Versions/3.11/lib/python3.11/site-packages\n",
      "Requires: aiohttp, langchain-core, langchain-text-splitters, langsmith, numpy, pydantic, PyYAML, requests, SQLAlchemy, tenacity\n",
      "Required-by: langchain-community, ragas\n"
     ]
    }
   ],
   "source": [
    "!pip show langchain"
   ]
  },
  {
   "cell_type": "code",
   "execution_count": 1,
   "metadata": {},
   "outputs": [],
   "source": [
    "import os\n",
    "import json\n",
    "import random\n",
    "from collections import defaultdict\n",
    "from typing import List, Tuple\n",
    "from pydantic import BaseModel, computed_field\n",
    "\n",
    "# llm=mistral, embedding=gte-base, vecetorstore=faiss\n",
    "# from langchain.docstore.document import Document\n",
    "# from langchain.text_splitter import RecursiveCharacterTextSplitter\n",
    "# from langchain.embeddings import HuggingFaceEmbeddings\n",
    "# from langchain.vectorstores import FAISS\n",
    "\n",
    "# llm=openai, embedding=openai, vectorstore=chroma\n",
    "from dotenv import load_dotenv\n",
    "from langchain_openai import ChatOpenAI\n",
    "from langchain_openai import OpenAIEmbeddings\n",
    "from langchain_chroma import Chroma\n",
    "from langchain_core.documents import Document\n",
    "from langchain_text_splitters import RecursiveCharacterTextSplitter\n",
    "from langgraph.graph import START, StateGraph\n",
    "\n",
    "load_dotenv()\n",
    "os.environ.get(\"OPENAI_API_KEY\")\n",
    "\n",
    "# corpus\n",
    "dataset_name = \"contractnli\"\n",
    "test_file = f\"../data/benchmarks/{dataset_name}.json\"\n",
    "result_file = f\"../data/results/qa_results.json\"\n",
    "\n",
    "# embeddings\n",
    "# embeddings = HuggingFaceEmbeddings(model_name=\"thenlper/gte-base\") \n",
    "embeddings = OpenAIEmbeddings(model=\"text-embedding-3-small\")\n",
    "\n",
    "# vector store\n",
    "# vectorstore_path = \"./vectorstore/faiss_store_gte_base\"\n",
    "persist_path = \"./vectorstore/chroma_openai_embed_3_small\"\n",
    "# Chroma is just good for PoC and hobby\n",
    "vector_store = Chroma(\n",
    "        embedding_function=embeddings, \n",
    "        persist_directory=persist_path\n",
    "    )\n",
    "\n",
    "# LLM\n",
    "llm = ChatOpenAI(model=\"gpt-3.5-turbo-0125\")"
   ]
  },
  {
   "cell_type": "code",
   "execution_count": 2,
   "metadata": {},
   "outputs": [],
   "source": [
    "def load_documents_with_spans(directory: str, chunk_size: int = 1000, chunk_overlap: int = 0):\n",
    "    \"\"\"\n",
    "    Loads .txt files from a directory, splits each document's text into chunks using\n",
    "    RecursiveCharacterTextSplitter, computes the span (start, end) for each chunk, and\n",
    "    returns a list of Document objects with metadata (including filename, source, and span).\n",
    "    \"\"\"\n",
    "    documents = []\n",
    "    # Initialize the splitter with the desired separators and parameters.\n",
    "    splitter = RecursiveCharacterTextSplitter(\n",
    "        separators=[\"\\n\\n\", \"\\n\", \"!\", \"?\", \".\", \":\", \";\", \",\", \" \", \"\"],\n",
    "        chunk_size=chunk_size,\n",
    "        chunk_overlap=chunk_overlap,\n",
    "        length_function=len,\n",
    "        is_separator_regex=False,\n",
    "        strip_whitespace=False,\n",
    "    )\n",
    "    \n",
    "    # Process each .txt file in the directory.\n",
    "    for filename in os.listdir(directory):\n",
    "        if filename.endswith(\".txt\"):\n",
    "            filepath = os.path.join(directory, filename)\n",
    "            with open(filepath, \"r\", encoding=\"utf-8\") as f:\n",
    "                text = f.read()\n",
    "            \n",
    "            # Split text into chunks.\n",
    "            text_splits = splitter.split_text(text)\n",
    "            \n",
    "            # Verify that the chunks concatenate to the original text.\n",
    "            assert \"\".join(text_splits) == text, \"Concatenated splits do not match the original text.\"\n",
    "            \n",
    "            # Compute spans and create Document objects.\n",
    "            prev_index = 0\n",
    "            for i, chunk_text in enumerate(text_splits):\n",
    "                span_start = prev_index\n",
    "                span_end = prev_index + len(chunk_text)\n",
    "                prev_index += len(chunk_text)\n",
    "                doc = Document(\n",
    "                    page_content=chunk_text,\n",
    "                    metadata={\n",
    "                        \"filename\": filename,\n",
    "                        \"filepath\": f\"{dataset_name}/{filename}\",\n",
    "                        \"span_start\": span_start,\n",
    "                        \"span_end\":  span_end,  # Stores the (start, end) positions of the chunk.\n",
    "                        \"id\": f\"{filename}_chunk_{i}\"\n",
    "                    }\n",
    "                )\n",
    "                documents.append(doc)\n",
    "    return documents"
   ]
  },
  {
   "cell_type": "code",
   "execution_count": 3,
   "metadata": {},
   "outputs": [
    {
     "name": "stdout",
     "output_type": "stream",
     "text": [
      "Loaded 3307 document chunks with spans.\n",
      "[Document(metadata={'filename': 'QEP-Williston-Form-of-Confidentiality-Agreement-BMO.txt', 'filepath': 'contractnli/QEP-Williston-Form-of-Confidentiality-Agreement-BMO.txt', 'span_start': 0, 'span_end': 451, 'id': 'QEP-Williston-Form-of-Confidentiality-Agreement-BMO.txt_chunk_0'}, page_content='CONFIDENTIALITY AND NONDISCLOSURE AGREEMENT\\nThis Confidentiality and Nondisclosure Agreement (this “Agreement”) is dated _______ ___, 2018 (the “Effective Date”), and is between QEP Energy Company (“Owner”), a Delaware corporation, and _____________________ (the “Receiving Company”), a ______ ______________. Owner and the Receiving Company are sometimes referred to herein individually as a “Party” and collectively as the “Parties.”\\nR E C I T A L S'), Document(metadata={'filename': 'QEP-Williston-Form-of-Confidentiality-Agreement-BMO.txt', 'filepath': 'contractnli/QEP-Williston-Form-of-Confidentiality-Agreement-BMO.txt', 'span_start': 451, 'span_end': 751, 'id': 'QEP-Williston-Form-of-Confidentiality-Agreement-BMO.txt_chunk_1'}, page_content='\\nWHEREAS, Owner has in its possession the Confidential Information (as hereinafter defined) relating to Owner’s and certain of its Affiliates’ assets and properties located in the Williston Basin in Dunn, McKenzie, McLean, Mercer and Mountrail Counties, North Dakota (collectively, the “Properties”);'), Document(metadata={'filename': 'QEP-Williston-Form-of-Confidentiality-Agreement-BMO.txt', 'filepath': 'contractnli/QEP-Williston-Form-of-Confidentiality-Agreement-BMO.txt', 'span_start': 751, 'span_end': 1218, 'id': 'QEP-Williston-Form-of-Confidentiality-Agreement-BMO.txt_chunk_2'}, page_content='\\nWHEREAS, in order for the Receiving Company to determine its interest in entering into a transaction with Owner and/or certain of its Affiliates regarding the potential sale, transfer or other disposition of all or any portion of the Properties (the “Transaction”), Owner is willing to disclose on a non-exclusive basis certain Confidential Information to the Receiving Company for the sole purpose of the Receiving Company’s review and evaluation of the Transaction'), Document(metadata={'filename': 'QEP-Williston-Form-of-Confidentiality-Agreement-BMO.txt', 'filepath': 'contractnli/QEP-Williston-Form-of-Confidentiality-Agreement-BMO.txt', 'span_start': 1218, 'span_end': 1320, 'id': 'QEP-Williston-Form-of-Confidentiality-Agreement-BMO.txt_chunk_3'}, page_content=', provided that the Receiving Company agrees to and accepts the terms and provisions of this Agreement'), Document(metadata={'filename': 'QEP-Williston-Form-of-Confidentiality-Agreement-BMO.txt', 'filepath': 'contractnli/QEP-Williston-Form-of-Confidentiality-Agreement-BMO.txt', 'span_start': 1320, 'span_end': 1325, 'id': 'QEP-Williston-Form-of-Confidentiality-Agreement-BMO.txt_chunk_4'}, page_content='; and')]\n"
     ]
    }
   ],
   "source": [
    "# Update this to the folder where your ContractNLI .txt files reside.\n",
    "directory_path = f\"../data/corpus/{dataset_name}\"\n",
    "\n",
    "# Load the documents, splitting each into chunks with span metadata.\n",
    "documents = load_documents_with_spans(directory_path, chunk_size=500, chunk_overlap=0)\n",
    "print(f\"Loaded {len(documents)} document chunks with spans.\")\n",
    "print(documents[:5])"
   ]
  },
  {
   "cell_type": "code",
   "execution_count": 4,
   "metadata": {},
   "outputs": [
    {
     "name": "stdout",
     "output_type": "stream",
     "text": [
      "page_content='CONFIDENTIALITY AND NONDISCLOSURE AGREEMENT\n",
      "This Confidentiality and Nondisclosure Agreement (this “Agreement”) is dated _______ ___, 2018 (the “Effective Date”), and is between QEP Energy Company (“Owner”), a Delaware corporation, and _____________________ (the “Receiving Company”), a ______ ______________. Owner and the Receiving Company are sometimes referred to herein individually as a “Party” and collectively as the “Parties.”\n",
      "R E C I T A L S' metadata={'filename': 'QEP-Williston-Form-of-Confidentiality-Agreement-BMO.txt', 'filepath': 'contractnli/QEP-Williston-Form-of-Confidentiality-Agreement-BMO.txt', 'span_start': 0, 'span_end': 451, 'id': 'QEP-Williston-Form-of-Confidentiality-Agreement-BMO.txt_chunk_0'}\n"
     ]
    }
   ],
   "source": [
    "print(documents[0])"
   ]
  },
  {
   "cell_type": "code",
   "execution_count": 5,
   "metadata": {},
   "outputs": [],
   "source": [
    "# add the documents (chunks) to the vector store\n",
    "_ = vector_store.add_documents(documents=documents)"
   ]
  },
  {
   "cell_type": "markdown",
   "metadata": {},
   "source": [
    "# Retrieve Samples"
   ]
  },
  {
   "cell_type": "code",
   "execution_count": 6,
   "metadata": {},
   "outputs": [
    {
     "name": "stdout",
     "output_type": "stream",
     "text": [
      "Test data loaded successfully.\n"
     ]
    }
   ],
   "source": [
    "with open(test_file, \"r\", encoding=\"utf-8\") as file:\n",
    "    test_data = json.load(file)\n",
    "print(\"Test data loaded successfully.\")"
   ]
  },
  {
   "cell_type": "code",
   "execution_count": 12,
   "metadata": {},
   "outputs": [
    {
     "name": "stdout",
     "output_type": "stream",
     "text": [
      "query: Consider the Non-Disclosure Agreement between CopAcc and ToP Mentors; Does the document mention that some obligations of the Agreement may survive the termination of the Agreement?\n",
      "answer: Notwithstanding the termination of this Agreement, any Confidential Information must be kept confidential for as long as such Confidential Information is not publicly known unless it becomes part of the public domain through no wrongful act of Mentor. \n",
      "file_path: contractnli/CopAcc_NDA-and-ToP-Mentors_2.0_2017.txt\n"
     ]
    }
   ],
   "source": [
    "qidx = random_number = random.randint(1, 10)\n",
    "sample_test = test_data[\"tests\"][qidx]\n",
    "query_test = sample_test[\"query\"]\n",
    "answer_test = sample_test[\"snippets\"][0][\"answer\"]\n",
    "answer_file_path_test = sample_test[\"snippets\"][0][\"file_path\"]\n",
    "\n",
    "print(f\"query: {query_test}\")\n",
    "print(f\"answer: {answer_test}\")\n",
    "print(f\"file_path: {answer_file_path_test}\")"
   ]
  },
  {
   "cell_type": "code",
   "execution_count": 37,
   "metadata": {},
   "outputs": [
    {
     "name": "stdout",
     "output_type": "stream",
     "text": [
      "query: Consider the Non-Disclosure Agreement between CopAcc and ToP Mentors; Does the document allow the Receiving Party to share some Confidential Information with third parties, including consultants, agents, and professional advisors?\n",
      "answer: Mentor shall not disclose any Confidential Information to any third party or to Mentor’s employees and/or employer without the prior written consent of the Participants. \n",
      "file_path: contractnli/CopAcc_NDA-and-ToP-Mentors_2.0_2017.txt\n",
      "\n",
      "\n",
      "\n",
      "\n",
      "filename: CopAcc_NDA-and-ToP-Mentors_2.0_2017.txt\n",
      "answer: \n",
      "Mentor shall not disclose any Confidential Information to any third party or to Mentor’s employees and/or employer without the prior written consent of the Participants. Mentor shall require his/her employees who will have access to Confidential Information to commit to a non-disclosure agreement that protects the Confidential Information to at least the same degree as this Agreement\n",
      "score: 0.5104152956142991\n",
      "-------------------------------------------------- \n",
      "\n",
      "filename: CopAcc_NDA-and-ToP-Mentors_2.0_2017.txt\n",
      "answer: \n",
      "Mentor shall not disclose any Confidential Information to any third party or to Mentor’s employees and/or employer without the prior written consent of the Participants. Mentor shall require his/her employees who will have access to Confidential Information to commit to a non-disclosure agreement that protects the Confidential Information to at least the same degree as this Agreement\n",
      "score: 0.5104152956142991\n",
      "-------------------------------------------------- \n",
      "\n",
      "filename: CopAcc_NDA-and-ToP-Mentors_2.0_2017.txt\n",
      "answer: \n",
      "Mentor shall not disclose any Confidential Information to any third party or to Mentor’s employees and/or employer without the prior written consent of the Participants. Mentor shall require his/her employees who will have access to Confidential Information to commit to a non-disclosure agreement that protects the Confidential Information to at least the same degree as this Agreement\n",
      "score: 0.5104152956142991\n",
      "-------------------------------------------------- \n",
      "\n"
     ]
    }
   ],
   "source": [
    "qidx = random_number = random.randint(1, 150)\n",
    "sample_test = test_data[\"tests\"][qidx]\n",
    "query_test = sample_test[\"query\"]\n",
    "answer_test = sample_test[\"snippets\"][0][\"answer\"]\n",
    "answer_file_path_test = sample_test[\"snippets\"][0][\"file_path\"]\n",
    "\n",
    "# query_test = \"Consider the Non-Disclosure Agreement between CopAcc and ToP Mentors; Does the document restrict the use of Confidential Information to the purposes stated in the Agreement?\"\n",
    "retrieved_docs = vector_store.similarity_search_with_relevance_scores(query_test, 3, filter={\"filepath\": answer_file_path_test})\n",
    "\n",
    "print(f\"query: {query_test}\")\n",
    "print(f\"answer: {answer_test}\")\n",
    "print(f\"file_path: {answer_file_path_test}\")\n",
    "print(\"\\n\\n\\n\")\n",
    "for doc, score in retrieved_docs:\n",
    "    # print(f\"filename: {doc.metadata}\")\n",
    "    print(f\"filename: {doc.metadata['filename']}\")\n",
    "    print(f\"answer: {doc.page_content}\")\n",
    "    print(f\"score: {score}\")\n",
    "    print(\"-\"*50, '\\n')"
   ]
  },
  {
   "cell_type": "code",
   "execution_count": 28,
   "metadata": {},
   "outputs": [
    {
     "name": "stdout",
     "output_type": "stream",
     "text": [
      "{'query': 'Consider the Non-Disclosure Agreement between CopAcc and ToP Mentors; Does the document allow the Receiving Party to share some Confidential Information with third parties, including consultants, agents, and professional advisors?', 'snippets': [{'file_path': 'contractnli/CopAcc_NDA-and-ToP-Mentors_2.0_2017.txt', 'span': [8667, 8837], 'answer': 'Mentor shall not disclose any Confidential Information to any third party or to Mentor’s employees and/or employer without the prior written consent of the Participants. '}]}\n"
     ]
    }
   ],
   "source": [
    "print(sample_test)"
   ]
  },
  {
   "cell_type": "markdown",
   "metadata": {},
   "source": [
    "# Full RAG Pipeline"
   ]
  },
  {
   "cell_type": "code",
   "execution_count": 6,
   "metadata": {},
   "outputs": [
    {
     "name": "stderr",
     "output_type": "stream",
     "text": [
      "/Library/Frameworks/Python.framework/Versions/3.11/lib/python3.11/site-packages/langsmith/client.py:253: LangSmithMissingAPIKeyWarning: API key must be provided when using hosted LangSmith API\n",
      "  warnings.warn(\n"
     ]
    }
   ],
   "source": [
    "from langchain import hub\n",
    "from typing_extensions import List, TypedDict\n",
    "\n",
    "prompt = hub.pull(\"rlm/rag-prompt\")\n",
    "\n",
    "class State(TypedDict):\n",
    "    question : str\n",
    "    context : List[Document]\n",
    "    answer: str\n",
    "\n",
    "def retrieve(state : State):\n",
    "    retrieved_documents = vector_store.similarity_search(state[\"question\"])\n",
    "    return({\"context\":retrieved_documents})\n",
    "\n",
    "def generate(state : State):\n",
    "    context_doc_message = \"\\n\\n\".join(doc.page_content for doc in state[\"context\"])\n",
    "    message = prompt.invoke({\"question\":state[\"question\"], \"context\":context_doc_message})\n",
    "    response = llm.invoke(message)\n",
    "    return({\"answer\":response})\n",
    "\n",
    "graph_builder = StateGraph(State)\n",
    "graph_builder.add_sequence([retrieve, generate])\n",
    "graph_builder.add_edge(START, \"retrieve\")\n",
    "graph = graph_builder.compile()"
   ]
  },
  {
   "cell_type": "code",
   "execution_count": 29,
   "metadata": {},
   "outputs": [
    {
     "name": "stdout",
     "output_type": "stream",
     "text": [
      "{'question': \"Consider DBT's Mutual Non-Disclosure Agreement; Does the document indicate that the Agreement does not grant the Receiving Party any rights to the Confidential Information?\", 'context': [Document(id='34a8fa79-3b00-4b47-8519-c373186ec79c', metadata={'filename': 'NDA-ONSemi_IndustryAnalystConf-2011.txt', 'filepath': 'contractnli/NDA-ONSemi_IndustryAnalystConf-2011.txt', 'id': 'NDA-ONSemi_IndustryAnalystConf-2011.txt_chunk_0', 'span_end': 45, 'span_start': 0}, page_content=' Confidentiality and Non-Disclosure Agreement'), Document(id='7b214ea7-0a1b-4391-a672-5743b1099f6d', metadata={'filename': 'NDA-ONSemi_IndustryAnalystConf-2011.txt', 'filepath': 'contractnli/NDA-ONSemi_IndustryAnalystConf-2011.txt', 'id': 'NDA-ONSemi_IndustryAnalystConf-2011.txt_chunk_0', 'span_end': 45, 'span_start': 0}, page_content=' Confidentiality and Non-Disclosure Agreement'), Document(id='fa7e4920-6283-40a7-b4e2-4a8c85842011', metadata={'filename': 'simply-fashion---standard-nda.txt', 'filepath': 'contractnli/simply-fashion---standard-nda.txt', 'id': 'simply-fashion---standard-nda.txt_chunk_0', 'span_end': 44, 'span_start': 0}, page_content='CONFIDENTIALITY AND NON-DISCLOSURE AGREEMENT'), Document(id='690a2089-18e1-4e7b-9b2c-3b1160d6fe90', metadata={'filename': 'simply-fashion---standard-nda.txt', 'filepath': 'contractnli/simply-fashion---standard-nda.txt', 'id': 'simply-fashion---standard-nda.txt_chunk_0', 'span_end': 44, 'span_start': 0}, page_content='CONFIDENTIALITY AND NON-DISCLOSURE AGREEMENT')], 'answer': AIMessage(content='The document does not explicitly state that the Agreement does not grant the Receiving Party any rights to the Confidential Information. It focuses more on the obligations of both parties to protect the confidentiality of the information shared. Therefore, the specific language regarding granting rights to the Receiving Party is not included in the document.', additional_kwargs={'refusal': None}, response_metadata={'token_usage': {'completion_tokens': 62, 'prompt_tokens': 141, 'total_tokens': 203, 'completion_tokens_details': {'accepted_prediction_tokens': 0, 'audio_tokens': 0, 'reasoning_tokens': 0, 'rejected_prediction_tokens': 0}, 'prompt_tokens_details': {'audio_tokens': 0, 'cached_tokens': 0}}, 'model_name': 'gpt-3.5-turbo-0125', 'system_fingerprint': None, 'finish_reason': 'stop', 'logprobs': None}, id='run-fd81392a-74a7-4815-a073-33638ccf16ee-0', usage_metadata={'input_tokens': 141, 'output_tokens': 62, 'total_tokens': 203, 'input_token_details': {'audio': 0, 'cache_read': 0}, 'output_token_details': {'audio': 0, 'reasoning': 0}})}\n",
      "contractnli/DBT%20Mutual%20NDA.txt\n"
     ]
    }
   ],
   "source": [
    "qidx = random_number = random.randint(1, 10)\n",
    "sample_test = test_data[\"tests\"][qidx]\n",
    "query_test = sample_test[\"query\"]\n",
    "answer_test = sample_test[\"snippets\"][0][\"answer\"]\n",
    "answer_file_path_test = sample_test[\"snippets\"][0][\"file_path\"]\n",
    "\n",
    "response = graph.invoke({\"question\": query_test})\n",
    "print(response)\n",
    "\n",
    "print(sample_test[\"snippets\"][0][\"file_path\"])\n",
    "# print(response[\"question\"])\n",
    "# print(response[\"answer\"])"
   ]
  },
  {
   "cell_type": "code",
   "execution_count": null,
   "metadata": {},
   "outputs": [
    {
     "ename": "TypeError",
     "evalue": "'Document' object is not subscriptable",
     "output_type": "error",
     "traceback": [
      "\u001b[0;31m---------------------------------------------------------------------------\u001b[0m",
      "\u001b[0;31mTypeError\u001b[0m                                 Traceback (most recent call last)",
      "Cell \u001b[0;32mIn[26], line 2\u001b[0m\n\u001b[1;32m      1\u001b[0m \u001b[38;5;66;03m# responses = [response for response in response[\"context\"]]\u001b[39;00m\n\u001b[0;32m----> 2\u001b[0m \u001b[38;5;28mprint\u001b[39m (\u001b[43mresponse\u001b[49m\u001b[43m[\u001b[49m\u001b[38;5;124;43m\"\u001b[39;49m\u001b[38;5;124;43mcontext\u001b[39;49m\u001b[38;5;124;43m\"\u001b[39;49m\u001b[43m]\u001b[49m)\n",
      "\u001b[0;31mTypeError\u001b[0m: 'Document' object is not subscriptable"
     ]
    }
   ],
   "source": []
  }
 ],
 "metadata": {
  "kernelspec": {
   "display_name": "Python 3",
   "language": "python",
   "name": "python3"
  },
  "language_info": {
   "codemirror_mode": {
    "name": "ipython",
    "version": 3
   },
   "file_extension": ".py",
   "mimetype": "text/x-python",
   "name": "python",
   "nbconvert_exporter": "python",
   "pygments_lexer": "ipython3",
   "version": "3.11.9"
  }
 },
 "nbformat": 4,
 "nbformat_minor": 2
}
