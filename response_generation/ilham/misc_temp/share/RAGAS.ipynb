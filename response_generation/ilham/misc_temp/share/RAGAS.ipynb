{
 "cells": [
  {
   "cell_type": "code",
   "execution_count": 2,
   "metadata": {},
   "outputs": [],
   "source": [
    "import pandas as pd\n",
    "\n",
    "# Load the JSON file\n",
    "# df = pd.read_json('data/json_output/contractNLI_RG_baseline.json')\n",
    "df = pd.read_json('data/json_output/contractNLI_RG_zeroshot_CoT_improve1.json')\n"
   ]
  },
  {
   "cell_type": "code",
   "execution_count": 3,
   "metadata": {},
   "outputs": [
    {
     "name": "stdout",
     "output_type": "stream",
     "text": [
      "Dataset({\n",
      "    features: ['user_input', 'response', 'retrieved_contexts'],\n",
      "    num_rows: 193\n",
      "})\n"
     ]
    },
    {
     "data": {
      "application/vnd.jupyter.widget-view+json": {
       "model_id": "4b6b0972bd1f406bb85aa3b25f64f904",
       "version_major": 2,
       "version_minor": 0
      },
      "text/plain": [
       "Evaluating:   0%|          | 0/386 [00:00<?, ?it/s]"
      ]
     },
     "metadata": {},
     "output_type": "display_data"
    }
   ],
   "source": [
    "from ragas.metrics import (\n",
    "    faithfulness,\n",
    "    answer_relevancy,\n",
    "    context_precision,\n",
    "    context_recall,\n",
    ")\n",
    "from ragas import evaluate\n",
    "from datasets import Dataset    \n",
    "from ragas.llms import LangchainLLMWrapper\n",
    "from langchain_openai import ChatOpenAI\n",
    "\n",
    "evaluator_llm = LangchainLLMWrapper(ChatOpenAI(model=\"gpt-4o-mini\", temperature=0.5))\n",
    "\n",
    "dataset_ragas = Dataset.from_pandas(df)\n",
    "print(dataset_ragas)\n",
    "result = evaluate(\n",
    "    dataset_ragas,\n",
    "    metrics=[\n",
    "        faithfulness,\n",
    "        answer_relevancy\n",
    "    ],\n",
    "    llm = evaluator_llm\n",
    ")"
   ]
  },
  {
   "cell_type": "code",
   "execution_count": 4,
   "metadata": {},
   "outputs": [
    {
     "name": "stdout",
     "output_type": "stream",
     "text": [
      "{'faithfulness': 0.8272, 'answer_relevancy': 0.5746}\n"
     ]
    }
   ],
   "source": [
    "print(result)"
   ]
  },
  {
   "cell_type": "code",
   "execution_count": null,
   "metadata": {},
   "outputs": [],
   "source": [
    "# from ragas.dataset_schema import SingleTurnSample\n",
    "# from ragas.metrics import Faithfulness\n",
    "# from ragas.llms import LangchainLLMWrapper\n",
    "\n",
    "# sample_index = 3\n",
    "\n",
    "# sample = SingleTurnSample(\n",
    "#     user_input=exp2_query_answer[\"user_input\"][sample_index],\n",
    "#     response=exp2_query_answer[\"response\"][sample_index],\n",
    "#     retrieved_contexts=exp2_query_answer[\"retrieved_contexts\"][sample_index]\n",
    "# )\n",
    "\n",
    "# evaluator_llm = LangchainLLMWrapper(ChatOpenAI(model=\"gpt-4o-mini\", temperature=0))\n",
    "# scorer = Faithfulness(llm=evaluator_llm)\n",
    "# print(f\"faithfulness: {await scorer.single_turn_ascore(sample)}\")\n",
    "\n",
    "# print(exp2_query_answer[\"user_input\"][sample_index])\n",
    "# print(exp2_query_answer[\"retrieved_contexts\"][sample_index])\n",
    "# print(exp2_query_answer[\"response\"][sample_index])"
   ]
  }
 ],
 "metadata": {
  "kernelspec": {
   "display_name": "response_gen_venv",
   "language": "python",
   "name": "python3"
  },
  "language_info": {
   "codemirror_mode": {
    "name": "ipython",
    "version": 3
   },
   "file_extension": ".py",
   "mimetype": "text/x-python",
   "name": "python",
   "nbconvert_exporter": "python",
   "pygments_lexer": "ipython3",
   "version": "3.11.9"
  }
 },
 "nbformat": 4,
 "nbformat_minor": 2
}
