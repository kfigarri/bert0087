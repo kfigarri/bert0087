{
 "cells": [
  {
   "cell_type": "code",
   "execution_count": 2,
   "metadata": {},
   "outputs": [],
   "source": [
    "import pandas as pd\n",
    "\n",
    "# Load the JSON file\n",
    "# df = pd.read_json('data/json_output/contractNLI_RG_baseline.json')\n",
    "# df = pd.read_json('data/json_output/contractNLI_RG_zeroshot_CoT_improve1.json')\n",
    "# df = pd.read_json('data/json_output/contractNLI_RG_zeroshot_CoT.json')\n",
    "df = pd.read_json('../data/json_output/contractnli/gpt/query_answer_baseline_gpt4omini_k3.json')\n"
   ]
  },
  {
   "cell_type": "code",
   "execution_count": 3,
   "metadata": {},
   "outputs": [
    {
     "name": "stdout",
     "output_type": "stream",
     "text": [
      "Index(['user_input', 'response', 'retrieved_contexts'], dtype='object')\n"
     ]
    }
   ],
   "source": [
    "print(df.columns)\n",
    "# df.drop(columns=[\"thought\"], inplace=True)\n",
    "# print(df.columns)\n"
   ]
  },
  {
   "cell_type": "code",
   "execution_count": 4,
   "metadata": {},
   "outputs": [
    {
     "name": "stdout",
     "output_type": "stream",
     "text": [
      "Dataset({\n",
      "    features: ['user_input', 'response', 'retrieved_contexts'],\n",
      "    num_rows: 194\n",
      "})\n"
     ]
    },
    {
     "data": {
      "application/vnd.jupyter.widget-view+json": {
       "model_id": "311c286238ce4c4dae65ca475089a4cd",
       "version_major": 2,
       "version_minor": 0
      },
      "text/plain": [
       "Evaluating:   0%|          | 0/388 [00:00<?, ?it/s]"
      ]
     },
     "metadata": {},
     "output_type": "display_data"
    },
    {
     "name": "stderr",
     "output_type": "stream",
     "text": [
      "Exception raised in Job[151]: TimeoutError()\n"
     ]
    }
   ],
   "source": [
    "from ragas.metrics import (\n",
    "    faithfulness,\n",
    "    answer_relevancy,\n",
    "    context_precision,\n",
    "    context_recall,\n",
    ")\n",
    "from ragas import evaluate\n",
    "from datasets import Dataset    \n",
    "from ragas.llms import LangchainLLMWrapper\n",
    "from langchain_openai import ChatOpenAI\n",
    "\n",
    "evaluator_llm = LangchainLLMWrapper(ChatOpenAI(model=\"gpt-4o-mini\", temperature=0.5))\n",
    "\n",
    "dataset_ragas = Dataset.from_pandas(df)\n",
    "print(dataset_ragas)\n",
    "result = evaluate(\n",
    "    dataset_ragas,\n",
    "    metrics=[\n",
    "        faithfulness,\n",
    "        answer_relevancy\n",
    "    ],\n",
    "    llm = evaluator_llm\n",
    ")"
   ]
  },
  {
   "cell_type": "code",
   "execution_count": 5,
   "metadata": {},
   "outputs": [
    {
     "name": "stdout",
     "output_type": "stream",
     "text": [
      "{'faithfulness': 0.8279, 'answer_relevancy': 0.6179}\n"
     ]
    }
   ],
   "source": [
    "print(result)"
   ]
  },
  {
   "cell_type": "code",
   "execution_count": 32,
   "metadata": {},
   "outputs": [
    {
     "name": "stdout",
     "output_type": "stream",
     "text": [
      "{'faithfulness': 0.8104, 'answer_relevancy': 0.6758}\n"
     ]
    }
   ],
   "source": [
    "print(result)"
   ]
  },
  {
   "cell_type": "markdown",
   "metadata": {},
   "source": [
    "# Result\n",
    "\n",
    "Baseline Prompt, eval: GPT 4o Mini temp 0.5\n",
    "{'faithfulness': 0.8272, 'answer_relevancy': 0.5746}\n",
    "\n",
    "CoT Prompt, eval: GPT 4o Mini temp 0.5\n",
    "{'faithfulness': 0.4739, 'answer_relevancy': 0.6121}\n",
    "\n",
    "CoT Improved Prompt, eval: GPT 4o Mini temp 0.5\n",
    "{'faithfulness': 0.6213, 'answer_relevancy': 0.6459}\n",
    "\n",
    "CoT Improved Prompt, eval: GPT 4o Mini temp 0.2\n",
    "{'faithfulness': 0.6324, 'answer_relevancy': 0.6411}\n",
    "\n",
    "Manually Written Prompt, eval: GPT 4o Mini temp 0.5\n",
    "{'faithfulness': 0.8104, 'answer_relevancy': 0.6758}"
   ]
  },
  {
   "cell_type": "code",
   "execution_count": 16,
   "metadata": {},
   "outputs": [],
   "source": [
    "# from ragas.dataset_schema import SingleTurnSample\n",
    "# from ragas.metrics import Faithfulness\n",
    "# from ragas.llms import LangchainLLMWrapper\n",
    "\n",
    "# sample_index = 3\n",
    "\n",
    "# sample = SingleTurnSample(\n",
    "#     user_input=exp2_query_answer[\"user_input\"][sample_index],\n",
    "#     response=exp2_query_answer[\"response\"][sample_index],\n",
    "#     retrieved_contexts=exp2_query_answer[\"retrieved_contexts\"][sample_index]\n",
    "# )\n",
    "\n",
    "# evaluator_llm = LangchainLLMWrapper(ChatOpenAI(model=\"gpt-4o-mini\", temperature=0))\n",
    "# scorer = Faithfulness(llm=evaluator_llm)\n",
    "# print(f\"faithfulness: {await scorer.single_turn_ascore(sample)}\")\n",
    "\n",
    "# print(exp2_query_answer[\"user_input\"][sample_index])\n",
    "# print(exp2_query_answer[\"retrieved_contexts\"][sample_index])\n",
    "# print(exp2_query_answer[\"response\"][sample_index])"
   ]
  },
  {
   "cell_type": "code",
   "execution_count": 3,
   "metadata": {},
   "outputs": [
    {
     "name": "stdout",
     "output_type": "stream",
     "text": [
      "Index(['user_input', 'response', 'retrieved_contexts'], dtype='object')\n"
     ]
    }
   ],
   "source": [
    "print(df.columns)\n"
   ]
  },
  {
   "cell_type": "code",
   "execution_count": 26,
   "metadata": {},
   "outputs": [
    {
     "data": {
      "text/plain": [
       "0.10471204188481675"
      ]
     },
     "execution_count": 26,
     "metadata": {},
     "output_type": "execute_result"
    }
   ],
   "source": [
    "from ragas.dataset_schema import SingleTurnSample\n",
    "from ragas.metrics import RougeScore\n",
    "\n",
    "index = 25\n",
    "\n",
    "sample = SingleTurnSample(\n",
    "    response=df[\"response\"][index],\n",
    "    reference=\" \".join(df[\"retrieved_contexts\"][index])\n",
    ")\n",
    "\n",
    "scorer = RougeScore()\n",
    "await scorer.single_turn_ascore(sample)"
   ]
  },
  {
   "cell_type": "code",
   "execution_count": 27,
   "metadata": {},
   "outputs": [
    {
     "data": {
      "application/vnd.jupyter.widget-view+json": {
       "model_id": "c33a2f22439d4deb96cfe2399557e3f8",
       "version_major": 2,
       "version_minor": 0
      },
      "text/plain": [
       "tokenizer_config.json:   0%|          | 0.00/48.0 [00:00<?, ?B/s]"
      ]
     },
     "metadata": {},
     "output_type": "display_data"
    },
    {
     "name": "stderr",
     "output_type": "stream",
     "text": [
      "c:\\Users\\w4rlo\\Documents\\Workspace\\MSc\\COMP0087\\code\\SNLP GENERATOR\\response_gen_venv\\Lib\\site-packages\\huggingface_hub\\file_download.py:142: UserWarning: `huggingface_hub` cache-system uses symlinks by default to efficiently store duplicated files but your machine does not support them in C:\\Users\\w4rlo\\.cache\\huggingface\\hub\\models--nlpaueb--legal-bert-base-uncased. Caching files will still work but in a degraded version that might require more space on your disk. This warning can be disabled by setting the `HF_HUB_DISABLE_SYMLINKS_WARNING` environment variable. For more details, see https://huggingface.co/docs/huggingface_hub/how-to-cache#limitations.\n",
      "To support symlinks on Windows, you either need to activate Developer Mode or to run Python as an administrator. In order to activate developer mode, see this article: https://docs.microsoft.com/en-us/windows/apps/get-started/enable-your-device-for-development\n",
      "  warnings.warn(message)\n"
     ]
    },
    {
     "data": {
      "application/vnd.jupyter.widget-view+json": {
       "model_id": "bd77ffd548204f02a21ccf9a250ae297",
       "version_major": 2,
       "version_minor": 0
      },
      "text/plain": [
       "config.json:   0%|          | 0.00/1.02k [00:00<?, ?B/s]"
      ]
     },
     "metadata": {},
     "output_type": "display_data"
    },
    {
     "data": {
      "application/vnd.jupyter.widget-view+json": {
       "model_id": "e511dca0c1b842799e671f128284571d",
       "version_major": 2,
       "version_minor": 0
      },
      "text/plain": [
       "vocab.txt:   0%|          | 0.00/222k [00:00<?, ?B/s]"
      ]
     },
     "metadata": {},
     "output_type": "display_data"
    },
    {
     "data": {
      "application/vnd.jupyter.widget-view+json": {
       "model_id": "0280ed07b572477fba9f3a5831f7473b",
       "version_major": 2,
       "version_minor": 0
      },
      "text/plain": [
       "special_tokens_map.json:   0%|          | 0.00/112 [00:00<?, ?B/s]"
      ]
     },
     "metadata": {},
     "output_type": "display_data"
    },
    {
     "data": {
      "application/vnd.jupyter.widget-view+json": {
       "model_id": "a19fa7c2362f4cbab1058c2b12efd950",
       "version_major": 2,
       "version_minor": 0
      },
      "text/plain": [
       "pytorch_model.bin:   0%|          | 0.00/440M [00:00<?, ?B/s]"
      ]
     },
     "metadata": {},
     "output_type": "display_data"
    },
    {
     "ename": "AttributeError",
     "evalue": "BertTokenizerFast has no attribute max_len",
     "output_type": "error",
     "traceback": [
      "\u001b[31m---------------------------------------------------------------------------\u001b[39m",
      "\u001b[31mAttributeError\u001b[39m                            Traceback (most recent call last)",
      "\u001b[36mCell\u001b[39m\u001b[36m \u001b[39m\u001b[32mIn[27]\u001b[39m\u001b[32m, line 2\u001b[39m\n\u001b[32m      1\u001b[39m \u001b[38;5;28;01mfrom\u001b[39;00m\u001b[38;5;250m \u001b[39m\u001b[34;01mbert_score\u001b[39;00m\u001b[38;5;250m \u001b[39m\u001b[38;5;28;01mimport\u001b[39;00m score\n\u001b[32m----> \u001b[39m\u001b[32m2\u001b[39m P, R, F1 = \u001b[43mscore\u001b[49m\u001b[43m(\u001b[49m\u001b[43m[\u001b[49m\u001b[43mdf\u001b[49m\u001b[43m[\u001b[49m\u001b[33;43m\"\u001b[39;49m\u001b[33;43mresponse\u001b[39;49m\u001b[33;43m\"\u001b[39;49m\u001b[43m]\u001b[49m\u001b[43m[\u001b[49m\u001b[43mindex\u001b[49m\u001b[43m]\u001b[49m\u001b[43m]\u001b[49m\u001b[43m,\u001b[49m\u001b[43m \u001b[49m\u001b[43m[\u001b[49m\u001b[33;43m\"\u001b[39;49m\u001b[33;43m \u001b[39;49m\u001b[33;43m\"\u001b[39;49m\u001b[43m.\u001b[49m\u001b[43mjoin\u001b[49m\u001b[43m(\u001b[49m\u001b[43mdf\u001b[49m\u001b[43m[\u001b[49m\u001b[33;43m\"\u001b[39;49m\u001b[33;43mretrieved_contexts\u001b[39;49m\u001b[33;43m\"\u001b[39;49m\u001b[43m]\u001b[49m\u001b[43m[\u001b[49m\u001b[43mindex\u001b[49m\u001b[43m]\u001b[49m\u001b[43m)\u001b[49m\u001b[43m]\u001b[49m\u001b[43m,\u001b[49m\u001b[43m \u001b[49m\u001b[43mmodel_type\u001b[49m\u001b[43m=\u001b[49m\u001b[33;43m\"\u001b[39;49m\u001b[33;43mnlpaueb/legal-bert-base-uncased\u001b[39;49m\u001b[33;43m\"\u001b[39;49m\u001b[43m,\u001b[49m\u001b[43m \u001b[49m\u001b[43mnum_layers\u001b[49m\u001b[43m=\u001b[49m\u001b[32;43m12\u001b[39;49m\u001b[43m)\u001b[49m\n\u001b[32m      3\u001b[39m \u001b[38;5;28mprint\u001b[39m(F1.numpy())\n",
      "\u001b[36mFile \u001b[39m\u001b[32mc:\\Users\\w4rlo\\Documents\\Workspace\\MSc\\COMP0087\\code\\SNLP GENERATOR\\response_gen_venv\\Lib\\site-packages\\bert_score\\score.py:130\u001b[39m, in \u001b[36mscore\u001b[39m\u001b[34m(cands, refs, model_type, num_layers, verbose, idf, device, batch_size, nthreads, all_layers, lang, return_hash, rescale_with_baseline)\u001b[39m\n\u001b[32m    128\u001b[39m     \u001b[38;5;28mprint\u001b[39m(\u001b[33m\"\u001b[39m\u001b[33mcalculating scores...\u001b[39m\u001b[33m\"\u001b[39m)\n\u001b[32m    129\u001b[39m start = time.perf_counter()\n\u001b[32m--> \u001b[39m\u001b[32m130\u001b[39m all_preds = \u001b[43mbert_cos_score_idf\u001b[49m\u001b[43m(\u001b[49m\n\u001b[32m    131\u001b[39m \u001b[43m    \u001b[49m\u001b[43mmodel\u001b[49m\u001b[43m,\u001b[49m\n\u001b[32m    132\u001b[39m \u001b[43m    \u001b[49m\u001b[43mrefs\u001b[49m\u001b[43m,\u001b[49m\n\u001b[32m    133\u001b[39m \u001b[43m    \u001b[49m\u001b[43mcands\u001b[49m\u001b[43m,\u001b[49m\n\u001b[32m    134\u001b[39m \u001b[43m    \u001b[49m\u001b[43mtokenizer\u001b[49m\u001b[43m,\u001b[49m\n\u001b[32m    135\u001b[39m \u001b[43m    \u001b[49m\u001b[43midf_dict\u001b[49m\u001b[43m,\u001b[49m\n\u001b[32m    136\u001b[39m \u001b[43m    \u001b[49m\u001b[43mverbose\u001b[49m\u001b[43m=\u001b[49m\u001b[43mverbose\u001b[49m\u001b[43m,\u001b[49m\n\u001b[32m    137\u001b[39m \u001b[43m    \u001b[49m\u001b[43mdevice\u001b[49m\u001b[43m=\u001b[49m\u001b[43mdevice\u001b[49m\u001b[43m,\u001b[49m\n\u001b[32m    138\u001b[39m \u001b[43m    \u001b[49m\u001b[43mbatch_size\u001b[49m\u001b[43m=\u001b[49m\u001b[43mbatch_size\u001b[49m\u001b[43m,\u001b[49m\n\u001b[32m    139\u001b[39m \u001b[43m    \u001b[49m\u001b[43mall_layers\u001b[49m\u001b[43m=\u001b[49m\u001b[43mall_layers\u001b[49m\u001b[43m,\u001b[49m\n\u001b[32m    140\u001b[39m \u001b[43m\u001b[49m\u001b[43m)\u001b[49m.cpu()\n\u001b[32m    142\u001b[39m \u001b[38;5;28;01mif\u001b[39;00m ref_group_boundaries \u001b[38;5;129;01mis\u001b[39;00m \u001b[38;5;129;01mnot\u001b[39;00m \u001b[38;5;28;01mNone\u001b[39;00m:\n\u001b[32m    143\u001b[39m     max_preds = []\n",
      "\u001b[36mFile \u001b[39m\u001b[32mc:\\Users\\w4rlo\\Documents\\Workspace\\MSc\\COMP0087\\code\\SNLP GENERATOR\\response_gen_venv\\Lib\\site-packages\\bert_score\\utils.py:382\u001b[39m, in \u001b[36mbert_cos_score_idf\u001b[39m\u001b[34m(model, refs, hyps, tokenizer, idf_dict, verbose, batch_size, device, all_layers)\u001b[39m\n\u001b[32m    380\u001b[39m \u001b[38;5;28;01mfor\u001b[39;00m batch_start \u001b[38;5;129;01min\u001b[39;00m iter_range:\n\u001b[32m    381\u001b[39m     sen_batch = sentences[batch_start : batch_start + batch_size]\n\u001b[32m--> \u001b[39m\u001b[32m382\u001b[39m     embs, masks, padded_idf = \u001b[43mget_bert_embedding\u001b[49m\u001b[43m(\u001b[49m\n\u001b[32m    383\u001b[39m \u001b[43m        \u001b[49m\u001b[43msen_batch\u001b[49m\u001b[43m,\u001b[49m\u001b[43m \u001b[49m\u001b[43mmodel\u001b[49m\u001b[43m,\u001b[49m\u001b[43m \u001b[49m\u001b[43mtokenizer\u001b[49m\u001b[43m,\u001b[49m\u001b[43m \u001b[49m\u001b[43midf_dict\u001b[49m\u001b[43m,\u001b[49m\u001b[43m \u001b[49m\u001b[43mdevice\u001b[49m\u001b[43m=\u001b[49m\u001b[43mdevice\u001b[49m\u001b[43m,\u001b[49m\u001b[43m \u001b[49m\u001b[43mall_layers\u001b[49m\u001b[43m=\u001b[49m\u001b[43mall_layers\u001b[49m\n\u001b[32m    384\u001b[39m \u001b[43m    \u001b[49m\u001b[43m)\u001b[49m\n\u001b[32m    385\u001b[39m     embs = embs.cpu()\n\u001b[32m    386\u001b[39m     masks = masks.cpu()\n",
      "\u001b[36mFile \u001b[39m\u001b[32mc:\\Users\\w4rlo\\Documents\\Workspace\\MSc\\COMP0087\\code\\SNLP GENERATOR\\response_gen_venv\\Lib\\site-packages\\bert_score\\utils.py:257\u001b[39m, in \u001b[36mget_bert_embedding\u001b[39m\u001b[34m(all_sens, model, tokenizer, idf_dict, batch_size, device, all_layers)\u001b[39m\n\u001b[32m    244\u001b[39m \u001b[38;5;28;01mdef\u001b[39;00m\u001b[38;5;250m \u001b[39m\u001b[34mget_bert_embedding\u001b[39m(all_sens, model, tokenizer, idf_dict, batch_size=-\u001b[32m1\u001b[39m, device=\u001b[33m\"\u001b[39m\u001b[33mcuda:0\u001b[39m\u001b[33m\"\u001b[39m, all_layers=\u001b[38;5;28;01mFalse\u001b[39;00m):\n\u001b[32m    245\u001b[39m \u001b[38;5;250m    \u001b[39m\u001b[33;03m\"\"\"\u001b[39;00m\n\u001b[32m    246\u001b[39m \u001b[33;03m    Compute BERT embedding in batches.\u001b[39;00m\n\u001b[32m    247\u001b[39m \n\u001b[32m   (...)\u001b[39m\u001b[32m    254\u001b[39m \u001b[33;03m        - :param: `device` (str): device to use, e.g. 'cpu' or 'cuda'\u001b[39;00m\n\u001b[32m    255\u001b[39m \u001b[33;03m    \"\"\"\u001b[39;00m\n\u001b[32m--> \u001b[39m\u001b[32m257\u001b[39m     padded_sens, padded_idf, lens, mask = \u001b[43mcollate_idf\u001b[49m\u001b[43m(\u001b[49m\u001b[43mall_sens\u001b[49m\u001b[43m,\u001b[49m\u001b[43m \u001b[49m\u001b[43mtokenizer\u001b[49m\u001b[43m,\u001b[49m\u001b[43m \u001b[49m\u001b[43midf_dict\u001b[49m\u001b[43m,\u001b[49m\u001b[43m \u001b[49m\u001b[43mdevice\u001b[49m\u001b[43m=\u001b[49m\u001b[43mdevice\u001b[49m\u001b[43m)\u001b[49m\n\u001b[32m    259\u001b[39m     \u001b[38;5;28;01mif\u001b[39;00m batch_size == -\u001b[32m1\u001b[39m:\n\u001b[32m    260\u001b[39m         batch_size = \u001b[38;5;28mlen\u001b[39m(all_sens)\n",
      "\u001b[36mFile \u001b[39m\u001b[32mc:\\Users\\w4rlo\\Documents\\Workspace\\MSc\\COMP0087\\code\\SNLP GENERATOR\\response_gen_venv\\Lib\\site-packages\\bert_score\\utils.py:229\u001b[39m, in \u001b[36mcollate_idf\u001b[39m\u001b[34m(arr, tokenizer, idf_dict, device)\u001b[39m\n\u001b[32m    213\u001b[39m \u001b[38;5;28;01mdef\u001b[39;00m\u001b[38;5;250m \u001b[39m\u001b[34mcollate_idf\u001b[39m(arr, tokenizer, idf_dict, device=\u001b[33m\"\u001b[39m\u001b[33mcuda:0\u001b[39m\u001b[33m\"\u001b[39m):\n\u001b[32m    214\u001b[39m \u001b[38;5;250m    \u001b[39m\u001b[33;03m\"\"\"\u001b[39;00m\n\u001b[32m    215\u001b[39m \u001b[33;03m    Helper function that pads a list of sentences to hvae the same length and\u001b[39;00m\n\u001b[32m    216\u001b[39m \u001b[33;03m    loads idf score for words in the sentences.\u001b[39;00m\n\u001b[32m   (...)\u001b[39m\u001b[32m    227\u001b[39m \u001b[33;03m        - :param: `device` (str): device to use, e.g. 'cpu' or 'cuda'\u001b[39;00m\n\u001b[32m    228\u001b[39m \u001b[33;03m    \"\"\"\u001b[39;00m\n\u001b[32m--> \u001b[39m\u001b[32m229\u001b[39m     arr = \u001b[43m[\u001b[49m\u001b[43msent_encode\u001b[49m\u001b[43m(\u001b[49m\u001b[43mtokenizer\u001b[49m\u001b[43m,\u001b[49m\u001b[43m \u001b[49m\u001b[43ma\u001b[49m\u001b[43m)\u001b[49m\u001b[43m \u001b[49m\u001b[38;5;28;43;01mfor\u001b[39;49;00m\u001b[43m \u001b[49m\u001b[43ma\u001b[49m\u001b[43m \u001b[49m\u001b[38;5;129;43;01min\u001b[39;49;00m\u001b[43m \u001b[49m\u001b[43marr\u001b[49m\u001b[43m]\u001b[49m\n\u001b[32m    231\u001b[39m     idf_weights = [[idf_dict[i] \u001b[38;5;28;01mfor\u001b[39;00m i \u001b[38;5;129;01min\u001b[39;00m a] \u001b[38;5;28;01mfor\u001b[39;00m a \u001b[38;5;129;01min\u001b[39;00m arr]\n\u001b[32m    233\u001b[39m     pad_token = tokenizer.pad_token_id\n",
      "\u001b[36mFile \u001b[39m\u001b[32mc:\\Users\\w4rlo\\Documents\\Workspace\\MSc\\COMP0087\\code\\SNLP GENERATOR\\response_gen_venv\\Lib\\site-packages\\bert_score\\utils.py:229\u001b[39m, in \u001b[36m<listcomp>\u001b[39m\u001b[34m(.0)\u001b[39m\n\u001b[32m    213\u001b[39m \u001b[38;5;28;01mdef\u001b[39;00m\u001b[38;5;250m \u001b[39m\u001b[34mcollate_idf\u001b[39m(arr, tokenizer, idf_dict, device=\u001b[33m\"\u001b[39m\u001b[33mcuda:0\u001b[39m\u001b[33m\"\u001b[39m):\n\u001b[32m    214\u001b[39m \u001b[38;5;250m    \u001b[39m\u001b[33;03m\"\"\"\u001b[39;00m\n\u001b[32m    215\u001b[39m \u001b[33;03m    Helper function that pads a list of sentences to hvae the same length and\u001b[39;00m\n\u001b[32m    216\u001b[39m \u001b[33;03m    loads idf score for words in the sentences.\u001b[39;00m\n\u001b[32m   (...)\u001b[39m\u001b[32m    227\u001b[39m \u001b[33;03m        - :param: `device` (str): device to use, e.g. 'cpu' or 'cuda'\u001b[39;00m\n\u001b[32m    228\u001b[39m \u001b[33;03m    \"\"\"\u001b[39;00m\n\u001b[32m--> \u001b[39m\u001b[32m229\u001b[39m     arr = [\u001b[43msent_encode\u001b[49m\u001b[43m(\u001b[49m\u001b[43mtokenizer\u001b[49m\u001b[43m,\u001b[49m\u001b[43m \u001b[49m\u001b[43ma\u001b[49m\u001b[43m)\u001b[49m \u001b[38;5;28;01mfor\u001b[39;00m a \u001b[38;5;129;01min\u001b[39;00m arr]\n\u001b[32m    231\u001b[39m     idf_weights = [[idf_dict[i] \u001b[38;5;28;01mfor\u001b[39;00m i \u001b[38;5;129;01min\u001b[39;00m a] \u001b[38;5;28;01mfor\u001b[39;00m a \u001b[38;5;129;01min\u001b[39;00m arr]\n\u001b[32m    233\u001b[39m     pad_token = tokenizer.pad_token_id\n",
      "\u001b[36mFile \u001b[39m\u001b[32mc:\\Users\\w4rlo\\Documents\\Workspace\\MSc\\COMP0087\\code\\SNLP GENERATOR\\response_gen_venv\\Lib\\site-packages\\bert_score\\utils.py:109\u001b[39m, in \u001b[36msent_encode\u001b[39m\u001b[34m(tokenizer, sent)\u001b[39m\n\u001b[32m    107\u001b[39m     \u001b[38;5;28;01mreturn\u001b[39;00m tokenizer.encode(sent, add_special_tokens=\u001b[38;5;28;01mTrue\u001b[39;00m, add_prefix_space=\u001b[38;5;28;01mTrue\u001b[39;00m, max_length=tokenizer.max_len)\n\u001b[32m    108\u001b[39m \u001b[38;5;28;01melse\u001b[39;00m:\n\u001b[32m--> \u001b[39m\u001b[32m109\u001b[39m     \u001b[38;5;28;01mreturn\u001b[39;00m tokenizer.encode(sent, add_special_tokens=\u001b[38;5;28;01mTrue\u001b[39;00m, max_length=\u001b[43mtokenizer\u001b[49m\u001b[43m.\u001b[49m\u001b[43mmax_len\u001b[49m)\n",
      "\u001b[36mFile \u001b[39m\u001b[32mc:\\Users\\w4rlo\\Documents\\Workspace\\MSc\\COMP0087\\code\\SNLP GENERATOR\\response_gen_venv\\Lib\\site-packages\\transformers\\tokenization_utils_base.py:1108\u001b[39m, in \u001b[36mSpecialTokensMixin.__getattr__\u001b[39m\u001b[34m(self, key)\u001b[39m\n\u001b[32m   1105\u001b[39m         \u001b[38;5;28;01mreturn\u001b[39;00m \u001b[38;5;28mself\u001b[39m.convert_tokens_to_ids(attr_as_tokens) \u001b[38;5;28;01mif\u001b[39;00m attr_as_tokens \u001b[38;5;129;01mis\u001b[39;00m \u001b[38;5;129;01mnot\u001b[39;00m \u001b[38;5;28;01mNone\u001b[39;00m \u001b[38;5;28;01melse\u001b[39;00m \u001b[38;5;28;01mNone\u001b[39;00m\n\u001b[32m   1107\u001b[39m \u001b[38;5;28;01mif\u001b[39;00m key \u001b[38;5;129;01mnot\u001b[39;00m \u001b[38;5;129;01min\u001b[39;00m \u001b[38;5;28mself\u001b[39m.\u001b[34m__dict__\u001b[39m:\n\u001b[32m-> \u001b[39m\u001b[32m1108\u001b[39m     \u001b[38;5;28;01mraise\u001b[39;00m \u001b[38;5;167;01mAttributeError\u001b[39;00m(\u001b[33mf\u001b[39m\u001b[33m\"\u001b[39m\u001b[38;5;132;01m{\u001b[39;00m\u001b[38;5;28mself\u001b[39m.\u001b[34m__class__\u001b[39m.\u001b[34m__name__\u001b[39m\u001b[38;5;132;01m}\u001b[39;00m\u001b[33m has no attribute \u001b[39m\u001b[38;5;132;01m{\u001b[39;00mkey\u001b[38;5;132;01m}\u001b[39;00m\u001b[33m\"\u001b[39m)\n\u001b[32m   1109\u001b[39m \u001b[38;5;28;01melse\u001b[39;00m:\n\u001b[32m   1110\u001b[39m     \u001b[38;5;28;01mreturn\u001b[39;00m \u001b[38;5;28msuper\u001b[39m().\u001b[34m__getattr__\u001b[39m(key)\n",
      "\u001b[31mAttributeError\u001b[39m: BertTokenizerFast has no attribute max_len"
     ]
    },
    {
     "data": {
      "application/vnd.jupyter.widget-view+json": {
       "model_id": "23866ea087774510b10c590f042d2a47",
       "version_major": 2,
       "version_minor": 0
      },
      "text/plain": [
       "model.safetensors:   0%|          | 0.00/440M [00:00<?, ?B/s]"
      ]
     },
     "metadata": {},
     "output_type": "display_data"
    }
   ],
   "source": [
    "from bert_score import score\n",
    "P, R, F1 = score([df[\"response\"][index]], [\" \".join(df[\"retrieved_contexts\"][index])], model_type=\"nlpaueb/legal-bert-base-uncased\", num_layers=12)\n",
    "print(F1.numpy())"
   ]
  },
  {
   "cell_type": "code",
   "execution_count": null,
   "metadata": {},
   "outputs": [],
   "source": [
    "\n",
    "\n"
   ]
  }
 ],
 "metadata": {
  "kernelspec": {
   "display_name": "response_gen_venv",
   "language": "python",
   "name": "python3"
  },
  "language_info": {
   "codemirror_mode": {
    "name": "ipython",
    "version": 3
   },
   "file_extension": ".py",
   "mimetype": "text/x-python",
   "name": "python",
   "nbconvert_exporter": "python",
   "pygments_lexer": "ipython3",
   "version": "3.11.9"
  }
 },
 "nbformat": 4,
 "nbformat_minor": 2
}
