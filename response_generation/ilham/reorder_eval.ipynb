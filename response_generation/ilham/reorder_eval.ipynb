{
 "cells": [
  {
   "cell_type": "code",
   "execution_count": 1,
   "metadata": {},
   "outputs": [],
   "source": [
    "import json\n",
    "from collections import defaultdict\n",
    "\n",
    "def reorder_evaluation_results(file_path):\n",
    "    # Read the JSON file\n",
    "    with open(file_path, 'r') as f:\n",
    "        data = json.load(f)\n",
    "    \n",
    "    # Create a sorted dictionary to store reorganized results\n",
    "    organized_results = {\n",
    "        'baseline': {},\n",
    "        'CoT': {},\n",
    "        'manually_written': {}\n",
    "    }\n",
    "    \n",
    "    # Process each file result\n",
    "    for filename, metrics in data.items():\n",
    "        # Extract k value from filename\n",
    "        if '_k' in filename:\n",
    "            k_value = int(filename.split('_k')[-1].split('.')[0])\n",
    "            k_key = f'k{k_value}'\n",
    "            \n",
    "            # Determine the type and store in organized format\n",
    "            if 'baseline' in filename:\n",
    "                organized_results['baseline'][k_key] = metrics\n",
    "            elif 'CoT' in filename:\n",
    "                organized_results['CoT'][k_key] = metrics\n",
    "            elif 'manually_written' in filename:\n",
    "                organized_results['manually_written'][k_key] = metrics\n",
    "    \n",
    "    # Sort k-values within each type\n",
    "    for response_type in organized_results:\n",
    "        organized_results[response_type] = dict(sorted(\n",
    "            organized_results[response_type].items(),\n",
    "            key=lambda x: int(x[0][1:])  # Sort by k value\n",
    "        ))\n",
    "    \n",
    "    # Write the reorganized results\n",
    "    output_path = file_path.replace('.json', '_reorganized_by_type.json')\n",
    "    with open(output_path, 'w') as f:\n",
    "        json.dump(organized_results, f, indent=4)\n",
    "    \n",
    "    return organized_results"
   ]
  },
  {
   "cell_type": "code",
   "execution_count": 7,
   "metadata": {},
   "outputs": [
    {
     "data": {
      "text/plain": [
       "{'baseline': {'k1': {'ragas_metrics': \"{'faithfulness': 0.6983, 'answer_relevancy': 0.4213}\",\n",
       "   'bert_f1': 0.7957361574025498,\n",
       "   'rouge_recall': 0.3459876085166887},\n",
       "  'k3': {'ragas_metrics': \"{'faithfulness': 0.8110, 'answer_relevancy': 0.4770}\",\n",
       "   'bert_f1': 0.7811541806176766,\n",
       "   'rouge_recall': 0.194828315928701},\n",
       "  'k5': {'ragas_metrics': \"{'faithfulness': 0.8080, 'answer_relevancy': 0.4057}\",\n",
       "   'bert_f1': 0.7634375752861967,\n",
       "   'rouge_recall': 0.13938168725750602},\n",
       "  'k10': {'ragas_metrics': \"{'faithfulness': 0.8161, 'answer_relevancy': 0.3318}\",\n",
       "   'bert_f1': 0.7436846549977961,\n",
       "   'rouge_recall': 0.10017212409925386}},\n",
       " 'CoT': {'k1': {'ragas_metrics': \"{'faithfulness': 0.7283, 'answer_relevancy': 0.3144}\",\n",
       "   'bert_f1': 0.7860526384152088,\n",
       "   'rouge_recall': 0.3671654825351862},\n",
       "  'k3': {'ragas_metrics': \"{'faithfulness': 0.8052, 'answer_relevancy': 0.4074}\",\n",
       "   'bert_f1': 0.7779750313955484,\n",
       "   'rouge_recall': 0.21198786814006546},\n",
       "  'k5': {'ragas_metrics': \"{'faithfulness': 0.7987, 'answer_relevancy': 0.5228}\",\n",
       "   'bert_f1': 0.7550971781470112,\n",
       "   'rouge_recall': 0.13458296453546806},\n",
       "  'k10': {'ragas_metrics': \"{'faithfulness': 0.6494, 'answer_relevancy': 0.3624}\",\n",
       "   'bert_f1': 0.6939957114224581,\n",
       "   'rouge_recall': 0.06122970526902739}},\n",
       " 'manually_written': {'k1': {'ragas_metrics': \"{'faithfulness': 0.6155, 'answer_relevancy': 0.2275}\",\n",
       "   'bert_f1': 0.7802428087008368,\n",
       "   'rouge_recall': 0.4965282977206334},\n",
       "  'k3': {'ragas_metrics': \"{'faithfulness': 0.7083, 'answer_relevancy': 0.2551}\",\n",
       "   'bert_f1': 0.7771168289725313,\n",
       "   'rouge_recall': 0.2768283007997209},\n",
       "  'k5': {'ragas_metrics': \"{'faithfulness': 0.7193, 'answer_relevancy': 0.3129}\",\n",
       "   'bert_f1': 0.7600550878908217,\n",
       "   'rouge_recall': 0.19617227356360534},\n",
       "  'k10': {'ragas_metrics': \"{'faithfulness': 0.7687, 'answer_relevancy': 0.2590}\",\n",
       "   'bert_f1': 0.7373118465094223,\n",
       "   'rouge_recall': 0.10869350934911355}}}"
      ]
     },
     "execution_count": 7,
     "metadata": {},
     "output_type": "execute_result"
    }
   ],
   "source": [
    "# file_path_contractnli = \"data/json_output/contractnli/gpt/evaluation_results.json\"\n",
    "# # file_path_cuad = \"data/json_output/cuad/llama3/evaluation_results.json\"\n",
    "# file_path_maud = \"data/json_output/maud/llama3/evaluation_results.json\"\n",
    "# file_path_privacy_qa = \"data/json_output/privacyqa/llama3/evaluation_results.json\"\n",
    "\n",
    "\n",
    "# file_path_contractnli = \"data/json_output/contractnli/llama3/evaluation_results.json\"\n",
    "# file_path_cuad = \"data/json_output/cuad/llama3/evaluation_results.json\"\n",
    "file_path_privacyqa = \"data/json_output/privacyqa/llama3/evaluation_results.json\"\n",
    "\n",
    "\n",
    "reorder_evaluation_results(file_path_privacyqa)\n",
    "# reorder_evaluation_results(file_path_cuad)\n",
    "# reorder_evaluation_results(file_path_maud)\n",
    "# reorder_evaluation_results(file_path_privacy_qa)\n",
    "\n"
   ]
  }
 ],
 "metadata": {
  "kernelspec": {
   "display_name": "response_gen_venv",
   "language": "python",
   "name": "python3"
  },
  "language_info": {
   "codemirror_mode": {
    "name": "ipython",
    "version": 3
   },
   "file_extension": ".py",
   "mimetype": "text/x-python",
   "name": "python",
   "nbconvert_exporter": "python",
   "pygments_lexer": "ipython3",
   "version": "3.11.9"
  }
 },
 "nbformat": 4,
 "nbformat_minor": 2
}
